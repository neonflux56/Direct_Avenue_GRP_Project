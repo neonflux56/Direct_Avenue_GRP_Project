{
 "cells": [
  {
   "cell_type": "code",
   "execution_count": 76,
   "metadata": {},
   "outputs": [],
   "source": [
    "import pickle\n",
    "import calendar\n",
    "import os\n",
    "import numpy as np\n",
    "import pandas as pd\n",
    "import statsmodels.api as sm\n",
    "import scipy.stats as stats\n",
    "import matplotlib.pyplot as plt\n",
    "import seaborn as sns\n",
    "import plotly\n",
    "import datetime\n",
    "from regressors import stats as s\n",
    "from dateutil import parser\n",
    "from itertools import compress\n",
    "\n",
    "from sklearn.linear_model import LinearRegression, RidgeCV, Ridge\n",
    "from sklearn.feature_selection import SelectFromModel\n",
    "from sklearn.metrics import mean_squared_error as MSE\n",
    "from sklearn.model_selection import GridSearchCV, train_test_split\n",
    "from sklearn.utils import shuffle\n",
    "\n",
    "from xgboost import XGBRegressor, DMatrix\n",
    "\n",
    "import warnings\n",
    "\n",
    "warnings.filterwarnings(\"ignore\")\n",
    "\n",
    "sns.set(rc={\"figure.figsize\": (11.7, 8.27)})"
   ]
  },
  {
   "cell_type": "code",
   "execution_count": 77,
   "metadata": {},
   "outputs": [],
   "source": [
    "dat = pd.read_csv(\"../cleaned_data.csv\")\n",
    "dat = dat.loc[:, \"Access\":]\n",
    "dat[\"Date Aired\"] = pd.to_datetime(dat[\"Date Aired\"], format=\"%Y-%m-%d\")\n",
    "dat[\"Time Aired\"] = pd.to_datetime(dat[\"Time Aired\"], format=\"%H:%M:%S\").dt.time"
   ]
  },
  {
   "cell_type": "code",
   "execution_count": 78,
   "metadata": {},
   "outputs": [
    {
     "data": {
      "text/plain": [
       "Index(['Access', 'DMA', 'Date Aired', 'Estimate', 'GRP', 'Impressions',\n",
       "       'Length', 'Market', 'Media', 'Spot Cost', 'Spot Type', 'Station ID',\n",
       "       'Time Aired', 'DOW', 'daypart', 'Q119', 'Q219', 'Q319', 'Q419', '15DC',\n",
       "       '15GD', '15PN', '30BP', '30DE', '30DP', '30GD', '30GX', '30PL', '30PM',\n",
       "       '30PT', '30SR', '30TN', '30VE', 'SV15',\n",
       "       'Cable                         ', 'DirecTV                       ',\n",
       "       'Dish Network                  ', 'National Network              ',\n",
       "       'Over-the-top content          ', 'Friday', 'Monday', 'Saturday',\n",
       "       'Sunday', 'Thursday', 'Tuesday', 'Wednesday', 'Daytime', 'Early Fringe',\n",
       "       'Late Fringe', 'Late Night', 'Morning', 'Overnight', 'Primetime',\n",
       "       'is_outlier'],\n",
       "      dtype='object')"
      ]
     },
     "execution_count": 78,
     "metadata": {},
     "output_type": "execute_result"
    }
   ],
   "source": [
    "outliers = pd.read_pickle('outlier_stations.pickle')\n",
    "\n",
    "outlier_stations = list(outliers.index.get_level_values('Station ID'))[0:12]\n",
    "outlier_stations\n",
    "\n",
    "dat = pd.concat([dat, pd.get_dummies(dat[\"Estimate\"])], axis=1)\n",
    "dat = pd.concat([dat, pd.get_dummies(dat[\"Access\"])], axis=1)\n",
    "dat = pd.concat([dat, pd.get_dummies(dat[\"Market\"])], axis=1)\n",
    "dat = pd.concat([dat, pd.get_dummies(dat[\"DOW\"])], axis=1)\n",
    "dat = pd.concat([dat, pd.get_dummies(dat[\"daypart\"])], axis=1)\n",
    "\n",
    "dat['is_outlier'] = np.where(np.isin(dat['Station ID'], outlier_stations), 1, 0)\n",
    "dat.columns"
   ]
  },
  {
   "cell_type": "code",
   "execution_count": 79,
   "metadata": {},
   "outputs": [
    {
     "data": {
      "text/plain": [
       "Index(['Access', 'DMA', 'Date_Aired', 'Estimate', 'GRP', 'Impressions',\n",
       "       'Length', 'Market', 'Media', 'Spot_Cost', 'Spot_Type', 'Station_ID',\n",
       "       'Time_Aired', 'DOW', 'daypart', 'Q119', 'Q219', 'Q319', 'Q419', '15DC',\n",
       "       '15GD', '15PN', '30BP', '30DE', '30DP', '30GD', '30GX', '30PL', '30PM',\n",
       "       '30PT', '30SR', '30TN', '30VE', 'SV15', 'Cable', 'DirecTV',\n",
       "       'Dish_Network', 'National_Network', 'Over-the-top_content', 'Friday',\n",
       "       'Monday', 'Saturday', 'Sunday', 'Thursday', 'Tuesday', 'Wednesday',\n",
       "       'Daytime', 'Early_Fringe', 'Late_Fringe', 'Late_Night', 'Morning',\n",
       "       'Overnight', 'Primetime', 'is_outlier'],\n",
       "      dtype='object')"
      ]
     },
     "execution_count": 79,
     "metadata": {},
     "output_type": "execute_result"
    }
   ],
   "source": [
    "dat = dat.rename(columns=lambda x: x.strip().replace(' ', '_'))\n",
    "dat.columns"
   ]
  },
  {
   "cell_type": "code",
   "execution_count": 80,
   "metadata": {},
   "outputs": [],
   "source": [
    "unseen = dat[(dat.Impressions.eq(0.0)) & (dat.GRP.eq(0.0))]\n",
    "training = dat[dat.Impressions > 0.0]\n",
    "\n",
    "labels = [\n",
    "        \"Length\",\n",
    "        \"Spot_Cost\",\n",
    "        \"Q119\",\n",
    "        \"Q219\",\n",
    "        \"Q319\",\n",
    "        \"Q419\",\n",
    "        \"15GD\",\n",
    "        \"15PN\",\n",
    "        \"30BP\",\n",
    "        \"30DE\",\n",
    "        \"30DP\",\n",
    "        \"30GD\",\n",
    "        \"30GX\",\n",
    "        \"30PL\",\n",
    "        \"30PM\",\n",
    "        \"30PT\",\n",
    "        \"30SR\",\n",
    "        \"30TN\",\n",
    "        \"30VE\",\n",
    "        \"SV15\",\n",
    "        \"Cable\", \n",
    "        \"DirecTV\",\n",
    "        \"Dish_Network\",\n",
    "        \"National_Network\",\n",
    "        \"Over-the-top_content\",\n",
    "        \"Monday\",\n",
    "        \"Sunday\",\n",
    "        \"Thursday\",\n",
    "        \"Tuesday\",\n",
    "        \"Wednesday\",\n",
    "        \"Daytime\", \n",
    "        \"Early_Fringe\",\n",
    "        \"Late_Fringe\",\n",
    "        \"Late_Night\",\n",
    "        \"Morning\",\n",
    "        \"Overnight\",\n",
    "        \"Primetime\",\n",
    "        \"is_outlier\"\n",
    "    ]\n",
    "\n",
    "X = training.loc[:,labels]\n",
    "y = training.loc[:, \"Impressions\"]\n",
    "X_train, X_test, y_train, y_test = train_test_split(X, y, test_size=0.25)"
   ]
  },
  {
   "cell_type": "markdown",
   "metadata": {},
   "source": [
    "## Ridge CV Tuning"
   ]
  },
  {
   "cell_type": "code",
   "execution_count": 81,
   "metadata": {},
   "outputs": [
    {
     "data": {
      "text/plain": [
       "0.4428296158643146"
      ]
     },
     "execution_count": 81,
     "metadata": {},
     "output_type": "execute_result"
    }
   ],
   "source": [
    "rcv = RidgeCV(alphas=[1e-3, 1e-4, 1e-1, 1, 10], normalize=True)\n",
    "rcv.fit(X_train, y_train)\n",
    "rcv.score(X_train, y_train)"
   ]
  },
  {
   "cell_type": "code",
   "execution_count": 82,
   "metadata": {},
   "outputs": [
    {
     "data": {
      "text/plain": [
       "{'alphas': array([1.e-03, 1.e-04, 1.e-01, 1.e+00, 1.e+01]),\n",
       " 'cv': None,\n",
       " 'fit_intercept': True,\n",
       " 'gcv_mode': None,\n",
       " 'normalize': True,\n",
       " 'scoring': None,\n",
       " 'store_cv_values': False}"
      ]
     },
     "execution_count": 82,
     "metadata": {},
     "output_type": "execute_result"
    }
   ],
   "source": [
    "rcv.get_params()"
   ]
  },
  {
   "cell_type": "code",
   "execution_count": 83,
   "metadata": {},
   "outputs": [],
   "source": [
    "preds_rcv = rcv.predict(X_test)"
   ]
  },
  {
   "cell_type": "markdown",
   "metadata": {},
   "source": [
    "## Ridge regression with SelectFromModel"
   ]
  },
  {
   "cell_type": "code",
   "execution_count": 84,
   "metadata": {},
   "outputs": [],
   "source": [
    "mse_list = []\n",
    "score_list = []\n",
    "a_list = []\n",
    "for a in [1e-10, 1e-9, 1e-8, 1e-7, 1e-6, 1e-5, 1e-4, 1e-3, 1e-2, 1e-1, 1, 10]:\n",
    "    ridge = Ridge(alpha=a, normalize=True, solver='sag', random_state=1234)\n",
    "    \n",
    "    ridge.fit(X_train, y_train)\n",
    "    preds = ridge.predict(X_test)\n",
    "    score_list.append(ridge.score(X_test, y_test))\n",
    "    mse_list.append(MSE(y_test, preds))\n",
    "    a_list.append(a)"
   ]
  },
  {
   "cell_type": "code",
   "execution_count": 85,
   "metadata": {},
   "outputs": [],
   "source": [
    "ridge_results = pd.DataFrame(list(zip(a_list, score_list, mse_list)), \n",
    "                             columns = ['Alpha', 'R2', 'MSE'])"
   ]
  },
  {
   "cell_type": "code",
   "execution_count": 86,
   "metadata": {},
   "outputs": [
    {
     "data": {
      "image/png": "[encoded data removed]",
      "text/plain": [
       "<Figure size 842.4x595.44 with 1 Axes>"
      ]
     },
     "metadata": {},
     "output_type": "display_data"
    }
   ],
   "source": [
    "line = sns.lineplot('Alpha', 'MSE', data=ridge_results)\n",
    "plt.show()"
   ]
  },
  {
   "cell_type": "code",
   "execution_count": 87,
   "metadata": {},
   "outputs": [
    {
     "data": {
      "image/png": "[encoded data removed]",
      "text/plain": [
       "<Figure size 842.4x595.44 with 1 Axes>"
      ]
     },
     "metadata": {},
     "output_type": "display_data"
    }
   ],
   "source": [
    "line = sns.lineplot('Alpha', 'R2', data=ridge_results)\n",
    "plt.show()"
   ]
  },
  {
   "cell_type": "code",
   "execution_count": 100,
   "metadata": {},
   "outputs": [
    {
     "data": {
      "text/html": [
       "<div>\n",
       "<style scoped>\n",
       "    .dataframe tbody tr th:only-of-type {\n",
       "        vertical-align: middle;\n",
       "    }\n",
       "\n",
       "    .dataframe tbody tr th {\n",
       "        vertical-align: top;\n",
       "    }\n",
       "\n",
       "    .dataframe thead th {\n",
       "        text-align: right;\n",
       "    }\n",
       "</style>\n",
       "<table border=\"1\" class=\"dataframe\">\n",
       "  <thead>\n",
       "    <tr style=\"text-align: right;\">\n",
       "      <th></th>\n",
       "      <th>0</th>\n",
       "      <th>1</th>\n",
       "      <th>2</th>\n",
       "    </tr>\n",
       "  </thead>\n",
       "  <tbody>\n",
       "    <tr>\n",
       "      <th>0</th>\n",
       "      <td>0.001</td>\n",
       "      <td>0.482991</td>\n",
       "      <td>1026.473897</td>\n",
       "    </tr>\n",
       "  </tbody>\n",
       "</table>\n",
       "</div>"
      ],
      "text/plain": [
       "       0         1            2\n",
       "0  0.001  0.482991  1026.473897"
      ]
     },
     "execution_count": 100,
     "metadata": {},
     "output_type": "execute_result"
    }
   ],
   "source": [
    "rcv_list = [rcv.alpha_, rcv.score(X_test, y_test), MSE(y_test, rcv.predict(X_test))]\n",
    "rcv_results = pd.DataFrame(rcv_list).transpose()\n",
    "rcv_results"
   ]
  },
  {
   "cell_type": "code",
   "execution_count": 101,
   "metadata": {},
   "outputs": [
    {
     "data": {
      "text/html": [
       "<div>\n",
       "<style scoped>\n",
       "    .dataframe tbody tr th:only-of-type {\n",
       "        vertical-align: middle;\n",
       "    }\n",
       "\n",
       "    .dataframe tbody tr th {\n",
       "        vertical-align: top;\n",
       "    }\n",
       "\n",
       "    .dataframe thead th {\n",
       "        text-align: right;\n",
       "    }\n",
       "</style>\n",
       "<table border=\"1\" class=\"dataframe\">\n",
       "  <thead>\n",
       "    <tr style=\"text-align: right;\">\n",
       "      <th></th>\n",
       "      <th>Alpha</th>\n",
       "      <th>R2</th>\n",
       "      <th>MSE</th>\n",
       "    </tr>\n",
       "  </thead>\n",
       "  <tbody>\n",
       "    <tr>\n",
       "      <th>0</th>\n",
       "      <td>1.000000e-10</td>\n",
       "      <td>0.482993</td>\n",
       "      <td>1026.469595</td>\n",
       "    </tr>\n",
       "  </tbody>\n",
       "</table>\n",
       "</div>"
      ],
      "text/plain": [
       "          Alpha        R2          MSE\n",
       "0  1.000000e-10  0.482993  1026.469595"
      ]
     },
     "execution_count": 101,
     "metadata": {},
     "output_type": "execute_result"
    }
   ],
   "source": [
    "ridge_results[ridge_results.MSE == ridge_results.MSE.min()]"
   ]
  },
  {
   "cell_type": "code",
   "execution_count": 102,
   "metadata": {},
   "outputs": [
    {
     "data": {
      "text/plain": [
       "array([False, False, False, False, False, False, False, False, False,\n",
       "       False, False, False, False, False, False, False, False, False,\n",
       "       False,  True, False,  True,  True,  True, False, False, False,\n",
       "       False, False, False, False, False, False,  True,  True,  True,\n",
       "       False,  True])"
      ]
     },
     "execution_count": 102,
     "metadata": {},
     "output_type": "execute_result"
    }
   ],
   "source": [
    "selector_ridge = SelectFromModel(estimator=Ridge(alpha=1.000000e-10, normalize=True)).fit(X_train, y_train)\n",
    "selector_ridge.get_support()"
   ]
  },
  {
   "cell_type": "code",
   "execution_count": 104,
   "metadata": {},
   "outputs": [],
   "source": [
    "selected_labels = list(compress(labels, list(selector_ridge.get_support())))\n",
    "selected_labels\n",
    "\n",
    "X_adj = training.loc[:,selected_labels]\n",
    "X_train_adj, X_test_adj, y_train_adj, y_test_adj = train_test_split(X_adj, y, test_size=0.25)"
   ]
  },
  {
   "cell_type": "markdown",
   "metadata": {},
   "source": [
    "#### Ridge Regression with selected predictors"
   ]
  },
  {
   "cell_type": "code",
   "execution_count": 106,
   "metadata": {},
   "outputs": [
    {
     "name": "stdout",
     "output_type": "stream",
     "text": [
      "0.2840171352312678\n",
      "2570.9133423147505\n"
     ]
    }
   ],
   "source": [
    "ridge_adjusted = Ridge(alpha=1.000000e-10, normalize=True)\n",
    "ridge_adjusted.fit(X_train_adj, y_train_adj)\n",
    "preds = ridge_adjusted.predict(X_test_adj)\n",
    "\n",
    "print(ridge_adjusted.score(X_test_adj, y_test_adj))\n",
    "print(MSE(y_test, preds))"
   ]
  },
  {
   "cell_type": "code",
   "execution_count": null,
   "metadata": {},
   "outputs": [],
   "source": []
  }
 ],
 "metadata": {
  "kernelspec": {
   "display_name": "Python 3",
   "language": "python",
   "name": "python3"
  },
  "language_info": {
   "codemirror_mode": {
    "name": "ipython",
    "version": 3
   },
   "file_extension": ".py",
   "mimetype": "text/x-python",
   "name": "python",
   "nbconvert_exporter": "python",
   "pygments_lexer": "ipython3",
   "version": "3.6.9"
  }
 },
 "nbformat": 4,
 "nbformat_minor": 4
}
