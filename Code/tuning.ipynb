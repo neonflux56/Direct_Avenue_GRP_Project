{
 "cells": [
  {
   "cell_type": "code",
   "execution_count": 1,
   "metadata": {},
   "outputs": [],
   "source": [
    "import pickle\n",
    "import calendar\n",
    "import os\n",
    "import regex as re\n",
    "import numpy as np\n",
    "import pandas as pd\n",
    "import statsmodels.api as sm\n",
    "import scipy.stats as stats\n",
    "import matplotlib.pyplot as plt\n",
    "import seaborn as sns\n",
    "import plotly\n",
    "import datetime\n",
    "from dateutil import parser\n",
    "from itertools import compress\n",
    "\n",
    "from sklearn.linear_model import LinearRegression, RidgeCV, Ridge\n",
    "from sklearn.feature_selection import SelectFromModel\n",
    "from sklearn.metrics import mean_squared_error as MSE\n",
    "from sklearn.model_selection import GridSearchCV, train_test_split\n",
    "from sklearn.utils import shuffle\n",
    "\n",
    "from xgboost import XGBRegressor, DMatrix\n",
    "\n",
    "import warnings\n",
    "\n",
    "warnings.filterwarnings(\"ignore\")\n",
    "\n",
    "sns.set(rc={\"figure.figsize\": (11.7, 8.27)})"
   ]
  },
  {
   "cell_type": "code",
   "execution_count": 3,
   "metadata": {},
   "outputs": [],
   "source": [
    "dat = pd.read_csv(\"../Data/cleaned_data.csv\")\n",
    "dat = dat.loc[:, \"Access\":]\n",
    "\n",
    "dat = dat.rename(columns={'Impression (000)': 'Impressions'})\n",
    "\n",
    "dat[\"Date Aired\"] = pd.to_datetime(dat[\"Date Aired\"]).dt.date\n",
    "dat[\"Time Aired\"] = pd.to_datetime(dat[\"Time Aired\"], format=\"%H:%M:%S\").dt.time\n",
    "\n",
    "hours = [x.hour for x in dat['Time Aired'].values]\n",
    "dat[\"Hours\"] = hours"
   ]
  },
  {
   "cell_type": "code",
   "execution_count": 4,
   "metadata": {},
   "outputs": [],
   "source": [
    "months = [int(x.strftime('%m')) for x in dat['Date Aired'].values]\n",
    "dat['Month'] = months\n",
    "bins = [1, 3, 6, 9, 12]\n",
    "labels = ['Q1', 'Q2', 'Q3', 'Q4']\n",
    "dat['Quarter'] = pd.cut(dat['Month'], bins, labels=labels)"
   ]
  },
  {
   "cell_type": "code",
   "execution_count": 5,
   "metadata": {},
   "outputs": [],
   "source": [
    "split_access = dat['Access'].str.split('(^[0-9]{2})|(^[A-Z]{2})')\n",
    "\n",
    "creative_list = []\n",
    "for x in split_access:\n",
    "    if x[1] is None:\n",
    "        creative_list.append(x[2])\n",
    "    else:\n",
    "        creative_list.append(x[3])\n",
    "        \n",
    "dat['creative'] = creative_list"
   ]
  },
  {
   "cell_type": "code",
   "execution_count": 6,
   "metadata": {},
   "outputs": [],
   "source": [
    "outliers = pd.read_pickle('outlier_stations.pickle')\n",
    "outlier_df = pd.DataFrame(outliers).reset_index()\n",
    "outlier_df['bins'] = pd.qcut(outlier_df['Station ID'], q=5, labels = [1, 2, 3, 4, 5])\n",
    "outlier_df.drop(0, axis=1, inplace=True)\n",
    "\n",
    "outlier_stations = list(outliers.index.get_level_values('Station ID'))[0:12]\n",
    "dat['is_outlier'] = np.where(np.isin(dat['Station ID'], outlier_stations), 1, 0)\n",
    "dat = dat.join(outlier_df, on='Station ID', how='left', rsuffix='_')\n",
    "dat['bins'] = dat['bins'].replace(np.nan, 0)\n",
    "\n",
    "dat = pd.concat([dat, pd.get_dummies(dat['bins'])], axis=1)\n",
    "dat = pd.concat([dat, pd.get_dummies(dat['creative'])], axis=1)\n",
    "dat = pd.concat([dat, pd.get_dummies(dat[\"Estimate\"])], axis=1)\n",
    "dat = pd.concat([dat, pd.get_dummies(dat[\"Market\"])], axis=1)\n",
    "dat = pd.concat([dat, pd.get_dummies(dat[\"DOW\"])], axis=1)\n",
    "dat = pd.concat([dat, pd.get_dummies(dat['Quarter'])], axis=1)\n",
    "dat = pd.concat([dat, pd.get_dummies(dat[\"daypart\"])], axis=1)"
   ]
  },
  {
   "cell_type": "code",
   "execution_count": 7,
   "metadata": {},
   "outputs": [
    {
     "data": {
      "text/plain": [
       "Index(['Access', 'DMA', 'Date_Aired', 'Estimate', 'GRP', 'Impressions',\n",
       "       'Length', 'Market', 'Media', 'Spot_Cost', 'Spot_Type', 'Station_ID',\n",
       "       'Time_Aired', 'DOW', 'daypart', 'Hours', 'Month', 'Quarter', 'creative',\n",
       "       'is_outlier', 'Station_ID_', 'bins', 'bin_0', 'bin_1', 'bin_2', 'bin_3',\n",
       "       'bin_4', 'bin_5', 'BP', 'DC', 'DE', 'DP', 'GD', 'GX', 'PL', 'PM', 'PN',\n",
       "       'PT', 'SR', 'SV', 'TN', 'VE', 'Q119', 'Q219', 'Q319', 'Q419', 'Cable',\n",
       "       'DirecTV', 'Dish_Network', 'National_Network', 'Over-the-top_content',\n",
       "       'Friday', 'Monday', 'Saturday', 'Sunday', 'Thursday', 'Tuesday',\n",
       "       'Wednesday', 'Q1', 'Q2', 'Q3', 'Q4', 'Daytime', 'Early_Fringe',\n",
       "       'Late_Fringe', 'Late_Night', 'Morning', 'Overnight', 'Primetime',\n",
       "       'midnight', 'one_am', 'two_am', 'three_am', 'four_am', 'five_am',\n",
       "       'six_am', 'seven_am', 'eight_am', 'nine_am', 'ten_am', 'eleven_am',\n",
       "       'noon', 'one_pm', 'two_pm', 'three_pm', 'four_pm', 'five_pm', 'six_pm',\n",
       "       'seven_pm', 'eight_pm', 'nine_pm', 'ten_pm', 'eleven_pm'],\n",
       "      dtype='object')"
      ]
     },
     "execution_count": 7,
     "metadata": {},
     "output_type": "execute_result"
    }
   ],
   "source": [
    "dat = dat.rename(columns={0.0: 'bin_0', 1.0: 'bin_1', 2.0: 'bin_2', 3.0: 'bin_3', 4.0: 'bin_4', 5.0: 'bin_5'})\n",
    "dat = dat.rename(columns=lambda x: x.strip().replace(' ', '_'))\n",
    "\n",
    "dat = pd.concat([dat, pd.get_dummies(dat['Hours'])], axis=1)\n",
    "dat = dat.rename(columns={0: 'midnight', 1: 'one_am', 2: 'two_am', 3: 'three_am', 4: 'four_am', 5: 'five_am',\n",
    "                          6: 'six_am', 7: 'seven_am', 8: 'eight_am', 9: 'nine_am', 10: 'ten_am', 11: 'eleven_am',\n",
    "                          12: 'noon', 13: 'one_pm', 14: 'two_pm', 15: 'three_pm', 16: 'four_pm', 17: 'five_pm',\n",
    "                          18: 'six_pm', 19: 'seven_pm', 20: 'eight_pm', 21: 'nine_pm', 22: 'ten_pm', 23: 'eleven_pm'})\n",
    "dat.columns"
   ]
  },
  {
   "cell_type": "code",
   "execution_count": 8,
   "metadata": {},
   "outputs": [],
   "source": [
    "def active_flag(row):    \n",
    "    flag_list = [10, 280, 252, 55]\n",
    "\n",
    "    if row['Station_ID'] in flag_list and np.isnan(row['Impressions']):\n",
    "        return(1)\n",
    "    else:\n",
    "        return(0)\n",
    "    \n",
    "dat['active_flag'] = dat.apply(active_flag, axis=1)"
   ]
  },
  {
   "cell_type": "code",
   "execution_count": 9,
   "metadata": {},
   "outputs": [],
   "source": [
    "dat.to_csv('../Data/dat_features.csv')"
   ]
  },
  {
   "cell_type": "code",
   "execution_count": 177,
   "metadata": {},
   "outputs": [],
   "source": [
    "unseen = dat[(dat.Impressions.eq(0.0)) & (dat.GRP.eq(0.0)) | (dat.active_flag.eq(1))]\n",
    "training = dat[dat.Impressions > 0.0]"
   ]
  },
  {
   "cell_type": "code",
   "execution_count": 13,
   "metadata": {},
   "outputs": [
    {
     "ename": "NameError",
     "evalue": "name 'training' is not defined",
     "output_type": "error",
     "traceback": [
      "\u001b[1;31m---------------------------------------------------------------------------\u001b[0m",
      "\u001b[1;31mNameError\u001b[0m                                 Traceback (most recent call last)",
      "\u001b[1;32m<ipython-input-13-16c75a0f7203>\u001b[0m in \u001b[0;36m<module>\u001b[1;34m\u001b[0m\n\u001b[0;32m     25\u001b[0m     ]\n\u001b[0;32m     26\u001b[0m \u001b[1;33m\u001b[0m\u001b[0m\n\u001b[1;32m---> 27\u001b[1;33m \u001b[0mX\u001b[0m \u001b[1;33m=\u001b[0m \u001b[0mtraining\u001b[0m\u001b[1;33m.\u001b[0m\u001b[0mloc\u001b[0m\u001b[1;33m[\u001b[0m\u001b[1;33m:\u001b[0m\u001b[1;33m,\u001b[0m\u001b[0mlabels\u001b[0m\u001b[1;33m]\u001b[0m\u001b[1;33m\u001b[0m\u001b[1;33m\u001b[0m\u001b[0m\n\u001b[0m\u001b[0;32m     28\u001b[0m \u001b[0my\u001b[0m \u001b[1;33m=\u001b[0m \u001b[0mtraining\u001b[0m\u001b[1;33m.\u001b[0m\u001b[0mloc\u001b[0m\u001b[1;33m[\u001b[0m\u001b[1;33m:\u001b[0m\u001b[1;33m,\u001b[0m \u001b[1;34m\"Impressions\"\u001b[0m\u001b[1;33m]\u001b[0m\u001b[1;33m\u001b[0m\u001b[1;33m\u001b[0m\u001b[0m\n\u001b[0;32m     29\u001b[0m \u001b[0mX_train\u001b[0m\u001b[1;33m,\u001b[0m \u001b[0mX_test\u001b[0m\u001b[1;33m,\u001b[0m \u001b[0my_train\u001b[0m\u001b[1;33m,\u001b[0m \u001b[0my_test\u001b[0m \u001b[1;33m=\u001b[0m \u001b[0mtrain_test_split\u001b[0m\u001b[1;33m(\u001b[0m\u001b[0mX\u001b[0m\u001b[1;33m,\u001b[0m \u001b[0my\u001b[0m\u001b[1;33m,\u001b[0m \u001b[0mtest_size\u001b[0m\u001b[1;33m=\u001b[0m\u001b[1;36m0.30\u001b[0m\u001b[1;33m)\u001b[0m\u001b[1;33m\u001b[0m\u001b[1;33m\u001b[0m\u001b[0m\n",
      "\u001b[1;31mNameError\u001b[0m: name 'training' is not defined"
     ]
    }
   ],
   "source": [
    "labels = [\n",
    "        \"Length\",\n",
    "        \"Spot_Cost\",\n",
    "        \"Cable\", \n",
    "        \"DirecTV\",\n",
    "        \"Dish_Network\",\n",
    "        \"National_Network\",\n",
    "        \"Over-the-top_content\",\n",
    "        \"Monday\",\n",
    "        \"Tuesday\",\n",
    "        \"Wednesday\",\n",
    "        \"Thursday\",\n",
    "        \"Friday\",\n",
    "        \"Saturday\",\n",
    "        \"Sunday\",\n",
    "        'bin_1', 'bin_2',                \n",
    "        'bin_3', 'bin_4', 'bin_5',\n",
    "        'midnight', 'one_am', 'two_am', 'three_am', 'four_am', \n",
    "        'five_am', 'six_am', 'seven_am', 'eight_am', 'nine_am', \n",
    "        'ten_am', 'eleven_am', 'noon', 'one_pm', 'two_pm',\n",
    "        'three_pm', 'four_pm', 'five_pm', 'six_pm', 'seven_pm', \n",
    "        'eight_pm', 'nine_pm', 'ten_pm', 'eleven_pm'\n",
    "    ]\n",
    "\n",
    "X = training.loc[:,labels]\n",
    "y = training.loc[:, \"Impressions\"]\n",
    "X_train, X_test, y_train, y_test = train_test_split(X, y, test_size=0.30)"
   ]
  },
  {
   "cell_type": "code",
   "execution_count": 181,
   "metadata": {},
   "outputs": [],
   "source": [
    "X_train.fillna(0, inplace=True)\n",
    "X_test.fillna(0, inplace=True)"
   ]
  },
  {
   "cell_type": "markdown",
   "metadata": {},
   "source": [
    "## Ridge CV Tuning"
   ]
  },
  {
   "cell_type": "code",
   "execution_count": 182,
   "metadata": {},
   "outputs": [
    {
     "data": {
      "text/plain": [
       "0.22415290196870274"
      ]
     },
     "execution_count": 182,
     "metadata": {},
     "output_type": "execute_result"
    }
   ],
   "source": [
    "rcv = RidgeCV(alphas=[1e-10, 1e-9, 1e-8, 1e-7, 1e-6, 1e-5, 1e-4, 1e-3, 1e-2, 1e-1, 1, 10], normalize=True)\n",
    "rcv.fit(X_train, y_train)\n",
    "rcv.score(X_train, y_train)"
   ]
  },
  {
   "cell_type": "code",
   "execution_count": 169,
   "metadata": {},
   "outputs": [
    {
     "data": {
      "text/plain": [
       "{'alphas': array([1.e-10, 1.e-09, 1.e-08, 1.e-07, 1.e-06, 1.e-05, 1.e-04, 1.e-03,\n",
       "        1.e-02, 1.e-01, 1.e+00, 1.e+01]),\n",
       " 'cv': None,\n",
       " 'fit_intercept': True,\n",
       " 'gcv_mode': None,\n",
       " 'normalize': True,\n",
       " 'scoring': None,\n",
       " 'store_cv_values': False}"
      ]
     },
     "execution_count": 169,
     "metadata": {},
     "output_type": "execute_result"
    }
   ],
   "source": [
    "rcv.get_params()"
   ]
  },
  {
   "cell_type": "code",
   "execution_count": 170,
   "metadata": {},
   "outputs": [],
   "source": [
    "preds_rcv = rcv.predict(X_test)"
   ]
  },
  {
   "cell_type": "markdown",
   "metadata": {},
   "source": [
    "## Ridge regression with SelectFromModel"
   ]
  },
  {
   "cell_type": "code",
   "execution_count": 171,
   "metadata": {},
   "outputs": [],
   "source": [
    "mse_list = []\n",
    "rmse_list = []\n",
    "score_list = []\n",
    "a_list = []\n",
    "for a in [1e-10, 1e-9, 1e-8, 1e-7, 1e-6, 1e-5, 1e-4, 1e-3, 1e-2, 1e-1, 1, 10]:\n",
    "    ridge = Ridge(alpha=a, normalize=True, solver='sag', random_state=1234)\n",
    "    \n",
    "    ridge.fit(X_train, y_train)\n",
    "    preds = ridge.predict(X_test)\n",
    "    score_list.append(ridge.score(X_test, y_test))\n",
    "    mse_list.append(MSE(y_test, preds))\n",
    "    rmse_list.append(np.sqrt(MSE(y_test, preds)))\n",
    "    a_list.append(a)"
   ]
  },
  {
   "cell_type": "code",
   "execution_count": 172,
   "metadata": {},
   "outputs": [],
   "source": [
    "ridge_results = pd.DataFrame(list(zip(a_list, score_list, mse_list, rmse_list)), \n",
    "                             columns = ['Alpha', 'R2', 'MSE', 'RMSE'])"
   ]
  },
  {
   "cell_type": "code",
   "execution_count": 173,
   "metadata": {},
   "outputs": [
    {
     "data": {
      "image/png": "[encoded data removed]",
      "text/plain": [
       "<Figure size 842.4x595.44 with 1 Axes>"
      ]
     },
     "metadata": {},
     "output_type": "display_data"
    }
   ],
   "source": [
    "line = sns.lineplot('Alpha', 'MSE', data=ridge_results)\n",
    "plt.show()"
   ]
  },
  {
   "cell_type": "code",
   "execution_count": 174,
   "metadata": {},
   "outputs": [
    {
     "data": {
      "image/png": "[encoded data removed]",
      "text/plain": [
       "<Figure size 842.4x595.44 with 1 Axes>"
      ]
     },
     "metadata": {},
     "output_type": "display_data"
    }
   ],
   "source": [
    "line = sns.lineplot('Alpha', 'R2', data=ridge_results)\n",
    "plt.show()"
   ]
  },
  {
   "cell_type": "code",
   "execution_count": 175,
   "metadata": {},
   "outputs": [
    {
     "data": {
      "text/html": [
       "<div>\n",
       "<style scoped>\n",
       "    .dataframe tbody tr th:only-of-type {\n",
       "        vertical-align: middle;\n",
       "    }\n",
       "\n",
       "    .dataframe tbody tr th {\n",
       "        vertical-align: top;\n",
       "    }\n",
       "\n",
       "    .dataframe thead th {\n",
       "        text-align: right;\n",
       "    }\n",
       "</style>\n",
       "<table border=\"1\" class=\"dataframe\">\n",
       "  <thead>\n",
       "    <tr style=\"text-align: right;\">\n",
       "      <th></th>\n",
       "      <th>0</th>\n",
       "      <th>1</th>\n",
       "      <th>2</th>\n",
       "      <th>3</th>\n",
       "    </tr>\n",
       "  </thead>\n",
       "  <tbody>\n",
       "    <tr>\n",
       "      <th>0</th>\n",
       "      <td>0.1</td>\n",
       "      <td>0.175976</td>\n",
       "      <td>2611.7051</td>\n",
       "      <td>51.104844</td>\n",
       "    </tr>\n",
       "  </tbody>\n",
       "</table>\n",
       "</div>"
      ],
      "text/plain": [
       "     0         1          2          3\n",
       "0  0.1  0.175976  2611.7051  51.104844"
      ]
     },
     "execution_count": 175,
     "metadata": {},
     "output_type": "execute_result"
    }
   ],
   "source": [
    "rcv_list = [rcv.alpha_, rcv.score(X_test, y_test), MSE(y_test, rcv.predict(X_test)), np.sqrt(MSE(y_test, rcv.predict(X_test)))]\n",
    "rcv_results = pd.DataFrame(rcv_list).transpose()\n",
    "rcv_results"
   ]
  },
  {
   "cell_type": "code",
   "execution_count": 176,
   "metadata": {},
   "outputs": [
    {
     "data": {
      "text/html": [
       "<div>\n",
       "<style scoped>\n",
       "    .dataframe tbody tr th:only-of-type {\n",
       "        vertical-align: middle;\n",
       "    }\n",
       "\n",
       "    .dataframe tbody tr th {\n",
       "        vertical-align: top;\n",
       "    }\n",
       "\n",
       "    .dataframe thead th {\n",
       "        text-align: right;\n",
       "    }\n",
       "</style>\n",
       "<table border=\"1\" class=\"dataframe\">\n",
       "  <thead>\n",
       "    <tr style=\"text-align: right;\">\n",
       "      <th></th>\n",
       "      <th>Alpha</th>\n",
       "      <th>R2</th>\n",
       "      <th>MSE</th>\n",
       "      <th>RMSE</th>\n",
       "    </tr>\n",
       "  </thead>\n",
       "  <tbody>\n",
       "    <tr>\n",
       "      <th>0</th>\n",
       "      <td>1.000000e-10</td>\n",
       "      <td>0.177985</td>\n",
       "      <td>2605.339225</td>\n",
       "      <td>51.042524</td>\n",
       "    </tr>\n",
       "  </tbody>\n",
       "</table>\n",
       "</div>"
      ],
      "text/plain": [
       "          Alpha        R2          MSE       RMSE\n",
       "0  1.000000e-10  0.177985  2605.339225  51.042524"
      ]
     },
     "execution_count": 176,
     "metadata": {},
     "output_type": "execute_result"
    }
   ],
   "source": [
    "ridge_results[ridge_results.MSE == ridge_results.MSE.min()]"
   ]
  },
  {
   "cell_type": "code",
   "execution_count": 165,
   "metadata": {},
   "outputs": [
    {
     "data": {
      "text/plain": [
       "array([False, False, False, False, False, False, False, False, False,\n",
       "       False, False, False, False, False, False, False, False,  True,\n",
       "       False,  True, False,  True,  True,  True, False, False, False,\n",
       "       False, False, False, False, False, False,  True, False, False,\n",
       "       False, False, False,  True,  True,  True,  True,  True,  True,\n",
       "        True,  True, False, False, False, False, False, False, False,\n",
       "       False, False, False, False, False, False,  True,  True, False])"
      ]
     },
     "execution_count": 165,
     "metadata": {},
     "output_type": "execute_result"
    }
   ],
   "source": [
    "selector_ridge = SelectFromModel(estimator=Ridge(alpha=1.000000e-10, normalize=True)).fit(X_train, y_train)\n",
    "selector_ridge.get_support()"
   ]
  },
  {
   "cell_type": "code",
   "execution_count": 166,
   "metadata": {},
   "outputs": [],
   "source": [
    "selected_labels = list(compress(labels, list(selector_ridge.get_support())))\n",
    "selected_labels\n",
    "\n",
    "X_adj = training.loc[:,selected_labels]\n",
    "X_train_adj, X_test_adj, y_train_adj, y_test_adj = train_test_split(X_adj, y, test_size=0.25)"
   ]
  },
  {
   "cell_type": "markdown",
   "metadata": {},
   "source": [
    "#### Ridge Regression with selected predictors"
   ]
  },
  {
   "cell_type": "code",
   "execution_count": 167,
   "metadata": {},
   "outputs": [
    {
     "name": "stdout",
     "output_type": "stream",
     "text": [
      "0.21159280634672784\n",
      "1611.631719477657\n"
     ]
    }
   ],
   "source": [
    "ridge_adjusted = Ridge(alpha=1.000000e-10, normalize=True)\n",
    "ridge_adjusted.fit(X_train_adj, y_train_adj)\n",
    "preds = ridge_adjusted.predict(X_test_adj)\n",
    "\n",
    "print(ridge_adjusted.score(X_test_adj, y_test_adj))\n",
    "print(MSE(y_test_adj, preds))"
   ]
  },
  {
   "cell_type": "code",
   "execution_count": 168,
   "metadata": {},
   "outputs": [
    {
     "name": "stdout",
     "output_type": "stream",
     "text": [
      "40.14513319790653\n"
     ]
    }
   ],
   "source": [
    "print(np.sqrt(MSE(y_test_adj, preds)))"
   ]
  },
  {
   "cell_type": "code",
   "execution_count": null,
   "metadata": {},
   "outputs": [],
   "source": []
  }
 ],
 "metadata": {
  "kernelspec": {
   "display_name": "Python 3",
   "language": "python",
   "name": "python3"
  },
  "language_info": {
   "codemirror_mode": {
    "name": "ipython",
    "version": 3
   },
   "file_extension": ".py",
   "mimetype": "text/x-python",
   "name": "python",
   "nbconvert_exporter": "python",
   "pygments_lexer": "ipython3",
   "version": "3.8.1"
  }
 },
 "nbformat": 4,
 "nbformat_minor": 4
}
