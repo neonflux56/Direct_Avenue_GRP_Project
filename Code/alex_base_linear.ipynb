{
 "cells": [
  {
   "cell_type": "code",
   "execution_count": 31,
   "metadata": {},
   "outputs": [],
   "source": [
    "import pickle\n",
    "import calendar\n",
    "import os\n",
    "import regex as re\n",
    "import numpy as np\n",
    "import pandas as pd\n",
    "import statsmodels.api as sm\n",
    "import scipy.stats as stats\n",
    "import matplotlib.pyplot as plt\n",
    "import seaborn as sns\n",
    "import datetime\n",
    "from dateutil import parser\n",
    "from itertools import compress\n",
    "\n",
    "from sklearn.linear_model import LinearRegression, RidgeCV, Ridge\n",
    "from sklearn.feature_selection import SelectFromModel\n",
    "from sklearn.metrics import mean_squared_error as MSE\n",
    "from sklearn.model_selection import GridSearchCV, train_test_split\n",
    "from sklearn.utils import shuffle\n",
    "from sklearn.preprocessing import MinMaxScaler\n",
    "\n",
    "from xgboost import XGBRegressor, DMatrix\n",
    "\n",
    "import warnings\n",
    "\n",
    "warnings.filterwarnings(\"ignore\")\n",
    "\n",
    "sns.set(rc={\"figure.figsize\": (11.7, 8.27)})"
   ]
  },
  {
   "cell_type": "code",
   "execution_count": 2,
   "metadata": {},
   "outputs": [],
   "source": [
    "dat = pd.read_csv('../Data/dat_features.csv')"
   ]
  },
  {
   "cell_type": "code",
   "execution_count": 3,
   "metadata": {},
   "outputs": [],
   "source": [
    "unseen = dat[dat.Impressions.eq(0.0)]\n",
    "training = dat[dat.Impressions != 0.0]"
   ]
  },
  {
   "cell_type": "code",
   "execution_count": 5,
   "metadata": {},
   "outputs": [],
   "source": [
    "labels = [\n",
    "        'Impressions',\n",
    "        'Q119', 'Q219',\n",
    "        'Q319', 'Q419',\n",
    "        'BP', 'DC', 'DE', 'DP',\n",
    "        'GD', 'GX', 'PL', 'PM',\n",
    "        'PN', 'PT', 'SR', 'SV',\n",
    "        'TN', 'VE',\n",
    "        \"Length\",\n",
    "        \"Spot_Cost\",\n",
    "        \"Cable\",\n",
    "        \"DirecTV\",\n",
    "        \"Dish_Network\",\n",
    "        \"National_Network\",\n",
    "        \"Over-the-top_content\",\n",
    "        'Q1', 'Q2', 'Q3', 'Q4',\n",
    "        'bin_1', 'bin_2',\n",
    "        'bin_3', 'bin_4', 'bin_5',\n",
    "        'Daytime', 'Early_Fringe',\n",
    "        'Late_Fringe', 'Late_Night',\n",
    "        'Morning', 'Overnight',\n",
    "        'Primetime',\n",
    "        'midnight', 'one_am', 'two_am', 'three_am', 'four_am', 'five_am',\n",
    "        'six_am', 'seven_am', 'eight_am', 'nine_am', 'ten_am', 'eleven_am',\n",
    "        'noon', 'one_pm', 'two_pm', 'three_pm', 'four_pm', 'five_pm', 'six_pm',\n",
    "        'seven_pm', 'eight_pm', 'nine_pm', 'ten_pm', 'eleven_pm'\n",
    "    ]\n",
    "\n",
    "X = training.loc[:,labels]\n",
    "y = training.loc[:, 'absolute_audience_size']\n",
    "X_train, X_test, y_train, y_test = train_test_split(X, y, test_size=0.30)"
   ]
  },
  {
   "cell_type": "markdown",
   "metadata": {},
   "source": [
    "## Base Linear Model"
   ]
  },
  {
   "cell_type": "code",
   "execution_count": 11,
   "metadata": {},
   "outputs": [
    {
     "data": {
      "text/plain": [
       "count    682634.000000\n",
       "mean          0.157112\n",
       "std           1.087252\n",
       "min           0.000000\n",
       "25%           0.000000\n",
       "50%           0.000000\n",
       "75%           0.000000\n",
       "max          72.912000\n",
       "Name: absolute_audience_size, dtype: float64"
      ]
     },
     "execution_count": 11,
     "metadata": {},
     "output_type": "execute_result"
    }
   ],
   "source": [
    "dat.describe()['absolute_audience_size'].transpose()"
   ]
  },
  {
   "cell_type": "code",
   "execution_count": 12,
   "metadata": {},
   "outputs": [
    {
     "name": "stdout",
     "output_type": "stream",
     "text": [
      "2.04613537590662\n",
      "1.4304318843994706\n"
     ]
    }
   ],
   "source": [
    "lr = sm.OLS(y_train, X_train).fit()\n",
    "\n",
    "lr_preds = lr.predict(X_test)\n",
    "\n",
    "lr_mse = MSE(y_test, lr_preds)\n",
    "print(lr_mse)\n",
    "print(np.sqrt(lr_mse))"
   ]
  },
  {
   "cell_type": "code",
   "execution_count": 13,
   "metadata": {},
   "outputs": [
    {
     "data": {
      "text/html": [
       "<table class=\"simpletable\">\n",
       "<caption>OLS Regression Results</caption>\n",
       "<tr>\n",
       "  <th>Dep. Variable:</th>    <td>absolute_audience_size</td> <th>  R-squared:         </th> <td>   0.794</td> \n",
       "</tr>\n",
       "<tr>\n",
       "  <th>Model:</th>                      <td>OLS</td>          <th>  Adj. R-squared:    </th> <td>   0.794</td> \n",
       "</tr>\n",
       "<tr>\n",
       "  <th>Method:</th>                <td>Least Squares</td>     <th>  F-statistic:       </th> <td>   4042.</td> \n",
       "</tr>\n",
       "<tr>\n",
       "  <th>Date:</th>                <td>Fri, 10 Apr 2020</td>    <th>  Prob (F-statistic):</th>  <td>  0.00</td>  \n",
       "</tr>\n",
       "<tr>\n",
       "  <th>Time:</th>                    <td>20:05:05</td>        <th>  Log-Likelihood:    </th> <td> -94412.</td> \n",
       "</tr>\n",
       "<tr>\n",
       "  <th>No. Observations:</th>         <td> 55638</td>         <th>  AIC:               </th> <td>1.889e+05</td>\n",
       "</tr>\n",
       "<tr>\n",
       "  <th>Df Residuals:</th>             <td> 55584</td>         <th>  BIC:               </th> <td>1.894e+05</td>\n",
       "</tr>\n",
       "<tr>\n",
       "  <th>Df Model:</th>                 <td>    53</td>         <th>                     </th>     <td> </td>    \n",
       "</tr>\n",
       "<tr>\n",
       "  <th>Covariance Type:</th>         <td>nonrobust</td>       <th>                     </th>     <td> </td>    \n",
       "</tr>\n",
       "</table>\n",
       "<table class=\"simpletable\">\n",
       "<tr>\n",
       "            <td></td>              <th>coef</th>     <th>std err</th>      <th>t</th>      <th>P>|t|</th>  <th>[0.025</th>    <th>0.975]</th>  \n",
       "</tr>\n",
       "<tr>\n",
       "  <th>Impressions</th>          <td>    0.0434</td> <td>    0.000</td> <td>  257.566</td> <td> 0.000</td> <td>    0.043</td> <td>    0.044</td>\n",
       "</tr>\n",
       "<tr>\n",
       "  <th>Q119</th>                 <td>   -0.5805</td> <td>    0.081</td> <td>   -7.129</td> <td> 0.000</td> <td>   -0.740</td> <td>   -0.421</td>\n",
       "</tr>\n",
       "<tr>\n",
       "  <th>Q219</th>                 <td>   -0.6475</td> <td>    0.041</td> <td>  -15.942</td> <td> 0.000</td> <td>   -0.727</td> <td>   -0.568</td>\n",
       "</tr>\n",
       "<tr>\n",
       "  <th>Q319</th>                 <td>   -1.1608</td> <td>    0.134</td> <td>   -8.672</td> <td> 0.000</td> <td>   -1.423</td> <td>   -0.898</td>\n",
       "</tr>\n",
       "<tr>\n",
       "  <th>Q419</th>                 <td>   -1.2418</td> <td>    0.113</td> <td>  -10.975</td> <td> 0.000</td> <td>   -1.464</td> <td>   -1.020</td>\n",
       "</tr>\n",
       "<tr>\n",
       "  <th>BP</th>                   <td>   -0.5259</td> <td>    0.049</td> <td>  -10.678</td> <td> 0.000</td> <td>   -0.622</td> <td>   -0.429</td>\n",
       "</tr>\n",
       "<tr>\n",
       "  <th>DC</th>                   <td>   -0.3176</td> <td>    0.086</td> <td>   -3.707</td> <td> 0.000</td> <td>   -0.486</td> <td>   -0.150</td>\n",
       "</tr>\n",
       "<tr>\n",
       "  <th>DE</th>                   <td>   -0.2393</td> <td>    0.101</td> <td>   -2.363</td> <td> 0.018</td> <td>   -0.438</td> <td>   -0.041</td>\n",
       "</tr>\n",
       "<tr>\n",
       "  <th>DP</th>                   <td>   -0.5813</td> <td>    0.037</td> <td>  -15.839</td> <td> 0.000</td> <td>   -0.653</td> <td>   -0.509</td>\n",
       "</tr>\n",
       "<tr>\n",
       "  <th>GD</th>                   <td>   -0.3599</td> <td>    0.029</td> <td>  -12.611</td> <td> 0.000</td> <td>   -0.416</td> <td>   -0.304</td>\n",
       "</tr>\n",
       "<tr>\n",
       "  <th>GX</th>                   <td>   -0.3621</td> <td>    0.039</td> <td>   -9.323</td> <td> 0.000</td> <td>   -0.438</td> <td>   -0.286</td>\n",
       "</tr>\n",
       "<tr>\n",
       "  <th>PL</th>                   <td>   -0.1805</td> <td>    0.078</td> <td>   -2.327</td> <td> 0.020</td> <td>   -0.333</td> <td>   -0.028</td>\n",
       "</tr>\n",
       "<tr>\n",
       "  <th>PM</th>                   <td>   -0.3577</td> <td>    0.038</td> <td>   -9.537</td> <td> 0.000</td> <td>   -0.431</td> <td>   -0.284</td>\n",
       "</tr>\n",
       "<tr>\n",
       "  <th>PN</th>                   <td>    0.0020</td> <td>    0.083</td> <td>    0.024</td> <td> 0.981</td> <td>   -0.161</td> <td>    0.165</td>\n",
       "</tr>\n",
       "<tr>\n",
       "  <th>PT</th>                   <td>   -0.5081</td> <td>    0.030</td> <td>  -17.157</td> <td> 0.000</td> <td>   -0.566</td> <td>   -0.450</td>\n",
       "</tr>\n",
       "<tr>\n",
       "  <th>SR</th>                   <td>   -0.2226</td> <td>    0.052</td> <td>   -4.320</td> <td> 0.000</td> <td>   -0.324</td> <td>   -0.122</td>\n",
       "</tr>\n",
       "<tr>\n",
       "  <th>SV</th>                   <td>    0.8716</td> <td>    0.103</td> <td>    8.477</td> <td> 0.000</td> <td>    0.670</td> <td>    1.073</td>\n",
       "</tr>\n",
       "<tr>\n",
       "  <th>TN</th>                   <td>   -0.5264</td> <td>    0.092</td> <td>   -5.694</td> <td> 0.000</td> <td>   -0.708</td> <td>   -0.345</td>\n",
       "</tr>\n",
       "<tr>\n",
       "  <th>VE</th>                   <td>   -0.3228</td> <td>    0.066</td> <td>   -4.904</td> <td> 0.000</td> <td>   -0.452</td> <td>   -0.194</td>\n",
       "</tr>\n",
       "<tr>\n",
       "  <th>Length</th>               <td>    0.0037</td> <td>    0.003</td> <td>    1.072</td> <td> 0.284</td> <td>   -0.003</td> <td>    0.010</td>\n",
       "</tr>\n",
       "<tr>\n",
       "  <th>Spot_Cost</th>            <td>    0.0031</td> <td> 3.02e-05</td> <td>  102.360</td> <td> 0.000</td> <td>    0.003</td> <td>    0.003</td>\n",
       "</tr>\n",
       "<tr>\n",
       "  <th>Cable</th>                <td>    1.5633</td> <td>    0.081</td> <td>   19.282</td> <td> 0.000</td> <td>    1.404</td> <td>    1.722</td>\n",
       "</tr>\n",
       "<tr>\n",
       "  <th>DirecTV</th>              <td>  -10.1035</td> <td>    0.336</td> <td>  -30.049</td> <td> 0.000</td> <td>  -10.762</td> <td>   -9.444</td>\n",
       "</tr>\n",
       "<tr>\n",
       "  <th>Dish_Network</th>         <td>    1.1060</td> <td>    0.082</td> <td>   13.439</td> <td> 0.000</td> <td>    0.945</td> <td>    1.267</td>\n",
       "</tr>\n",
       "<tr>\n",
       "  <th>National_Network</th>     <td>    3.8036</td> <td>    0.084</td> <td>   45.487</td> <td> 0.000</td> <td>    3.640</td> <td>    3.967</td>\n",
       "</tr>\n",
       "<tr>\n",
       "  <th>Over-the-top_content</th> <td> 4.157e-15</td> <td>  1.6e-16</td> <td>   26.059</td> <td> 0.000</td> <td> 3.84e-15</td> <td> 4.47e-15</td>\n",
       "</tr>\n",
       "<tr>\n",
       "  <th>Q1</th>                   <td>   -0.4987</td> <td>    0.029</td> <td>  -16.984</td> <td> 0.000</td> <td>   -0.556</td> <td>   -0.441</td>\n",
       "</tr>\n",
       "<tr>\n",
       "  <th>Q2</th>                   <td>   -0.6475</td> <td>    0.041</td> <td>  -15.942</td> <td> 0.000</td> <td>   -0.727</td> <td>   -0.568</td>\n",
       "</tr>\n",
       "<tr>\n",
       "  <th>Q3</th>                   <td>    0.0559</td> <td>    0.183</td> <td>    0.305</td> <td> 0.760</td> <td>   -0.303</td> <td>    0.415</td>\n",
       "</tr>\n",
       "<tr>\n",
       "  <th>Q4</th>                   <td>    0.1625</td> <td>    0.160</td> <td>    1.019</td> <td> 0.308</td> <td>   -0.150</td> <td>    0.475</td>\n",
       "</tr>\n",
       "<tr>\n",
       "  <th>bin_1</th>                <td>   -0.5937</td> <td>    0.120</td> <td>   -4.966</td> <td> 0.000</td> <td>   -0.828</td> <td>   -0.359</td>\n",
       "</tr>\n",
       "<tr>\n",
       "  <th>bin_2</th>                <td>    0.5068</td> <td>    0.039</td> <td>   13.007</td> <td> 0.000</td> <td>    0.430</td> <td>    0.583</td>\n",
       "</tr>\n",
       "<tr>\n",
       "  <th>bin_3</th>                <td>   -0.2112</td> <td>    0.039</td> <td>   -5.414</td> <td> 0.000</td> <td>   -0.288</td> <td>   -0.135</td>\n",
       "</tr>\n",
       "<tr>\n",
       "  <th>bin_4</th>                <td>    0.4081</td> <td>    0.037</td> <td>   11.071</td> <td> 0.000</td> <td>    0.336</td> <td>    0.480</td>\n",
       "</tr>\n",
       "<tr>\n",
       "  <th>bin_5</th>                <td>    0.0348</td> <td>    0.035</td> <td>    1.003</td> <td> 0.316</td> <td>   -0.033</td> <td>    0.103</td>\n",
       "</tr>\n",
       "<tr>\n",
       "  <th>Daytime</th>              <td>   -0.5394</td> <td>    0.036</td> <td>  -14.968</td> <td> 0.000</td> <td>   -0.610</td> <td>   -0.469</td>\n",
       "</tr>\n",
       "<tr>\n",
       "  <th>Early_Fringe</th>         <td>   -0.6152</td> <td>    0.032</td> <td>  -19.433</td> <td> 0.000</td> <td>   -0.677</td> <td>   -0.553</td>\n",
       "</tr>\n",
       "<tr>\n",
       "  <th>Late_Fringe</th>          <td>   -0.8460</td> <td>    0.032</td> <td>  -26.048</td> <td> 0.000</td> <td>   -0.910</td> <td>   -0.782</td>\n",
       "</tr>\n",
       "<tr>\n",
       "  <th>Late_Night</th>           <td>   -0.5696</td> <td>    0.038</td> <td>  -15.041</td> <td> 0.000</td> <td>   -0.644</td> <td>   -0.495</td>\n",
       "</tr>\n",
       "<tr>\n",
       "  <th>Morning</th>              <td>   -0.4924</td> <td>    0.036</td> <td>  -13.818</td> <td> 0.000</td> <td>   -0.562</td> <td>   -0.423</td>\n",
       "</tr>\n",
       "<tr>\n",
       "  <th>Overnight</th>            <td>    0.2165</td> <td>    0.042</td> <td>    5.121</td> <td> 0.000</td> <td>    0.134</td> <td>    0.299</td>\n",
       "</tr>\n",
       "<tr>\n",
       "  <th>Primetime</th>            <td>   -0.7843</td> <td>    0.032</td> <td>  -24.224</td> <td> 0.000</td> <td>   -0.848</td> <td>   -0.721</td>\n",
       "</tr>\n",
       "<tr>\n",
       "  <th>midnight</th>             <td>   -0.4547</td> <td>    0.044</td> <td>  -10.226</td> <td> 0.000</td> <td>   -0.542</td> <td>   -0.368</td>\n",
       "</tr>\n",
       "<tr>\n",
       "  <th>one_am</th>               <td>   -0.1149</td> <td>    0.049</td> <td>   -2.339</td> <td> 0.019</td> <td>   -0.211</td> <td>   -0.019</td>\n",
       "</tr>\n",
       "<tr>\n",
       "  <th>two_am</th>               <td>   -0.2506</td> <td>    0.057</td> <td>   -4.401</td> <td> 0.000</td> <td>   -0.362</td> <td>   -0.139</td>\n",
       "</tr>\n",
       "<tr>\n",
       "  <th>three_am</th>             <td>   -0.1689</td> <td>    0.059</td> <td>   -2.847</td> <td> 0.004</td> <td>   -0.285</td> <td>   -0.053</td>\n",
       "</tr>\n",
       "<tr>\n",
       "  <th>four_am</th>              <td>    0.4398</td> <td>    0.071</td> <td>    6.162</td> <td> 0.000</td> <td>    0.300</td> <td>    0.580</td>\n",
       "</tr>\n",
       "<tr>\n",
       "  <th>five_am</th>              <td>    0.1961</td> <td>    0.075</td> <td>    2.622</td> <td> 0.009</td> <td>    0.050</td> <td>    0.343</td>\n",
       "</tr>\n",
       "<tr>\n",
       "  <th>six_am</th>               <td>   -0.1818</td> <td>    0.043</td> <td>   -4.214</td> <td> 0.000</td> <td>   -0.266</td> <td>   -0.097</td>\n",
       "</tr>\n",
       "<tr>\n",
       "  <th>seven_am</th>             <td>   -0.1220</td> <td>    0.043</td> <td>   -2.871</td> <td> 0.004</td> <td>   -0.205</td> <td>   -0.039</td>\n",
       "</tr>\n",
       "<tr>\n",
       "  <th>eight_am</th>             <td>   -0.1886</td> <td>    0.037</td> <td>   -5.119</td> <td> 0.000</td> <td>   -0.261</td> <td>   -0.116</td>\n",
       "</tr>\n",
       "<tr>\n",
       "  <th>nine_am</th>              <td>   -0.0666</td> <td>    0.019</td> <td>   -3.478</td> <td> 0.001</td> <td>   -0.104</td> <td>   -0.029</td>\n",
       "</tr>\n",
       "<tr>\n",
       "  <th>ten_am</th>               <td>   -0.0314</td> <td>    0.019</td> <td>   -1.666</td> <td> 0.096</td> <td>   -0.068</td> <td>    0.006</td>\n",
       "</tr>\n",
       "<tr>\n",
       "  <th>eleven_am</th>            <td>   -0.0646</td> <td>    0.019</td> <td>   -3.446</td> <td> 0.001</td> <td>   -0.101</td> <td>   -0.028</td>\n",
       "</tr>\n",
       "<tr>\n",
       "  <th>noon</th>                 <td>   -0.0432</td> <td>    0.019</td> <td>   -2.225</td> <td> 0.026</td> <td>   -0.081</td> <td>   -0.005</td>\n",
       "</tr>\n",
       "<tr>\n",
       "  <th>one_pm</th>               <td>   -0.0945</td> <td>    0.019</td> <td>   -4.876</td> <td> 0.000</td> <td>   -0.133</td> <td>   -0.057</td>\n",
       "</tr>\n",
       "<tr>\n",
       "  <th>two_pm</th>               <td>   -0.0543</td> <td>    0.020</td> <td>   -2.774</td> <td> 0.006</td> <td>   -0.093</td> <td>   -0.016</td>\n",
       "</tr>\n",
       "<tr>\n",
       "  <th>three_pm</th>             <td>   -0.1850</td> <td>    0.020</td> <td>   -9.267</td> <td> 0.000</td> <td>   -0.224</td> <td>   -0.146</td>\n",
       "</tr>\n",
       "<tr>\n",
       "  <th>four_pm</th>              <td>   -0.1879</td> <td>    0.021</td> <td>   -9.163</td> <td> 0.000</td> <td>   -0.228</td> <td>   -0.148</td>\n",
       "</tr>\n",
       "<tr>\n",
       "  <th>five_pm</th>              <td>   -0.2278</td> <td>    0.020</td> <td>  -11.282</td> <td> 0.000</td> <td>   -0.267</td> <td>   -0.188</td>\n",
       "</tr>\n",
       "<tr>\n",
       "  <th>six_pm</th>               <td>   -0.1995</td> <td>    0.021</td> <td>   -9.624</td> <td> 0.000</td> <td>   -0.240</td> <td>   -0.159</td>\n",
       "</tr>\n",
       "<tr>\n",
       "  <th>seven_pm</th>             <td>   -0.1130</td> <td>    0.023</td> <td>   -4.858</td> <td> 0.000</td> <td>   -0.159</td> <td>   -0.067</td>\n",
       "</tr>\n",
       "<tr>\n",
       "  <th>eight_pm</th>             <td>   -0.2748</td> <td>    0.026</td> <td>  -10.617</td> <td> 0.000</td> <td>   -0.326</td> <td>   -0.224</td>\n",
       "</tr>\n",
       "<tr>\n",
       "  <th>nine_pm</th>              <td>   -0.3965</td> <td>    0.026</td> <td>  -15.356</td> <td> 0.000</td> <td>   -0.447</td> <td>   -0.346</td>\n",
       "</tr>\n",
       "<tr>\n",
       "  <th>ten_pm</th>               <td>   -0.6424</td> <td>    0.033</td> <td>  -19.184</td> <td> 0.000</td> <td>   -0.708</td> <td>   -0.577</td>\n",
       "</tr>\n",
       "<tr>\n",
       "  <th>eleven_pm</th>            <td>   -0.2036</td> <td>    0.034</td> <td>   -5.985</td> <td> 0.000</td> <td>   -0.270</td> <td>   -0.137</td>\n",
       "</tr>\n",
       "</table>\n",
       "<table class=\"simpletable\">\n",
       "<tr>\n",
       "  <th>Omnibus:</th>       <td>50728.014</td> <th>  Durbin-Watson:     </th>   <td>   2.000</td>  \n",
       "</tr>\n",
       "<tr>\n",
       "  <th>Prob(Omnibus):</th>  <td> 0.000</td>   <th>  Jarque-Bera (JB):  </th> <td>32379369.145</td>\n",
       "</tr>\n",
       "<tr>\n",
       "  <th>Skew:</th>           <td>-3.423</td>   <th>  Prob(JB):          </th>   <td>    0.00</td>  \n",
       "</tr>\n",
       "<tr>\n",
       "  <th>Kurtosis:</th>       <td>120.984</td>  <th>  Cond. No.          </th>   <td>1.35e+16</td>  \n",
       "</tr>\n",
       "</table><br/><br/>Warnings:<br/>[1] Standard Errors assume that the covariance matrix of the errors is correctly specified.<br/>[2] The smallest eigenvalue is 2.46e-23. This might indicate that there are<br/>strong multicollinearity problems or that the design matrix is singular."
      ],
      "text/plain": [
       "<class 'statsmodels.iolib.summary.Summary'>\n",
       "\"\"\"\n",
       "                              OLS Regression Results                              \n",
       "==================================================================================\n",
       "Dep. Variable:     absolute_audience_size   R-squared:                       0.794\n",
       "Model:                                OLS   Adj. R-squared:                  0.794\n",
       "Method:                     Least Squares   F-statistic:                     4042.\n",
       "Date:                    Fri, 10 Apr 2020   Prob (F-statistic):               0.00\n",
       "Time:                            20:05:05   Log-Likelihood:                -94412.\n",
       "No. Observations:                   55638   AIC:                         1.889e+05\n",
       "Df Residuals:                       55584   BIC:                         1.894e+05\n",
       "Df Model:                              53                                         \n",
       "Covariance Type:                nonrobust                                         \n",
       "========================================================================================\n",
       "                           coef    std err          t      P>|t|      [0.025      0.975]\n",
       "----------------------------------------------------------------------------------------\n",
       "Impressions              0.0434      0.000    257.566      0.000       0.043       0.044\n",
       "Q119                    -0.5805      0.081     -7.129      0.000      -0.740      -0.421\n",
       "Q219                    -0.6475      0.041    -15.942      0.000      -0.727      -0.568\n",
       "Q319                    -1.1608      0.134     -8.672      0.000      -1.423      -0.898\n",
       "Q419                    -1.2418      0.113    -10.975      0.000      -1.464      -1.020\n",
       "BP                      -0.5259      0.049    -10.678      0.000      -0.622      -0.429\n",
       "DC                      -0.3176      0.086     -3.707      0.000      -0.486      -0.150\n",
       "DE                      -0.2393      0.101     -2.363      0.018      -0.438      -0.041\n",
       "DP                      -0.5813      0.037    -15.839      0.000      -0.653      -0.509\n",
       "GD                      -0.3599      0.029    -12.611      0.000      -0.416      -0.304\n",
       "GX                      -0.3621      0.039     -9.323      0.000      -0.438      -0.286\n",
       "PL                      -0.1805      0.078     -2.327      0.020      -0.333      -0.028\n",
       "PM                      -0.3577      0.038     -9.537      0.000      -0.431      -0.284\n",
       "PN                       0.0020      0.083      0.024      0.981      -0.161       0.165\n",
       "PT                      -0.5081      0.030    -17.157      0.000      -0.566      -0.450\n",
       "SR                      -0.2226      0.052     -4.320      0.000      -0.324      -0.122\n",
       "SV                       0.8716      0.103      8.477      0.000       0.670       1.073\n",
       "TN                      -0.5264      0.092     -5.694      0.000      -0.708      -0.345\n",
       "VE                      -0.3228      0.066     -4.904      0.000      -0.452      -0.194\n",
       "Length                   0.0037      0.003      1.072      0.284      -0.003       0.010\n",
       "Spot_Cost                0.0031   3.02e-05    102.360      0.000       0.003       0.003\n",
       "Cable                    1.5633      0.081     19.282      0.000       1.404       1.722\n",
       "DirecTV                -10.1035      0.336    -30.049      0.000     -10.762      -9.444\n",
       "Dish_Network             1.1060      0.082     13.439      0.000       0.945       1.267\n",
       "National_Network         3.8036      0.084     45.487      0.000       3.640       3.967\n",
       "Over-the-top_content  4.157e-15    1.6e-16     26.059      0.000    3.84e-15    4.47e-15\n",
       "Q1                      -0.4987      0.029    -16.984      0.000      -0.556      -0.441\n",
       "Q2                      -0.6475      0.041    -15.942      0.000      -0.727      -0.568\n",
       "Q3                       0.0559      0.183      0.305      0.760      -0.303       0.415\n",
       "Q4                       0.1625      0.160      1.019      0.308      -0.150       0.475\n",
       "bin_1                   -0.5937      0.120     -4.966      0.000      -0.828      -0.359\n",
       "bin_2                    0.5068      0.039     13.007      0.000       0.430       0.583\n",
       "bin_3                   -0.2112      0.039     -5.414      0.000      -0.288      -0.135\n",
       "bin_4                    0.4081      0.037     11.071      0.000       0.336       0.480\n",
       "bin_5                    0.0348      0.035      1.003      0.316      -0.033       0.103\n",
       "Daytime                 -0.5394      0.036    -14.968      0.000      -0.610      -0.469\n",
       "Early_Fringe            -0.6152      0.032    -19.433      0.000      -0.677      -0.553\n",
       "Late_Fringe             -0.8460      0.032    -26.048      0.000      -0.910      -0.782\n",
       "Late_Night              -0.5696      0.038    -15.041      0.000      -0.644      -0.495\n",
       "Morning                 -0.4924      0.036    -13.818      0.000      -0.562      -0.423\n",
       "Overnight                0.2165      0.042      5.121      0.000       0.134       0.299\n",
       "Primetime               -0.7843      0.032    -24.224      0.000      -0.848      -0.721\n",
       "midnight                -0.4547      0.044    -10.226      0.000      -0.542      -0.368\n",
       "one_am                  -0.1149      0.049     -2.339      0.019      -0.211      -0.019\n",
       "two_am                  -0.2506      0.057     -4.401      0.000      -0.362      -0.139\n",
       "three_am                -0.1689      0.059     -2.847      0.004      -0.285      -0.053\n",
       "four_am                  0.4398      0.071      6.162      0.000       0.300       0.580\n",
       "five_am                  0.1961      0.075      2.622      0.009       0.050       0.343\n",
       "six_am                  -0.1818      0.043     -4.214      0.000      -0.266      -0.097\n",
       "seven_am                -0.1220      0.043     -2.871      0.004      -0.205      -0.039\n",
       "eight_am                -0.1886      0.037     -5.119      0.000      -0.261      -0.116\n",
       "nine_am                 -0.0666      0.019     -3.478      0.001      -0.104      -0.029\n",
       "ten_am                  -0.0314      0.019     -1.666      0.096      -0.068       0.006\n",
       "eleven_am               -0.0646      0.019     -3.446      0.001      -0.101      -0.028\n",
       "noon                    -0.0432      0.019     -2.225      0.026      -0.081      -0.005\n",
       "one_pm                  -0.0945      0.019     -4.876      0.000      -0.133      -0.057\n",
       "two_pm                  -0.0543      0.020     -2.774      0.006      -0.093      -0.016\n",
       "three_pm                -0.1850      0.020     -9.267      0.000      -0.224      -0.146\n",
       "four_pm                 -0.1879      0.021     -9.163      0.000      -0.228      -0.148\n",
       "five_pm                 -0.2278      0.020    -11.282      0.000      -0.267      -0.188\n",
       "six_pm                  -0.1995      0.021     -9.624      0.000      -0.240      -0.159\n",
       "seven_pm                -0.1130      0.023     -4.858      0.000      -0.159      -0.067\n",
       "eight_pm                -0.2748      0.026    -10.617      0.000      -0.326      -0.224\n",
       "nine_pm                 -0.3965      0.026    -15.356      0.000      -0.447      -0.346\n",
       "ten_pm                  -0.6424      0.033    -19.184      0.000      -0.708      -0.577\n",
       "eleven_pm               -0.2036      0.034     -5.985      0.000      -0.270      -0.137\n",
       "==============================================================================\n",
       "Omnibus:                    50728.014   Durbin-Watson:                   2.000\n",
       "Prob(Omnibus):                  0.000   Jarque-Bera (JB):         32379369.145\n",
       "Skew:                          -3.423   Prob(JB):                         0.00\n",
       "Kurtosis:                     120.984   Cond. No.                     1.35e+16\n",
       "==============================================================================\n",
       "\n",
       "Warnings:\n",
       "[1] Standard Errors assume that the covariance matrix of the errors is correctly specified.\n",
       "[2] The smallest eigenvalue is 2.46e-23. This might indicate that there are\n",
       "strong multicollinearity problems or that the design matrix is singular.\n",
       "\"\"\""
      ]
     },
     "execution_count": 13,
     "metadata": {},
     "output_type": "execute_result"
    }
   ],
   "source": [
    "lr.summary()"
   ]
  },
  {
   "cell_type": "code",
   "execution_count": 14,
   "metadata": {},
   "outputs": [
    {
     "data": {
      "text/plain": [
       "<matplotlib.axes._subplots.AxesSubplot at 0x1d1baad5940>"
      ]
     },
     "execution_count": 14,
     "metadata": {},
     "output_type": "execute_result"
    },
    {
     "data": {
      "image/png": "[encoded data removed]",
      "text/plain": [
       "<Figure size 842.4x595.44 with 1 Axes>"
      ]
     },
     "metadata": {},
     "output_type": "display_data"
    }
   ],
   "source": [
    "sns.residplot(\n",
    "    lr_preds,\n",
    "    y_test,\n",
    "    lowess=True,\n",
    "    line_kws={\"color\": \"red\", \"lw\": 1, \"alpha\": 1},\n",
    ")"
   ]
  },
  {
   "cell_type": "code",
   "execution_count": 15,
   "metadata": {},
   "outputs": [
    {
     "data": {
      "text/plain": [
       "Text(0.5, 1.0, 'Normal Q-Q Plot')"
      ]
     },
     "execution_count": 15,
     "metadata": {},
     "output_type": "execute_result"
    },
    {
     "data": {
      "image/png": "[encoded data removed]",
      "text/plain": [
       "<Figure size 504x504 with 1 Axes>"
      ]
     },
     "metadata": {},
     "output_type": "display_data"
    }
   ],
   "source": [
    "residuals = y_test - lr_preds\n",
    "residuals\n",
    "\n",
    "plt.figure(figsize=(7, 7))\n",
    "stats.probplot(residuals, dist=\"norm\", plot=plt)\n",
    "plt.title(\"Normal Q-Q Plot\")"
   ]
  },
  {
   "cell_type": "markdown",
   "metadata": {},
   "source": [
    "## Ridge CV Tuning"
   ]
  },
  {
   "cell_type": "code",
   "execution_count": 16,
   "metadata": {},
   "outputs": [
    {
     "data": {
      "text/plain": [
       "0.7939994973043896"
      ]
     },
     "execution_count": 16,
     "metadata": {},
     "output_type": "execute_result"
    }
   ],
   "source": [
    "rcv = RidgeCV(alphas=[1e-10, 1e-9, 1e-8, 1e-7, 1e-6, 1e-5, 1e-4, 1e-3, 1e-2, 1e-1, 1, 10], normalize=True)\n",
    "rcv.fit(X_train, y_train)\n",
    "rcv.score(X_train, y_train)"
   ]
  },
  {
   "cell_type": "code",
   "execution_count": 17,
   "metadata": {},
   "outputs": [
    {
     "data": {
      "text/plain": [
       "{'alphas': array([1.e-10, 1.e-09, 1.e-08, 1.e-07, 1.e-06, 1.e-05, 1.e-04, 1.e-03,\n",
       "        1.e-02, 1.e-01, 1.e+00, 1.e+01]),\n",
       " 'cv': None,\n",
       " 'fit_intercept': True,\n",
       " 'gcv_mode': None,\n",
       " 'normalize': True,\n",
       " 'scoring': None,\n",
       " 'store_cv_values': False}"
      ]
     },
     "execution_count": 17,
     "metadata": {},
     "output_type": "execute_result"
    }
   ],
   "source": [
    "rcv.get_params()"
   ]
  },
  {
   "cell_type": "code",
   "execution_count": 18,
   "metadata": {},
   "outputs": [],
   "source": [
    "preds_rcv = rcv.predict(X_test)"
   ]
  },
  {
   "cell_type": "markdown",
   "metadata": {},
   "source": [
    "## Ridge regression with SelectFromModel"
   ]
  },
  {
   "cell_type": "code",
   "execution_count": 19,
   "metadata": {},
   "outputs": [],
   "source": [
    "mse_list = []\n",
    "rmse_list = []\n",
    "score_list = []\n",
    "a_list = []\n",
    "for a in [1e-10, 1e-9, 1e-8, 1e-7, 1e-6, 1e-5, 1e-4, 1e-3, 1e-2, 1e-1, 1, 10]:\n",
    "    ridge = Ridge(alpha=a, normalize=True, solver='sag', random_state=1234)\n",
    "    \n",
    "    ridge.fit(X_train, y_train)\n",
    "    preds = ridge.predict(X_test)\n",
    "    score_list.append(ridge.score(X_test, y_test))\n",
    "    mse_list.append(MSE(y_test, preds))\n",
    "    rmse_list.append(np.sqrt(MSE(y_test, preds)))\n",
    "    a_list.append(a)"
   ]
  },
  {
   "cell_type": "code",
   "execution_count": 20,
   "metadata": {},
   "outputs": [],
   "source": [
    "ridge_results = pd.DataFrame(list(zip(a_list, score_list, mse_list, rmse_list)), \n",
    "                             columns = ['Alpha', 'R2', 'MSE', 'RMSE'])"
   ]
  },
  {
   "cell_type": "code",
   "execution_count": 21,
   "metadata": {},
   "outputs": [
    {
     "data": {
      "image/png": "[encoded data removed]",
      "text/plain": [
       "<Figure size 842.4x595.44 with 1 Axes>"
      ]
     },
     "metadata": {},
     "output_type": "display_data"
    }
   ],
   "source": [
    "line = sns.lineplot('Alpha', 'MSE', data=ridge_results)\n",
    "plt.show()"
   ]
  },
  {
   "cell_type": "code",
   "execution_count": 22,
   "metadata": {},
   "outputs": [
    {
     "data": {
      "image/png": "[encoded data removed]",
      "text/plain": [
       "<Figure size 842.4x595.44 with 1 Axes>"
      ]
     },
     "metadata": {},
     "output_type": "display_data"
    }
   ],
   "source": [
    "line = sns.lineplot('Alpha', 'R2', data=ridge_results)\n",
    "plt.show()"
   ]
  },
  {
   "cell_type": "code",
   "execution_count": 23,
   "metadata": {},
   "outputs": [
    {
     "data": {
      "text/html": [
       "<div>\n",
       "<style scoped>\n",
       "    .dataframe tbody tr th:only-of-type {\n",
       "        vertical-align: middle;\n",
       "    }\n",
       "\n",
       "    .dataframe tbody tr th {\n",
       "        vertical-align: top;\n",
       "    }\n",
       "\n",
       "    .dataframe thead th {\n",
       "        text-align: right;\n",
       "    }\n",
       "</style>\n",
       "<table border=\"1\" class=\"dataframe\">\n",
       "  <thead>\n",
       "    <tr style=\"text-align: right;\">\n",
       "      <th></th>\n",
       "      <th>0</th>\n",
       "      <th>1</th>\n",
       "      <th>2</th>\n",
       "      <th>3</th>\n",
       "    </tr>\n",
       "  </thead>\n",
       "  <tbody>\n",
       "    <tr>\n",
       "      <th>0</th>\n",
       "      <td>0.001</td>\n",
       "      <td>0.767849</td>\n",
       "      <td>2.045695</td>\n",
       "      <td>1.430278</td>\n",
       "    </tr>\n",
       "  </tbody>\n",
       "</table>\n",
       "</div>"
      ],
      "text/plain": [
       "       0         1         2         3\n",
       "0  0.001  0.767849  2.045695  1.430278"
      ]
     },
     "execution_count": 23,
     "metadata": {},
     "output_type": "execute_result"
    }
   ],
   "source": [
    "rcv_list = [rcv.alpha_, rcv.score(X_test, y_test), MSE(y_test, rcv.predict(X_test)), np.sqrt(MSE(y_test, rcv.predict(X_test)))]\n",
    "rcv_results = pd.DataFrame(rcv_list).transpose()\n",
    "rcv_results"
   ]
  },
  {
   "cell_type": "code",
   "execution_count": 24,
   "metadata": {},
   "outputs": [
    {
     "data": {
      "text/html": [
       "<div>\n",
       "<style scoped>\n",
       "    .dataframe tbody tr th:only-of-type {\n",
       "        vertical-align: middle;\n",
       "    }\n",
       "\n",
       "    .dataframe tbody tr th {\n",
       "        vertical-align: top;\n",
       "    }\n",
       "\n",
       "    .dataframe thead th {\n",
       "        text-align: right;\n",
       "    }\n",
       "</style>\n",
       "<table border=\"1\" class=\"dataframe\">\n",
       "  <thead>\n",
       "    <tr style=\"text-align: right;\">\n",
       "      <th></th>\n",
       "      <th>Alpha</th>\n",
       "      <th>R2</th>\n",
       "      <th>MSE</th>\n",
       "      <th>RMSE</th>\n",
       "    </tr>\n",
       "  </thead>\n",
       "  <tbody>\n",
       "    <tr>\n",
       "      <th>8</th>\n",
       "      <td>0.01</td>\n",
       "      <td>0.768269</td>\n",
       "      <td>2.041996</td>\n",
       "      <td>1.428984</td>\n",
       "    </tr>\n",
       "  </tbody>\n",
       "</table>\n",
       "</div>"
      ],
      "text/plain": [
       "   Alpha        R2       MSE      RMSE\n",
       "8   0.01  0.768269  2.041996  1.428984"
      ]
     },
     "execution_count": 24,
     "metadata": {},
     "output_type": "execute_result"
    }
   ],
   "source": [
    "ridge_results[ridge_results.MSE == ridge_results.MSE.min()]"
   ]
  },
  {
   "cell_type": "code",
   "execution_count": 25,
   "metadata": {},
   "outputs": [
    {
     "data": {
      "text/plain": [
       "array([False,  True, False, False, False, False, False, False, False,\n",
       "       False, False, False, False,  True, False, False,  True, False,\n",
       "       False, False, False, False,  True,  True,  True, False,  True,\n",
       "       False, False, False,  True,  True, False,  True, False, False,\n",
       "       False, False, False, False,  True, False, False, False, False,\n",
       "       False,  True,  True, False, False, False, False, False, False,\n",
       "       False, False, False, False, False, False, False, False, False,\n",
       "       False,  True, False])"
      ]
     },
     "execution_count": 25,
     "metadata": {},
     "output_type": "execute_result"
    }
   ],
   "source": [
    "selector_ridge = SelectFromModel(estimator=Ridge(alpha=1.000000e-10, normalize=True)).fit(X_train, y_train)\n",
    "selector_ridge.get_support()"
   ]
  },
  {
   "cell_type": "code",
   "execution_count": 26,
   "metadata": {},
   "outputs": [],
   "source": [
    "selected_labels = list(compress(labels, list(selector_ridge.get_support())))\n",
    "selected_labels\n",
    "\n",
    "X_adj = training.loc[:,selected_labels]\n",
    "X_train_adj, X_test_adj, y_train_adj, y_test_adj = train_test_split(X_adj, y, test_size=0.25)"
   ]
  },
  {
   "cell_type": "markdown",
   "metadata": {},
   "source": [
    "#### Ridge Regression with selected predictors"
   ]
  },
  {
   "cell_type": "code",
   "execution_count": 27,
   "metadata": {},
   "outputs": [
    {
     "name": "stdout",
     "output_type": "stream",
     "text": [
      "0.2403832630008138\n",
      "6.231803278216495\n"
     ]
    }
   ],
   "source": [
    "ridge_adjusted = Ridge(alpha=1.000000e-10, normalize=True)\n",
    "ridge_adjusted.fit(X_train_adj, y_train_adj)\n",
    "preds = ridge_adjusted.predict(X_test_adj)\n",
    "\n",
    "print(ridge_adjusted.score(X_test_adj, y_test_adj))\n",
    "print(MSE(y_test_adj, preds))"
   ]
  },
  {
   "cell_type": "code",
   "execution_count": 28,
   "metadata": {},
   "outputs": [
    {
     "name": "stdout",
     "output_type": "stream",
     "text": [
      "2.4963580028145995\n"
     ]
    }
   ],
   "source": [
    "print(np.sqrt(MSE(y_test_adj, preds)))"
   ]
  },
  {
   "cell_type": "markdown",
   "metadata": {},
   "source": [
    "## Ridge Regression with Scaling"
   ]
  },
  {
   "cell_type": "code",
   "execution_count": 32,
   "metadata": {},
   "outputs": [],
   "source": [
    "scaler_x = MinMaxScaler()\n",
    "scaler_y = MinMaxScaler()\n",
    "\n",
    "scaler_x.fit(X)\n",
    "X_scale = scaler_x.transform(X)\n",
    "\n",
    "scaler_y.fit(y.values.reshape(1, -1))\n",
    "y_scale = scaler_y.fit_transform(y.values.reshape(-1, 1))\n",
    "\n",
    "X_train, X_test, y_train, y_test = train_test_split(X_scale, y_scale, test_size=0.30)"
   ]
  },
  {
   "cell_type": "code",
   "execution_count": 33,
   "metadata": {},
   "outputs": [],
   "source": [
    "mse_list = []\n",
    "rmse_list = []\n",
    "score_list = []\n",
    "a_list = []\n",
    "for a in [1e-10, 1e-9, 1e-8, 1e-7, 1e-6, 1e-5, 1e-4, 1e-3, 1e-2, 1e-1, 1, 10]:\n",
    "    ridge = Ridge(alpha=a, solver='sag', random_state=1234)\n",
    "    \n",
    "    ridge.fit(X_train, y_train)\n",
    "    preds = scaler_y.inverse_transform(ridge.predict(X_test))\n",
    "    score_list.append(ridge.score(X_test, y_test))\n",
    "    mse_list.append(MSE(scaler_y.inverse_transform(y_test), preds))\n",
    "    rmse_list.append(np.sqrt(MSE(scaler_y.inverse_transform(y_test), preds)))\n",
    "    a_list.append(a)"
   ]
  },
  {
   "cell_type": "code",
   "execution_count": 34,
   "metadata": {},
   "outputs": [
    {
     "data": {
      "text/html": [
       "<div>\n",
       "<style scoped>\n",
       "    .dataframe tbody tr th:only-of-type {\n",
       "        vertical-align: middle;\n",
       "    }\n",
       "\n",
       "    .dataframe tbody tr th {\n",
       "        vertical-align: top;\n",
       "    }\n",
       "\n",
       "    .dataframe thead th {\n",
       "        text-align: right;\n",
       "    }\n",
       "</style>\n",
       "<table border=\"1\" class=\"dataframe\">\n",
       "  <thead>\n",
       "    <tr style=\"text-align: right;\">\n",
       "      <th></th>\n",
       "      <th>Alpha</th>\n",
       "      <th>R2</th>\n",
       "      <th>MSE</th>\n",
       "      <th>RMSE</th>\n",
       "    </tr>\n",
       "  </thead>\n",
       "  <tbody>\n",
       "    <tr>\n",
       "      <th>10</th>\n",
       "      <td>1.0</td>\n",
       "      <td>0.778757</td>\n",
       "      <td>1.87049</td>\n",
       "      <td>1.367659</td>\n",
       "    </tr>\n",
       "  </tbody>\n",
       "</table>\n",
       "</div>"
      ],
      "text/plain": [
       "    Alpha        R2      MSE      RMSE\n",
       "10    1.0  0.778757  1.87049  1.367659"
      ]
     },
     "execution_count": 34,
     "metadata": {},
     "output_type": "execute_result"
    }
   ],
   "source": [
    "ridge_results = pd.DataFrame(list(zip(a_list, score_list, mse_list, rmse_list)), \n",
    "                             columns = ['Alpha', 'R2', 'MSE', 'RMSE'])\n",
    "ridge_results[ridge_results.MSE == ridge_results.MSE.min()]"
   ]
  },
  {
   "cell_type": "code",
   "execution_count": null,
   "metadata": {},
   "outputs": [],
   "source": []
  }
 ],
 "metadata": {
  "kernelspec": {
   "display_name": "Python 3",
   "language": "python",
   "name": "python3"
  },
  "language_info": {
   "codemirror_mode": {
    "name": "ipython",
    "version": 3
   },
   "file_extension": ".py",
   "mimetype": "text/x-python",
   "name": "python",
   "nbconvert_exporter": "python",
   "pygments_lexer": "ipython3",
   "version": "3.8.1"
  }
 },
 "nbformat": 4,
 "nbformat_minor": 4
}
