{
 "cells": [
  {
   "cell_type": "code",
   "execution_count": 5,
   "metadata": {},
   "outputs": [],
   "source": [
    "import pickle\n",
    "import calendar\n",
    "import os\n",
    "import regex as re\n",
    "import numpy as np\n",
    "import pandas as pd\n",
    "import statsmodels.api as sm\n",
    "import scipy.stats as stats\n",
    "import matplotlib.pyplot as plt\n",
    "import seaborn as sns\n",
    "import datetime\n",
    "from dateutil import parser\n",
    "from itertools import compress\n",
    "\n",
    "from sklearn.linear_model import LinearRegression, RidgeCV, Ridge\n",
    "from sklearn.feature_selection import SelectFromModel\n",
    "from sklearn.metrics import mean_squared_error as MSE\n",
    "from sklearn.model_selection import GridSearchCV, train_test_split\n",
    "from sklearn.utils import shuffle\n",
    "\n",
    "from xgboost import XGBRegressor, DMatrix\n",
    "\n",
    "import warnings\n",
    "\n",
    "warnings.filterwarnings(\"ignore\")\n",
    "\n",
    "sns.set(rc={\"figure.figsize\": (11.7, 8.27)})"
   ]
  },
  {
   "cell_type": "code",
   "execution_count": 6,
   "metadata": {},
   "outputs": [],
   "source": [
    "dat = pd.read_csv('../Data/dat_features.csv')"
   ]
  },
  {
   "cell_type": "code",
   "execution_count": 9,
   "metadata": {},
   "outputs": [],
   "source": [
    "unseen = dat[(dat.Impressions.eq(0.0)) & (dat.GRP.eq(0.0)) | (dat.active_flag.eq(1))]\n",
    "training = dat[dat.Impressions > 0.0]"
   ]
  },
  {
   "cell_type": "code",
   "execution_count": 31,
   "metadata": {},
   "outputs": [],
   "source": [
    "labels = [\n",
    "        'Q119', 'Q219',\n",
    "        'Q319', 'Q419',\n",
    "        'BP', 'DC', 'DE', 'DP',\n",
    "        'GD', 'GX', 'PL', 'PM',\n",
    "        'PN', 'PT', 'SR', 'SV',\n",
    "        'TN', 'VE',\n",
    "        \"Length\",\n",
    "        \"Spot_Cost\",\n",
    "        \"Cable\",\n",
    "        \"DirecTV\",\n",
    "        \"Dish_Network\",\n",
    "        \"National_Network\",\n",
    "        \"Over-the-top_content\",\n",
    "        'Q1', 'Q2', 'Q3', 'Q4',\n",
    "        'bin_1', 'bin_2',\n",
    "        'bin_3', 'bin_4', 'bin_5',\n",
    "        'Daytime', 'Early_Fringe',\n",
    "        'Late_Fringe', 'Late_Night',\n",
    "        'Morning', 'Overnight',\n",
    "        'Primetime',\n",
    "        'midnight', 'one_am', 'two_am', 'three_am', 'four_am', 'five_am',\n",
    "        'six_am', 'seven_am', 'eight_am', 'nine_am', 'ten_am', 'eleven_am',\n",
    "        'noon', 'one_pm', 'two_pm', 'three_pm', 'four_pm', 'five_pm', 'six_pm',\n",
    "        'seven_pm', 'eight_pm', 'nine_pm', 'ten_pm', 'eleven_pm'\n",
    "    ]\n",
    "\n",
    "X = training.loc[:,labels]\n",
    "y = training.loc[:, \"Impressions\"]\n",
    "X_train, X_test, y_train, y_test = train_test_split(X, y, test_size=0.30)"
   ]
  },
  {
   "cell_type": "markdown",
   "metadata": {},
   "source": [
    "## Base Linear Model"
   ]
  },
  {
   "cell_type": "code",
   "execution_count": 32,
   "metadata": {},
   "outputs": [
    {
     "name": "stdout",
     "output_type": "stream",
     "text": [
      "1154.8432281875432\n",
      "33.982984392009236\n"
     ]
    }
   ],
   "source": [
    "lr = sm.OLS(y_train, X_train).fit()\n",
    "\n",
    "lr_preds = lr.predict(X_test)\n",
    "\n",
    "lr_mse = MSE(y_test, lr_preds)\n",
    "print(lr_mse)\n",
    "print(np.sqrt(lr_mse))"
   ]
  },
  {
   "cell_type": "code",
   "execution_count": 13,
   "metadata": {},
   "outputs": [
    {
     "data": {
      "text/html": [
       "<table class=\"simpletable\">\n",
       "<caption>OLS Regression Results</caption>\n",
       "<tr>\n",
       "  <th>Dep. Variable:</th>       <td>Impressions</td>   <th>  R-squared:         </th>  <td>   0.430</td>  \n",
       "</tr>\n",
       "<tr>\n",
       "  <th>Model:</th>                   <td>OLS</td>       <th>  Adj. R-squared:    </th>  <td>   0.429</td>  \n",
       "</tr>\n",
       "<tr>\n",
       "  <th>Method:</th>             <td>Least Squares</td>  <th>  F-statistic:       </th>  <td>   805.0</td>  \n",
       "</tr>\n",
       "<tr>\n",
       "  <th>Date:</th>             <td>Wed, 08 Apr 2020</td> <th>  Prob (F-statistic):</th>   <td>  0.00</td>   \n",
       "</tr>\n",
       "<tr>\n",
       "  <th>Time:</th>                 <td>18:43:28</td>     <th>  Log-Likelihood:    </th> <td>-2.7562e+05</td>\n",
       "</tr>\n",
       "<tr>\n",
       "  <th>No. Observations:</th>      <td> 55638</td>      <th>  AIC:               </th>  <td>5.513e+05</td> \n",
       "</tr>\n",
       "<tr>\n",
       "  <th>Df Residuals:</th>          <td> 55585</td>      <th>  BIC:               </th>  <td>5.518e+05</td> \n",
       "</tr>\n",
       "<tr>\n",
       "  <th>Df Model:</th>              <td>    52</td>      <th>                     </th>      <td> </td>     \n",
       "</tr>\n",
       "<tr>\n",
       "  <th>Covariance Type:</th>      <td>nonrobust</td>    <th>                     </th>      <td> </td>     \n",
       "</tr>\n",
       "</table>\n",
       "<table class=\"simpletable\">\n",
       "<tr>\n",
       "            <td></td>              <th>coef</th>     <th>std err</th>      <th>t</th>      <th>P>|t|</th>  <th>[0.025</th>    <th>0.975]</th>  \n",
       "</tr>\n",
       "<tr>\n",
       "  <th>Q119</th>                 <td>   61.5621</td> <td>    2.117</td> <td>   29.076</td> <td> 0.000</td> <td>   57.412</td> <td>   65.712</td>\n",
       "</tr>\n",
       "<tr>\n",
       "  <th>Q219</th>                 <td>   26.3359</td> <td>    1.059</td> <td>   24.869</td> <td> 0.000</td> <td>   24.260</td> <td>   28.412</td>\n",
       "</tr>\n",
       "<tr>\n",
       "  <th>Q319</th>                 <td>   38.0697</td> <td>    3.467</td> <td>   10.981</td> <td> 0.000</td> <td>   31.275</td> <td>   44.865</td>\n",
       "</tr>\n",
       "<tr>\n",
       "  <th>Q419</th>                 <td>   27.7134</td> <td>    2.919</td> <td>    9.496</td> <td> 0.000</td> <td>   21.993</td> <td>   33.434</td>\n",
       "</tr>\n",
       "<tr>\n",
       "  <th>BP</th>                   <td>    4.6268</td> <td>    1.287</td> <td>    3.595</td> <td> 0.000</td> <td>    2.104</td> <td>    7.149</td>\n",
       "</tr>\n",
       "<tr>\n",
       "  <th>DC</th>                   <td>    2.6730</td> <td>    2.182</td> <td>    1.225</td> <td> 0.221</td> <td>   -1.603</td> <td>    6.949</td>\n",
       "</tr>\n",
       "<tr>\n",
       "  <th>DE</th>                   <td>    9.3984</td> <td>    2.654</td> <td>    3.542</td> <td> 0.000</td> <td>    4.197</td> <td>   14.599</td>\n",
       "</tr>\n",
       "<tr>\n",
       "  <th>DP</th>                   <td>   19.1555</td> <td>    0.953</td> <td>   20.098</td> <td> 0.000</td> <td>   17.287</td> <td>   21.024</td>\n",
       "</tr>\n",
       "<tr>\n",
       "  <th>GD</th>                   <td>    7.9666</td> <td>    0.745</td> <td>   10.687</td> <td> 0.000</td> <td>    6.505</td> <td>    9.428</td>\n",
       "</tr>\n",
       "<tr>\n",
       "  <th>GX</th>                   <td>   13.4893</td> <td>    1.012</td> <td>   13.330</td> <td> 0.000</td> <td>   11.506</td> <td>   15.473</td>\n",
       "</tr>\n",
       "<tr>\n",
       "  <th>PL</th>                   <td>   10.4092</td> <td>    1.970</td> <td>    5.284</td> <td> 0.000</td> <td>    6.548</td> <td>   14.270</td>\n",
       "</tr>\n",
       "<tr>\n",
       "  <th>PM</th>                   <td>   18.8666</td> <td>    0.975</td> <td>   19.344</td> <td> 0.000</td> <td>   16.955</td> <td>   20.778</td>\n",
       "</tr>\n",
       "<tr>\n",
       "  <th>PN</th>                   <td>   13.4510</td> <td>    2.122</td> <td>    6.338</td> <td> 0.000</td> <td>    9.291</td> <td>   17.611</td>\n",
       "</tr>\n",
       "<tr>\n",
       "  <th>PT</th>                   <td>   10.3307</td> <td>    0.772</td> <td>   13.389</td> <td> 0.000</td> <td>    8.818</td> <td>   11.843</td>\n",
       "</tr>\n",
       "<tr>\n",
       "  <th>SR</th>                   <td>    4.9801</td> <td>    1.326</td> <td>    3.755</td> <td> 0.000</td> <td>    2.381</td> <td>    7.580</td>\n",
       "</tr>\n",
       "<tr>\n",
       "  <th>SV</th>                   <td>   29.5064</td> <td>    2.748</td> <td>   10.738</td> <td> 0.000</td> <td>   24.120</td> <td>   34.892</td>\n",
       "</tr>\n",
       "<tr>\n",
       "  <th>TN</th>                   <td>    1.4240</td> <td>    2.423</td> <td>    0.588</td> <td> 0.557</td> <td>   -3.325</td> <td>    6.173</td>\n",
       "</tr>\n",
       "<tr>\n",
       "  <th>VE</th>                   <td>    7.4036</td> <td>    1.742</td> <td>    4.250</td> <td> 0.000</td> <td>    3.989</td> <td>   10.818</td>\n",
       "</tr>\n",
       "<tr>\n",
       "  <th>Length</th>               <td>   -0.9225</td> <td>    0.088</td> <td>  -10.429</td> <td> 0.000</td> <td>   -1.096</td> <td>   -0.749</td>\n",
       "</tr>\n",
       "<tr>\n",
       "  <th>Spot_Cost</th>            <td>    0.0953</td> <td>    0.001</td> <td>  146.448</td> <td> 0.000</td> <td>    0.094</td> <td>    0.097</td>\n",
       "</tr>\n",
       "<tr>\n",
       "  <th>Cable</th>                <td>  -42.4680</td> <td>    2.250</td> <td>  -18.879</td> <td> 0.000</td> <td>  -46.877</td> <td>  -38.059</td>\n",
       "</tr>\n",
       "<tr>\n",
       "  <th>DirecTV</th>              <td>  217.3735</td> <td>    9.559</td> <td>   22.740</td> <td> 0.000</td> <td>  198.638</td> <td>  236.109</td>\n",
       "</tr>\n",
       "<tr>\n",
       "  <th>Dish_Network</th>         <td>  -55.0689</td> <td>    2.273</td> <td>  -24.226</td> <td> 0.000</td> <td>  -59.524</td> <td>  -50.613</td>\n",
       "</tr>\n",
       "<tr>\n",
       "  <th>National_Network</th>     <td>   33.8445</td> <td>    2.319</td> <td>   14.597</td> <td> 0.000</td> <td>   29.300</td> <td>   38.389</td>\n",
       "</tr>\n",
       "<tr>\n",
       "  <th>Over-the-top_content</th> <td>-2.132e-13</td> <td> 9.77e-15</td> <td>  -21.820</td> <td> 0.000</td> <td>-2.32e-13</td> <td>-1.94e-13</td>\n",
       "</tr>\n",
       "<tr>\n",
       "  <th>Q1</th>                   <td>  -14.5398</td> <td>    0.764</td> <td>  -19.032</td> <td> 0.000</td> <td>  -16.037</td> <td>  -13.042</td>\n",
       "</tr>\n",
       "<tr>\n",
       "  <th>Q2</th>                   <td>   26.3359</td> <td>    1.059</td> <td>   24.869</td> <td> 0.000</td> <td>   24.260</td> <td>   28.412</td>\n",
       "</tr>\n",
       "<tr>\n",
       "  <th>Q3</th>                   <td>   14.4280</td> <td>    4.695</td> <td>    3.073</td> <td> 0.002</td> <td>    5.226</td> <td>   23.630</td>\n",
       "</tr>\n",
       "<tr>\n",
       "  <th>Q4</th>                   <td>   19.6918</td> <td>    4.059</td> <td>    4.851</td> <td> 0.000</td> <td>   11.736</td> <td>   27.648</td>\n",
       "</tr>\n",
       "<tr>\n",
       "  <th>bin_1</th>                <td>  -12.9967</td> <td>    3.077</td> <td>   -4.223</td> <td> 0.000</td> <td>  -19.028</td> <td>   -6.965</td>\n",
       "</tr>\n",
       "<tr>\n",
       "  <th>bin_2</th>                <td>    5.1723</td> <td>    1.010</td> <td>    5.121</td> <td> 0.000</td> <td>    3.193</td> <td>    7.152</td>\n",
       "</tr>\n",
       "<tr>\n",
       "  <th>bin_3</th>                <td>    7.1010</td> <td>    1.008</td> <td>    7.045</td> <td> 0.000</td> <td>    5.125</td> <td>    9.077</td>\n",
       "</tr>\n",
       "<tr>\n",
       "  <th>bin_4</th>                <td>   -5.2538</td> <td>    0.959</td> <td>   -5.480</td> <td> 0.000</td> <td>   -7.133</td> <td>   -3.375</td>\n",
       "</tr>\n",
       "<tr>\n",
       "  <th>bin_5</th>                <td>    5.7840</td> <td>    0.890</td> <td>    6.496</td> <td> 0.000</td> <td>    4.039</td> <td>    7.529</td>\n",
       "</tr>\n",
       "<tr>\n",
       "  <th>Daytime</th>              <td>   17.8737</td> <td>    0.960</td> <td>   18.623</td> <td> 0.000</td> <td>   15.993</td> <td>   19.755</td>\n",
       "</tr>\n",
       "<tr>\n",
       "  <th>Early_Fringe</th>         <td>   16.7765</td> <td>    0.842</td> <td>   19.923</td> <td> 0.000</td> <td>   15.126</td> <td>   18.427</td>\n",
       "</tr>\n",
       "<tr>\n",
       "  <th>Late_Fringe</th>          <td>   24.7126</td> <td>    0.853</td> <td>   28.955</td> <td> 0.000</td> <td>   23.040</td> <td>   26.385</td>\n",
       "</tr>\n",
       "<tr>\n",
       "  <th>Late_Night</th>           <td>   29.7924</td> <td>    0.987</td> <td>   30.182</td> <td> 0.000</td> <td>   27.858</td> <td>   31.727</td>\n",
       "</tr>\n",
       "<tr>\n",
       "  <th>Morning</th>              <td>    7.3972</td> <td>    0.942</td> <td>    7.853</td> <td> 0.000</td> <td>    5.551</td> <td>    9.243</td>\n",
       "</tr>\n",
       "<tr>\n",
       "  <th>Overnight</th>            <td>   33.5512</td> <td>    1.107</td> <td>   30.319</td> <td> 0.000</td> <td>   31.382</td> <td>   35.720</td>\n",
       "</tr>\n",
       "<tr>\n",
       "  <th>Primetime</th>            <td>   23.5775</td> <td>    0.857</td> <td>   27.501</td> <td> 0.000</td> <td>   21.897</td> <td>   25.258</td>\n",
       "</tr>\n",
       "<tr>\n",
       "  <th>midnight</th>             <td>   16.5365</td> <td>    1.138</td> <td>   14.527</td> <td> 0.000</td> <td>   14.305</td> <td>   18.768</td>\n",
       "</tr>\n",
       "<tr>\n",
       "  <th>one_am</th>               <td>   13.2559</td> <td>    1.288</td> <td>   10.294</td> <td> 0.000</td> <td>   10.732</td> <td>   15.780</td>\n",
       "</tr>\n",
       "<tr>\n",
       "  <th>two_am</th>               <td>    8.8012</td> <td>    1.472</td> <td>    5.979</td> <td> 0.000</td> <td>    5.916</td> <td>   11.687</td>\n",
       "</tr>\n",
       "<tr>\n",
       "  <th>three_am</th>             <td>   10.8906</td> <td>    1.546</td> <td>    7.045</td> <td> 0.000</td> <td>    7.861</td> <td>   13.920</td>\n",
       "</tr>\n",
       "<tr>\n",
       "  <th>four_am</th>              <td>   14.1751</td> <td>    1.852</td> <td>    7.653</td> <td> 0.000</td> <td>   10.545</td> <td>   17.806</td>\n",
       "</tr>\n",
       "<tr>\n",
       "  <th>five_am</th>              <td>   -0.3157</td> <td>    1.940</td> <td>   -0.163</td> <td> 0.871</td> <td>   -4.118</td> <td>    3.486</td>\n",
       "</tr>\n",
       "<tr>\n",
       "  <th>six_am</th>               <td>    0.2035</td> <td>    1.106</td> <td>    0.184</td> <td> 0.854</td> <td>   -1.964</td> <td>    2.371</td>\n",
       "</tr>\n",
       "<tr>\n",
       "  <th>seven_am</th>             <td>    1.7210</td> <td>    1.090</td> <td>    1.579</td> <td> 0.114</td> <td>   -0.416</td> <td>    3.858</td>\n",
       "</tr>\n",
       "<tr>\n",
       "  <th>eight_am</th>             <td>    5.4727</td> <td>    0.958</td> <td>    5.711</td> <td> 0.000</td> <td>    3.595</td> <td>    7.351</td>\n",
       "</tr>\n",
       "<tr>\n",
       "  <th>nine_am</th>              <td>    0.2819</td> <td>    0.496</td> <td>    0.568</td> <td> 0.570</td> <td>   -0.690</td> <td>    1.254</td>\n",
       "</tr>\n",
       "<tr>\n",
       "  <th>ten_am</th>               <td>    0.9458</td> <td>    0.492</td> <td>    1.922</td> <td> 0.055</td> <td>   -0.019</td> <td>    1.910</td>\n",
       "</tr>\n",
       "<tr>\n",
       "  <th>eleven_am</th>            <td>    1.3079</td> <td>    0.487</td> <td>    2.686</td> <td> 0.007</td> <td>    0.353</td> <td>    2.262</td>\n",
       "</tr>\n",
       "<tr>\n",
       "  <th>noon</th>                 <td>    1.5069</td> <td>    0.505</td> <td>    2.987</td> <td> 0.003</td> <td>    0.518</td> <td>    2.496</td>\n",
       "</tr>\n",
       "<tr>\n",
       "  <th>one_pm</th>               <td>    4.4549</td> <td>    0.501</td> <td>    8.897</td> <td> 0.000</td> <td>    3.474</td> <td>    5.436</td>\n",
       "</tr>\n",
       "<tr>\n",
       "  <th>two_pm</th>               <td>    5.6497</td> <td>    0.514</td> <td>   10.982</td> <td> 0.000</td> <td>    4.641</td> <td>    6.658</td>\n",
       "</tr>\n",
       "<tr>\n",
       "  <th>three_pm</th>             <td>    3.7266</td> <td>    0.516</td> <td>    7.222</td> <td> 0.000</td> <td>    2.715</td> <td>    4.738</td>\n",
       "</tr>\n",
       "<tr>\n",
       "  <th>four_pm</th>              <td>    3.9325</td> <td>    0.539</td> <td>    7.296</td> <td> 0.000</td> <td>    2.876</td> <td>    4.989</td>\n",
       "</tr>\n",
       "<tr>\n",
       "  <th>five_pm</th>              <td>    5.6888</td> <td>    0.530</td> <td>   10.730</td> <td> 0.000</td> <td>    4.650</td> <td>    6.728</td>\n",
       "</tr>\n",
       "<tr>\n",
       "  <th>six_pm</th>               <td>    7.1552</td> <td>    0.543</td> <td>   13.174</td> <td> 0.000</td> <td>    6.091</td> <td>    8.220</td>\n",
       "</tr>\n",
       "<tr>\n",
       "  <th>seven_pm</th>             <td>    1.9116</td> <td>    0.605</td> <td>    3.159</td> <td> 0.002</td> <td>    0.725</td> <td>    3.098</td>\n",
       "</tr>\n",
       "<tr>\n",
       "  <th>eight_pm</th>             <td>    9.3103</td> <td>    0.670</td> <td>   13.888</td> <td> 0.000</td> <td>    7.996</td> <td>   10.624</td>\n",
       "</tr>\n",
       "<tr>\n",
       "  <th>nine_pm</th>              <td>   12.3556</td> <td>    0.674</td> <td>   18.334</td> <td> 0.000</td> <td>   11.035</td> <td>   13.676</td>\n",
       "</tr>\n",
       "<tr>\n",
       "  <th>ten_pm</th>               <td>   17.6760</td> <td>    0.869</td> <td>   20.331</td> <td> 0.000</td> <td>   15.972</td> <td>   19.380</td>\n",
       "</tr>\n",
       "<tr>\n",
       "  <th>eleven_pm</th>            <td>    7.0366</td> <td>    0.886</td> <td>    7.945</td> <td> 0.000</td> <td>    5.301</td> <td>    8.772</td>\n",
       "</tr>\n",
       "</table>\n",
       "<table class=\"simpletable\">\n",
       "<tr>\n",
       "  <th>Omnibus:</th>       <td>66375.859</td> <th>  Durbin-Watson:     </th>   <td>   2.016</td>  \n",
       "</tr>\n",
       "<tr>\n",
       "  <th>Prob(Omnibus):</th>  <td> 0.000</td>   <th>  Jarque-Bera (JB):  </th> <td>19936827.501</td>\n",
       "</tr>\n",
       "<tr>\n",
       "  <th>Skew:</th>           <td> 6.044</td>   <th>  Prob(JB):          </th>   <td>    0.00</td>  \n",
       "</tr>\n",
       "<tr>\n",
       "  <th>Kurtosis:</th>       <td>94.945</td>   <th>  Cond. No.          </th>   <td>2.28e+16</td>  \n",
       "</tr>\n",
       "</table><br/><br/>Warnings:<br/>[1] Standard Errors assume that the covariance matrix of the errors is correctly specified.<br/>[2] The smallest eigenvalue is 8.73e-24. This might indicate that there are<br/>strong multicollinearity problems or that the design matrix is singular."
      ],
      "text/plain": [
       "<class 'statsmodels.iolib.summary.Summary'>\n",
       "\"\"\"\n",
       "                            OLS Regression Results                            \n",
       "==============================================================================\n",
       "Dep. Variable:            Impressions   R-squared:                       0.430\n",
       "Model:                            OLS   Adj. R-squared:                  0.429\n",
       "Method:                 Least Squares   F-statistic:                     805.0\n",
       "Date:                Wed, 08 Apr 2020   Prob (F-statistic):               0.00\n",
       "Time:                        18:43:28   Log-Likelihood:            -2.7562e+05\n",
       "No. Observations:               55638   AIC:                         5.513e+05\n",
       "Df Residuals:                   55585   BIC:                         5.518e+05\n",
       "Df Model:                          52                                         \n",
       "Covariance Type:            nonrobust                                         \n",
       "========================================================================================\n",
       "                           coef    std err          t      P>|t|      [0.025      0.975]\n",
       "----------------------------------------------------------------------------------------\n",
       "Q119                    61.5621      2.117     29.076      0.000      57.412      65.712\n",
       "Q219                    26.3359      1.059     24.869      0.000      24.260      28.412\n",
       "Q319                    38.0697      3.467     10.981      0.000      31.275      44.865\n",
       "Q419                    27.7134      2.919      9.496      0.000      21.993      33.434\n",
       "BP                       4.6268      1.287      3.595      0.000       2.104       7.149\n",
       "DC                       2.6730      2.182      1.225      0.221      -1.603       6.949\n",
       "DE                       9.3984      2.654      3.542      0.000       4.197      14.599\n",
       "DP                      19.1555      0.953     20.098      0.000      17.287      21.024\n",
       "GD                       7.9666      0.745     10.687      0.000       6.505       9.428\n",
       "GX                      13.4893      1.012     13.330      0.000      11.506      15.473\n",
       "PL                      10.4092      1.970      5.284      0.000       6.548      14.270\n",
       "PM                      18.8666      0.975     19.344      0.000      16.955      20.778\n",
       "PN                      13.4510      2.122      6.338      0.000       9.291      17.611\n",
       "PT                      10.3307      0.772     13.389      0.000       8.818      11.843\n",
       "SR                       4.9801      1.326      3.755      0.000       2.381       7.580\n",
       "SV                      29.5064      2.748     10.738      0.000      24.120      34.892\n",
       "TN                       1.4240      2.423      0.588      0.557      -3.325       6.173\n",
       "VE                       7.4036      1.742      4.250      0.000       3.989      10.818\n",
       "Length                  -0.9225      0.088    -10.429      0.000      -1.096      -0.749\n",
       "Spot_Cost                0.0953      0.001    146.448      0.000       0.094       0.097\n",
       "Cable                  -42.4680      2.250    -18.879      0.000     -46.877     -38.059\n",
       "DirecTV                217.3735      9.559     22.740      0.000     198.638     236.109\n",
       "Dish_Network           -55.0689      2.273    -24.226      0.000     -59.524     -50.613\n",
       "National_Network        33.8445      2.319     14.597      0.000      29.300      38.389\n",
       "Over-the-top_content -2.132e-13   9.77e-15    -21.820      0.000   -2.32e-13   -1.94e-13\n",
       "Q1                     -14.5398      0.764    -19.032      0.000     -16.037     -13.042\n",
       "Q2                      26.3359      1.059     24.869      0.000      24.260      28.412\n",
       "Q3                      14.4280      4.695      3.073      0.002       5.226      23.630\n",
       "Q4                      19.6918      4.059      4.851      0.000      11.736      27.648\n",
       "bin_1                  -12.9967      3.077     -4.223      0.000     -19.028      -6.965\n",
       "bin_2                    5.1723      1.010      5.121      0.000       3.193       7.152\n",
       "bin_3                    7.1010      1.008      7.045      0.000       5.125       9.077\n",
       "bin_4                   -5.2538      0.959     -5.480      0.000      -7.133      -3.375\n",
       "bin_5                    5.7840      0.890      6.496      0.000       4.039       7.529\n",
       "Daytime                 17.8737      0.960     18.623      0.000      15.993      19.755\n",
       "Early_Fringe            16.7765      0.842     19.923      0.000      15.126      18.427\n",
       "Late_Fringe             24.7126      0.853     28.955      0.000      23.040      26.385\n",
       "Late_Night              29.7924      0.987     30.182      0.000      27.858      31.727\n",
       "Morning                  7.3972      0.942      7.853      0.000       5.551       9.243\n",
       "Overnight               33.5512      1.107     30.319      0.000      31.382      35.720\n",
       "Primetime               23.5775      0.857     27.501      0.000      21.897      25.258\n",
       "midnight                16.5365      1.138     14.527      0.000      14.305      18.768\n",
       "one_am                  13.2559      1.288     10.294      0.000      10.732      15.780\n",
       "two_am                   8.8012      1.472      5.979      0.000       5.916      11.687\n",
       "three_am                10.8906      1.546      7.045      0.000       7.861      13.920\n",
       "four_am                 14.1751      1.852      7.653      0.000      10.545      17.806\n",
       "five_am                 -0.3157      1.940     -0.163      0.871      -4.118       3.486\n",
       "six_am                   0.2035      1.106      0.184      0.854      -1.964       2.371\n",
       "seven_am                 1.7210      1.090      1.579      0.114      -0.416       3.858\n",
       "eight_am                 5.4727      0.958      5.711      0.000       3.595       7.351\n",
       "nine_am                  0.2819      0.496      0.568      0.570      -0.690       1.254\n",
       "ten_am                   0.9458      0.492      1.922      0.055      -0.019       1.910\n",
       "eleven_am                1.3079      0.487      2.686      0.007       0.353       2.262\n",
       "noon                     1.5069      0.505      2.987      0.003       0.518       2.496\n",
       "one_pm                   4.4549      0.501      8.897      0.000       3.474       5.436\n",
       "two_pm                   5.6497      0.514     10.982      0.000       4.641       6.658\n",
       "three_pm                 3.7266      0.516      7.222      0.000       2.715       4.738\n",
       "four_pm                  3.9325      0.539      7.296      0.000       2.876       4.989\n",
       "five_pm                  5.6888      0.530     10.730      0.000       4.650       6.728\n",
       "six_pm                   7.1552      0.543     13.174      0.000       6.091       8.220\n",
       "seven_pm                 1.9116      0.605      3.159      0.002       0.725       3.098\n",
       "eight_pm                 9.3103      0.670     13.888      0.000       7.996      10.624\n",
       "nine_pm                 12.3556      0.674     18.334      0.000      11.035      13.676\n",
       "ten_pm                  17.6760      0.869     20.331      0.000      15.972      19.380\n",
       "eleven_pm                7.0366      0.886      7.945      0.000       5.301       8.772\n",
       "==============================================================================\n",
       "Omnibus:                    66375.859   Durbin-Watson:                   2.016\n",
       "Prob(Omnibus):                  0.000   Jarque-Bera (JB):         19936827.501\n",
       "Skew:                           6.044   Prob(JB):                         0.00\n",
       "Kurtosis:                      94.945   Cond. No.                     2.28e+16\n",
       "==============================================================================\n",
       "\n",
       "Warnings:\n",
       "[1] Standard Errors assume that the covariance matrix of the errors is correctly specified.\n",
       "[2] The smallest eigenvalue is 8.73e-24. This might indicate that there are\n",
       "strong multicollinearity problems or that the design matrix is singular.\n",
       "\"\"\""
      ]
     },
     "execution_count": 13,
     "metadata": {},
     "output_type": "execute_result"
    }
   ],
   "source": [
    "lr.summary()"
   ]
  },
  {
   "cell_type": "code",
   "execution_count": 14,
   "metadata": {},
   "outputs": [
    {
     "data": {
      "text/plain": [
       "<matplotlib.axes._subplots.AxesSubplot at 0x1a1f3f8dd00>"
      ]
     },
     "execution_count": 14,
     "metadata": {},
     "output_type": "execute_result"
    },
    {
     "data": {
      "image/png": "[encoded data removed]",
      "text/plain": [
       "<Figure size 842.4x595.44 with 1 Axes>"
      ]
     },
     "metadata": {},
     "output_type": "display_data"
    }
   ],
   "source": [
    "sns.residplot(\n",
    "    lr_preds,\n",
    "    y_test,\n",
    "    lowess=True,\n",
    "    line_kws={\"color\": \"red\", \"lw\": 1, \"alpha\": 1},\n",
    ")"
   ]
  },
  {
   "cell_type": "code",
   "execution_count": 15,
   "metadata": {},
   "outputs": [
    {
     "data": {
      "text/plain": [
       "Text(0.5, 1.0, 'Normal Q-Q Plot')"
      ]
     },
     "execution_count": 15,
     "metadata": {},
     "output_type": "execute_result"
    },
    {
     "data": {
      "image/png": "[encoded data removed]",
      "text/plain": [
       "<Figure size 504x504 with 1 Axes>"
      ]
     },
     "metadata": {},
     "output_type": "display_data"
    }
   ],
   "source": [
    "residuals = y_test - lr_preds\n",
    "residuals\n",
    "\n",
    "plt.figure(figsize=(7, 7))\n",
    "stats.probplot(residuals, dist=\"norm\", plot=plt)\n",
    "plt.title(\"Normal Q-Q Plot\")"
   ]
  },
  {
   "cell_type": "markdown",
   "metadata": {},
   "source": [
    "## Ridge CV Tuning"
   ]
  },
  {
   "cell_type": "code",
   "execution_count": 16,
   "metadata": {},
   "outputs": [
    {
     "data": {
      "text/plain": [
       "0.4295730689612034"
      ]
     },
     "execution_count": 16,
     "metadata": {},
     "output_type": "execute_result"
    }
   ],
   "source": [
    "rcv = RidgeCV(alphas=[1e-10, 1e-9, 1e-8, 1e-7, 1e-6, 1e-5, 1e-4, 1e-3, 1e-2, 1e-1, 1, 10], normalize=True)\n",
    "rcv.fit(X_train, y_train)\n",
    "rcv.score(X_train, y_train)"
   ]
  },
  {
   "cell_type": "code",
   "execution_count": 17,
   "metadata": {},
   "outputs": [
    {
     "data": {
      "text/plain": [
       "{'alphas': array([1.e-10, 1.e-09, 1.e-08, 1.e-07, 1.e-06, 1.e-05, 1.e-04, 1.e-03,\n",
       "        1.e-02, 1.e-01, 1.e+00, 1.e+01]),\n",
       " 'cv': None,\n",
       " 'fit_intercept': True,\n",
       " 'gcv_mode': None,\n",
       " 'normalize': True,\n",
       " 'scoring': None,\n",
       " 'store_cv_values': False}"
      ]
     },
     "execution_count": 17,
     "metadata": {},
     "output_type": "execute_result"
    }
   ],
   "source": [
    "rcv.get_params()"
   ]
  },
  {
   "cell_type": "code",
   "execution_count": 18,
   "metadata": {},
   "outputs": [],
   "source": [
    "preds_rcv = rcv.predict(X_test)"
   ]
  },
  {
   "cell_type": "markdown",
   "metadata": {},
   "source": [
    "## Ridge regression with SelectFromModel"
   ]
  },
  {
   "cell_type": "code",
   "execution_count": 19,
   "metadata": {},
   "outputs": [],
   "source": [
    "mse_list = []\n",
    "rmse_list = []\n",
    "score_list = []\n",
    "a_list = []\n",
    "for a in [1e-10, 1e-9, 1e-8, 1e-7, 1e-6, 1e-5, 1e-4, 1e-3, 1e-2, 1e-1, 1, 10]:\n",
    "    ridge = Ridge(alpha=a, normalize=True, solver='sag', random_state=1234)\n",
    "    \n",
    "    ridge.fit(X_train, y_train)\n",
    "    preds = ridge.predict(X_test)\n",
    "    score_list.append(ridge.score(X_test, y_test))\n",
    "    mse_list.append(MSE(y_test, preds))\n",
    "    rmse_list.append(np.sqrt(MSE(y_test, preds)))\n",
    "    a_list.append(a)"
   ]
  },
  {
   "cell_type": "code",
   "execution_count": 20,
   "metadata": {},
   "outputs": [],
   "source": [
    "ridge_results = pd.DataFrame(list(zip(a_list, score_list, mse_list, rmse_list)), \n",
    "                             columns = ['Alpha', 'R2', 'MSE', 'RMSE'])"
   ]
  },
  {
   "cell_type": "code",
   "execution_count": 21,
   "metadata": {},
   "outputs": [
    {
     "data": {
      "image/png": "[encoded data removed]",
      "text/plain": [
       "<Figure size 842.4x595.44 with 1 Axes>"
      ]
     },
     "metadata": {},
     "output_type": "display_data"
    }
   ],
   "source": [
    "line = sns.lineplot('Alpha', 'MSE', data=ridge_results)\n",
    "plt.show()"
   ]
  },
  {
   "cell_type": "code",
   "execution_count": 22,
   "metadata": {},
   "outputs": [
    {
     "data": {
      "image/png": "[encoded data removed]",
      "text/plain": [
       "<Figure size 842.4x595.44 with 1 Axes>"
      ]
     },
     "metadata": {},
     "output_type": "display_data"
    }
   ],
   "source": [
    "line = sns.lineplot('Alpha', 'R2', data=ridge_results)\n",
    "plt.show()"
   ]
  },
  {
   "cell_type": "code",
   "execution_count": 23,
   "metadata": {},
   "outputs": [
    {
     "data": {
      "text/html": [
       "<div>\n",
       "<style scoped>\n",
       "    .dataframe tbody tr th:only-of-type {\n",
       "        vertical-align: middle;\n",
       "    }\n",
       "\n",
       "    .dataframe tbody tr th {\n",
       "        vertical-align: top;\n",
       "    }\n",
       "\n",
       "    .dataframe thead th {\n",
       "        text-align: right;\n",
       "    }\n",
       "</style>\n",
       "<table border=\"1\" class=\"dataframe\">\n",
       "  <thead>\n",
       "    <tr style=\"text-align: right;\">\n",
       "      <th></th>\n",
       "      <th>0</th>\n",
       "      <th>1</th>\n",
       "      <th>2</th>\n",
       "      <th>3</th>\n",
       "    </tr>\n",
       "  </thead>\n",
       "  <tbody>\n",
       "    <tr>\n",
       "      <th>0</th>\n",
       "      <td>0.0001</td>\n",
       "      <td>0.431822</td>\n",
       "      <td>1085.84559</td>\n",
       "      <td>32.952171</td>\n",
       "    </tr>\n",
       "  </tbody>\n",
       "</table>\n",
       "</div>"
      ],
      "text/plain": [
       "        0         1           2          3\n",
       "0  0.0001  0.431822  1085.84559  32.952171"
      ]
     },
     "execution_count": 23,
     "metadata": {},
     "output_type": "execute_result"
    }
   ],
   "source": [
    "rcv_list = [rcv.alpha_, rcv.score(X_test, y_test), MSE(y_test, rcv.predict(X_test)), np.sqrt(MSE(y_test, rcv.predict(X_test)))]\n",
    "rcv_results = pd.DataFrame(rcv_list).transpose()\n",
    "rcv_results"
   ]
  },
  {
   "cell_type": "code",
   "execution_count": 24,
   "metadata": {},
   "outputs": [
    {
     "data": {
      "text/html": [
       "<div>\n",
       "<style scoped>\n",
       "    .dataframe tbody tr th:only-of-type {\n",
       "        vertical-align: middle;\n",
       "    }\n",
       "\n",
       "    .dataframe tbody tr th {\n",
       "        vertical-align: top;\n",
       "    }\n",
       "\n",
       "    .dataframe thead th {\n",
       "        text-align: right;\n",
       "    }\n",
       "</style>\n",
       "<table border=\"1\" class=\"dataframe\">\n",
       "  <thead>\n",
       "    <tr style=\"text-align: right;\">\n",
       "      <th></th>\n",
       "      <th>Alpha</th>\n",
       "      <th>R2</th>\n",
       "      <th>MSE</th>\n",
       "      <th>RMSE</th>\n",
       "    </tr>\n",
       "  </thead>\n",
       "  <tbody>\n",
       "    <tr>\n",
       "      <th>8</th>\n",
       "      <td>0.01</td>\n",
       "      <td>0.432153</td>\n",
       "      <td>1085.21407</td>\n",
       "      <td>32.942587</td>\n",
       "    </tr>\n",
       "  </tbody>\n",
       "</table>\n",
       "</div>"
      ],
      "text/plain": [
       "   Alpha        R2         MSE       RMSE\n",
       "8   0.01  0.432153  1085.21407  32.942587"
      ]
     },
     "execution_count": 24,
     "metadata": {},
     "output_type": "execute_result"
    }
   ],
   "source": [
    "ridge_results[ridge_results.MSE == ridge_results.MSE.min()]"
   ]
  },
  {
   "cell_type": "code",
   "execution_count": 25,
   "metadata": {},
   "outputs": [
    {
     "data": {
      "text/plain": [
       "array([ True, False, False,  True, False, False, False, False, False,\n",
       "       False, False, False, False, False, False,  True, False, False,\n",
       "       False, False, False,  True,  True,  True, False,  True, False,\n",
       "        True,  True,  True, False, False, False, False, False, False,\n",
       "       False, False, False, False, False,  True, False, False, False,\n",
       "        True, False, False, False, False, False, False, False, False,\n",
       "       False, False, False, False, False, False, False, False, False,\n",
       "        True, False])"
      ]
     },
     "execution_count": 25,
     "metadata": {},
     "output_type": "execute_result"
    }
   ],
   "source": [
    "selector_ridge = SelectFromModel(estimator=Ridge(alpha=1.000000e-10, normalize=True)).fit(X_train, y_train)\n",
    "selector_ridge.get_support()"
   ]
  },
  {
   "cell_type": "code",
   "execution_count": 26,
   "metadata": {},
   "outputs": [],
   "source": [
    "selected_labels = list(compress(labels, list(selector_ridge.get_support())))\n",
    "selected_labels\n",
    "\n",
    "X_adj = training.loc[:,selected_labels]\n",
    "X_train_adj, X_test_adj, y_train_adj, y_test_adj = train_test_split(X_adj, y, test_size=0.25)"
   ]
  },
  {
   "cell_type": "markdown",
   "metadata": {},
   "source": [
    "#### Ridge Regression with selected predictors"
   ]
  },
  {
   "cell_type": "code",
   "execution_count": 27,
   "metadata": {},
   "outputs": [
    {
     "name": "stdout",
     "output_type": "stream",
     "text": [
      "0.19462121195850157\n",
      "1659.3270842560132\n"
     ]
    }
   ],
   "source": [
    "ridge_adjusted = Ridge(alpha=1.000000e-10, normalize=True)\n",
    "ridge_adjusted.fit(X_train_adj, y_train_adj)\n",
    "preds = ridge_adjusted.predict(X_test_adj)\n",
    "\n",
    "print(ridge_adjusted.score(X_test_adj, y_test_adj))\n",
    "print(MSE(y_test_adj, preds))"
   ]
  },
  {
   "cell_type": "code",
   "execution_count": 28,
   "metadata": {},
   "outputs": [
    {
     "name": "stdout",
     "output_type": "stream",
     "text": [
      "40.73483870418555\n"
     ]
    }
   ],
   "source": [
    "print(np.sqrt(MSE(y_test_adj, preds)))"
   ]
  },
  {
   "cell_type": "markdown",
   "metadata": {},
   "source": [
    "## Ridge Regression with Scaling"
   ]
  },
  {
   "cell_type": "code",
   "execution_count": 33,
   "metadata": {},
   "outputs": [],
   "source": [
    "scaler_x = MinMaxScaler()\n",
    "scaler_y = MinMaxScaler()\n",
    "\n",
    "scaler_x.fit(X)\n",
    "X_scale = scaler_x.transform(X)\n",
    "\n",
    "scaler_y.fit(y.values.reshape(1, -1))\n",
    "y_scale = scaler_y.fit_transform(y.values.reshape(-1, 1))\n",
    "\n",
    "X_train, X_test, y_train, y_test = train_test_split(X_scale, y_scale, test_size=0.30)"
   ]
  },
  {
   "cell_type": "code",
   "execution_count": 38,
   "metadata": {},
   "outputs": [],
   "source": [
    "mse_list = []\n",
    "rmse_list = []\n",
    "score_list = []\n",
    "a_list = []\n",
    "for a in [1e-10, 1e-9, 1e-8, 1e-7, 1e-6, 1e-5, 1e-4, 1e-3, 1e-2, 1e-1, 1, 10]:\n",
    "    ridge = Ridge(alpha=a, solver='sag', random_state=1234)\n",
    "    \n",
    "    ridge.fit(X_train, y_train)\n",
    "    preds = scaler_y.inverse_transform(ridge.predict(X_test))\n",
    "    score_list.append(ridge.score(X_test, y_test))\n",
    "    mse_list.append(MSE(scaler_y.inverse_transform(y_test), preds))\n",
    "    rmse_list.append(np.sqrt(MSE(scaler_y.inverse_transform(y_test), preds)))\n",
    "    a_list.append(a)"
   ]
  },
  {
   "cell_type": "code",
   "execution_count": 39,
   "metadata": {},
   "outputs": [
    {
     "data": {
      "text/html": [
       "<div>\n",
       "<style scoped>\n",
       "    .dataframe tbody tr th:only-of-type {\n",
       "        vertical-align: middle;\n",
       "    }\n",
       "\n",
       "    .dataframe tbody tr th {\n",
       "        vertical-align: top;\n",
       "    }\n",
       "\n",
       "    .dataframe thead th {\n",
       "        text-align: right;\n",
       "    }\n",
       "</style>\n",
       "<table border=\"1\" class=\"dataframe\">\n",
       "  <thead>\n",
       "    <tr style=\"text-align: right;\">\n",
       "      <th></th>\n",
       "      <th>Alpha</th>\n",
       "      <th>R2</th>\n",
       "      <th>MSE</th>\n",
       "      <th>RMSE</th>\n",
       "    </tr>\n",
       "  </thead>\n",
       "  <tbody>\n",
       "    <tr>\n",
       "      <th>9</th>\n",
       "      <td>0.1</td>\n",
       "      <td>0.430091</td>\n",
       "      <td>1144.017835</td>\n",
       "      <td>33.823333</td>\n",
       "    </tr>\n",
       "  </tbody>\n",
       "</table>\n",
       "</div>"
      ],
      "text/plain": [
       "   Alpha        R2          MSE       RMSE\n",
       "9    0.1  0.430091  1144.017835  33.823333"
      ]
     },
     "execution_count": 39,
     "metadata": {},
     "output_type": "execute_result"
    }
   ],
   "source": [
    "ridge_results = pd.DataFrame(list(zip(a_list, score_list, mse_list, rmse_list)), \n",
    "                             columns = ['Alpha', 'R2', 'MSE', 'RMSE'])\n",
    "ridge_results[ridge_results.MSE == ridge_results.MSE.min()]"
   ]
  },
  {
   "cell_type": "code",
   "execution_count": null,
   "metadata": {},
   "outputs": [],
   "source": []
  }
 ],
 "metadata": {
  "kernelspec": {
   "display_name": "Python 3",
   "language": "python",
   "name": "python3"
  },
  "language_info": {
   "codemirror_mode": {
    "name": "ipython",
    "version": 3
   },
   "file_extension": ".py",
   "mimetype": "text/x-python",
   "name": "python",
   "nbconvert_exporter": "python",
   "pygments_lexer": "ipython3",
   "version": "3.8.1"
  }
 },
 "nbformat": 4,
 "nbformat_minor": 4
}
