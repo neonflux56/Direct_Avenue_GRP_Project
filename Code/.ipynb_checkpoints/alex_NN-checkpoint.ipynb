{
 "cells": [
  {
   "cell_type": "code",
   "execution_count": 60,
   "metadata": {},
   "outputs": [],
   "source": [
    "import pandas as pd\n",
    "import numpy as np\n",
    "\n",
    "from sklearn.model_selection import train_test_split\n",
    "from sklearn.metrics import mean_squared_error as MSE\n",
    "\n",
    "from keras.models import Sequential\n",
    "from keras.layers import Dense\n",
    "from keras.callbacks import EarlyStopping\n",
    "from keras.utils.vis_utils import model_to_dot"
   ]
  },
  {
   "cell_type": "code",
   "execution_count": 39,
   "metadata": {},
   "outputs": [
    {
     "name": "stderr",
     "output_type": "stream",
     "text": [
      "/usr/local/lib/python3.6/dist-packages/IPython/core/interactiveshell.py:3051: DtypeWarning: Columns (2,7) have mixed types. Specify dtype option on import or set low_memory=False.\n",
      "  interactivity=interactivity, compiler=compiler, result=result)\n"
     ]
    }
   ],
   "source": [
    "dat = pd.read_csv('../Data/dat_features.csv')\n",
    "\n",
    "dat = dat.loc[:, \"Access\":]"
   ]
  },
  {
   "cell_type": "code",
   "execution_count": 40,
   "metadata": {},
   "outputs": [],
   "source": [
    "unseen = dat[(dat.Impressions.eq(0.0)) & (dat.GRP.eq(0.0)) | (dat.active_flag.eq(1))]\n",
    "training = dat[dat.Impressions > 0.0]"
   ]
  },
  {
   "cell_type": "code",
   "execution_count": 44,
   "metadata": {},
   "outputs": [
    {
     "data": {
      "text/plain": [
       "Index(['Access', 'DMA', 'Date_Aired', 'Estimate', 'GRP', 'Impressions',\n",
       "       'Length', 'Market', 'Media', 'Spot_Cost', 'Spot_Type', 'Station_ID',\n",
       "       'Time_Aired', 'DOW', 'daypart', 'Hours', 'Month', 'is_outlier',\n",
       "       'Station_ID_', 'bins', 'bin_0', 'bin_1', 'bin_2', 'bin_3', 'bin_4',\n",
       "       'bin_5', '15DC', '15GD', '15PN', '30BP', '30DE', '30DP', '30GD', '30GX',\n",
       "       '30PL', '30PM', '30PT', '30SR', '30TN', '30VE', 'GDWB', 'SV15', 'Q119',\n",
       "       'Q219', 'Q319', 'Q419', 'Cable', 'DirecTV', 'Dish_Network',\n",
       "       'National_Network', 'Over-the-top_content', 'Friday', 'Monday',\n",
       "       'Saturday', 'Sunday', 'Thursday', 'Tuesday', 'Wednesday', 'Daytime',\n",
       "       'Early_Fringe', 'Late_Fringe', 'Late_Night', 'Morning', 'Overnight',\n",
       "       'Primetime', 'midnight', 'one_am', 'two_am', 'three_am', 'four_am',\n",
       "       'five_am', 'six_am', 'seven_am', 'eight_am', 'nine_am', 'ten_am',\n",
       "       'eleven_am', 'noon', 'one_pm', 'two_pm', 'three_pm', 'four_pm',\n",
       "       'five_pm', 'six_pm', 'seven_pm', 'eight_pm', 'nine_pm', 'ten_pm',\n",
       "       'eleven_pm', 'active_flag'],\n",
       "      dtype='object')"
      ]
     },
     "execution_count": 44,
     "metadata": {},
     "output_type": "execute_result"
    }
   ],
   "source": [
    "dat.columns"
   ]
  },
  {
   "cell_type": "code",
   "execution_count": 52,
   "metadata": {},
   "outputs": [],
   "source": [
    "labels = [\n",
    "        \"Length\",\n",
    "        \"Spot_Cost\",\n",
    "        \"Cable\", \n",
    "        \"DirecTV\",\n",
    "        \"Dish_Network\",\n",
    "        \"National_Network\",\n",
    "        \"Over-the-top_content\",\n",
    "        \"Monday\",\n",
    "        \"Tuesday\",\n",
    "        \"Wednesday\",\n",
    "        \"Thursday\",\n",
    "        \"Friday\",\n",
    "        \"Saturday\",\n",
    "        \"Sunday\",\n",
    "        'bin_0', 'bin_1', 'bin_2',                \n",
    "        'bin_3', 'bin_4', 'bin_5',\n",
    "        'midnight', 'one_am', 'two_am', 'three_am', 'four_am', \n",
    "        'five_am', 'six_am', 'seven_am', 'eight_am', 'nine_am', \n",
    "        'ten_am', 'eleven_am', 'noon', 'one_pm', 'two_pm',\n",
    "        'three_pm', 'four_pm', 'five_pm', 'six_pm', 'seven_pm', \n",
    "        'eight_pm', 'nine_pm', 'ten_pm', 'eleven_pm'\n",
    "    ]\n",
    "\n",
    "X = training.loc[:, labels]\n",
    "y = training.loc[:, \"Impressions\"]\n",
    "X_train, X_test, y_train, y_test = train_test_split(X, y, test_size=0.30)"
   ]
  },
  {
   "cell_type": "code",
   "execution_count": 53,
   "metadata": {},
   "outputs": [],
   "source": [
    "dim = len(X_train.columns)"
   ]
  },
  {
   "cell_type": "code",
   "execution_count": 62,
   "metadata": {},
   "outputs": [
    {
     "data": {
      "text/plain": [
       "44"
      ]
     },
     "execution_count": 62,
     "metadata": {},
     "output_type": "execute_result"
    }
   ],
   "source": [
    "dim"
   ]
  },
  {
   "cell_type": "code",
   "execution_count": 63,
   "metadata": {},
   "outputs": [
    {
     "name": "stdout",
     "output_type": "stream",
     "text": [
      "Train on 2744 samples, validate on 686 samples\n",
      "Epoch 1/20\n",
      "2744/2744 [==============================] - 1s 198us/step - loss: 26.1870 - mean_absolute_error: 26.1870 - val_loss: 28.8021 - val_mean_absolute_error: 28.8021\n",
      "Epoch 2/20\n",
      "2744/2744 [==============================] - 0s 150us/step - loss: 25.1674 - mean_absolute_error: 25.1674 - val_loss: 28.4497 - val_mean_absolute_error: 28.4497\n",
      "Epoch 3/20\n",
      "2744/2744 [==============================] - 0s 143us/step - loss: 24.8048 - mean_absolute_error: 24.8048 - val_loss: 28.1676 - val_mean_absolute_error: 28.1676\n",
      "Epoch 4/20\n",
      "2744/2744 [==============================] - 0s 148us/step - loss: 24.5260 - mean_absolute_error: 24.5260 - val_loss: 27.8352 - val_mean_absolute_error: 27.8351\n",
      "Epoch 5/20\n",
      "2744/2744 [==============================] - 0s 140us/step - loss: 24.2190 - mean_absolute_error: 24.2190 - val_loss: 27.6732 - val_mean_absolute_error: 27.6732\n",
      "Epoch 6/20\n",
      "2744/2744 [==============================] - 0s 149us/step - loss: 23.4834 - mean_absolute_error: 23.4834 - val_loss: 26.8294 - val_mean_absolute_error: 26.8294\n",
      "Epoch 7/20\n",
      "2744/2744 [==============================] - 0s 144us/step - loss: 22.8797 - mean_absolute_error: 22.8797 - val_loss: 26.4073 - val_mean_absolute_error: 26.4074\n",
      "Epoch 8/20\n",
      "2744/2744 [==============================] - 0s 141us/step - loss: 22.5040 - mean_absolute_error: 22.5040 - val_loss: 26.0963 - val_mean_absolute_error: 26.0963\n",
      "Epoch 9/20\n",
      "2744/2744 [==============================] - 0s 141us/step - loss: 22.2449 - mean_absolute_error: 22.2449 - val_loss: 25.7928 - val_mean_absolute_error: 25.7928\n",
      "Epoch 10/20\n",
      "2744/2744 [==============================] - 0s 139us/step - loss: 21.9685 - mean_absolute_error: 21.9685 - val_loss: 25.7725 - val_mean_absolute_error: 25.7725\n",
      "Epoch 11/20\n",
      "2744/2744 [==============================] - 0s 147us/step - loss: 21.7837 - mean_absolute_error: 21.7837 - val_loss: 25.6969 - val_mean_absolute_error: 25.6969\n",
      "Epoch 12/20\n",
      "2744/2744 [==============================] - 0s 140us/step - loss: 21.7803 - mean_absolute_error: 21.7803 - val_loss: 25.6863 - val_mean_absolute_error: 25.6863\n",
      "Epoch 13/20\n",
      "2744/2744 [==============================] - 0s 144us/step - loss: 21.7401 - mean_absolute_error: 21.7401 - val_loss: 25.6324 - val_mean_absolute_error: 25.6324\n",
      "Epoch 14/20\n",
      "2744/2744 [==============================] - 0s 144us/step - loss: 21.7427 - mean_absolute_error: 21.7427 - val_loss: 25.6195 - val_mean_absolute_error: 25.6195\n",
      "Epoch 15/20\n",
      "2744/2744 [==============================] - 0s 142us/step - loss: 21.7200 - mean_absolute_error: 21.7200 - val_loss: 25.7703 - val_mean_absolute_error: 25.7703\n",
      "Epoch 16/20\n",
      "2744/2744 [==============================] - 0s 142us/step - loss: 21.6246 - mean_absolute_error: 21.6246 - val_loss: 25.9515 - val_mean_absolute_error: 25.9515\n",
      "Epoch 17/20\n",
      "2744/2744 [==============================] - 0s 137us/step - loss: 21.5259 - mean_absolute_error: 21.5259 - val_loss: 25.7557 - val_mean_absolute_error: 25.7557\n",
      "Epoch 18/20\n",
      "2744/2744 [==============================] - 0s 154us/step - loss: 21.6592 - mean_absolute_error: 21.6592 - val_loss: 25.6832 - val_mean_absolute_error: 25.6832\n",
      "Epoch 19/20\n",
      "2744/2744 [==============================] - 0s 148us/step - loss: 21.5357 - mean_absolute_error: 21.5357 - val_loss: 25.6570 - val_mean_absolute_error: 25.6570\n",
      "Epoch 20/20\n",
      "2744/2744 [==============================] - 0s 145us/step - loss: 21.4572 - mean_absolute_error: 21.4572 - val_loss: 25.5276 - val_mean_absolute_error: 25.5276\n"
     ]
    },
    {
     "data": {
      "text/plain": [
       "<keras.callbacks.callbacks.History at 0x7f7a7f925518>"
      ]
     },
     "execution_count": 63,
     "metadata": {},
     "output_type": "execute_result"
    }
   ],
   "source": [
    "model = Sequential()\n",
    "model.add(Dense(44, input_dim=dim, kernel_initializer='normal', activation='relu'))\n",
    "model.add(Dense(256, kernel_initializer='normal', activation='relu'))\n",
    "model.add(Dense(256, kernel_initializer='normal', activation='relu'))\n",
    "model.add(Dense(1, kernel_initializer='normal'))\n",
    "\n",
    "model.compile(loss='mean_absolute_error', \n",
    "              optimizer='adam',\n",
    "              metrics=['mean_absolute_error'])\n",
    "\n",
    "model.fit(X_train, y_train, \n",
    "          epochs = 20, validation_split=0.2)"
   ]
  },
  {
   "cell_type": "code",
   "execution_count": 64,
   "metadata": {},
   "outputs": [],
   "source": [
    "preds = model.predict(X_test)"
   ]
  },
  {
   "cell_type": "code",
   "execution_count": 65,
   "metadata": {},
   "outputs": [
    {
     "name": "stdout",
     "output_type": "stream",
     "text": [
      "49.63038387605127\n"
     ]
    }
   ],
   "source": [
    "print(np.sqrt(MSE(y_test, preds)))"
   ]
  },
  {
   "cell_type": "code",
   "execution_count": null,
   "metadata": {},
   "outputs": [],
   "source": []
  }
 ],
 "metadata": {
  "kernelspec": {
   "display_name": "Python 3",
   "language": "python",
   "name": "python3"
  },
  "language_info": {
   "codemirror_mode": {
    "name": "ipython",
    "version": 3
   },
   "file_extension": ".py",
   "mimetype": "text/x-python",
   "name": "python",
   "nbconvert_exporter": "python",
   "pygments_lexer": "ipython3",
   "version": "3.6.9"
  }
 },
 "nbformat": 4,
 "nbformat_minor": 4
}
