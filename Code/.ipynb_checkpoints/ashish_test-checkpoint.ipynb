{
 "cells": [
  {
   "cell_type": "code",
   "execution_count": 1,
   "metadata": {},
   "outputs": [],
   "source": [
    "import pandas as pd\n",
    "import numpy as np\n",
    "import seaborn as sns\n",
    "import os\n",
    "import matplotlib.pyplot as plt\n",
    "\n",
    "from datetime import date\n",
    "import calendar"
   ]
  },
  {
   "cell_type": "code",
   "execution_count": 2,
   "metadata": {},
   "outputs": [
    {
     "data": {
      "text/plain": [
       "'/home/jovyan/Desktop/Direct_Avenue_GRP_Project/Code'"
      ]
     },
     "execution_count": 2,
     "metadata": {},
     "output_type": "execute_result"
    }
   ],
   "source": [
    "pwd"
   ]
  },
  {
   "cell_type": "code",
   "execution_count": 3,
   "metadata": {},
   "outputs": [],
   "source": [
    "Jan = pd.read_excel('/home/jovyan/Desktop/Direct_Avenue_GRP_Project/Data/January.xlsx')  \n",
    "Feb = pd.read_excel('/home/jovyan/Desktop/Direct_Avenue_GRP_Project/Data/February.xlsx')  \n",
    "Mar = pd.read_excel('/home/jovyan/Desktop/Direct_Avenue_GRP_Project/Data/March.xlsx')\n",
    "Apr = pd.read_excel('/home/jovyan/Desktop/Direct_Avenue_GRP_Project/Data/April.xlsx')\n",
    "May = pd.read_excel('/home/jovyan/Desktop/Direct_Avenue_GRP_Project/Data/May.xlsx')\n",
    "Jun = pd.read_excel('/home/jovyan/Desktop/Direct_Avenue_GRP_Project/Data/June.xlsx')\n",
    "Jul = pd.read_excel('/home/jovyan/Desktop/Direct_Avenue_GRP_Project/Data/July.xlsx')\n",
    "Aug = pd.read_excel('/home/jovyan/Desktop/Direct_Avenue_GRP_Project/Data/August.xlsx')\n",
    "Sept1 = pd.read_excel('/home/jovyan/Desktop/Direct_Avenue_GRP_Project/Data/September1.xlsx')\n",
    "Sept2 = pd.read_excel('/home/jovyan/Desktop/Direct_Avenue_GRP_Project/Data/September2.xlsx')\n",
    "Sept3 = pd.read_excel('/home/jovyan/Desktop/Direct_Avenue_GRP_Project/Data/September3.xlsx')\n",
    "Sept = Sept1.append(Sept2, ignore_index=True).append(Sept3,ignore_index = True)\n",
    "Oct = pd.read_excel('/home/jovyan/Desktop/Direct_Avenue_GRP_Project/Data/October.xlsx')\n",
    "Nov = pd.read_excel('/home/jovyan/Desktop/Direct_Avenue_GRP_Project/Data/November.xlsx')\n",
    "Dec1 = pd.read_excel('/home/jovyan/Desktop/Direct_Avenue_GRP_Project/Data/December1.xlsx')\n",
    "Dec2 = pd.read_excel('/home/jovyan/Desktop/Direct_Avenue_GRP_Project/Data/December2.xlsx')\n",
    "Dec = Dec1.append(Dec2, ignore_index=True)"
   ]
  },
  {
   "cell_type": "code",
   "execution_count": 4,
   "metadata": {},
   "outputs": [],
   "source": [
    "Jan['Month'] = 'January'\n",
    "Feb['Month'] = 'February'\n",
    "Mar['Month'] = 'March'\n",
    "Apr['Month'] = 'April'\n",
    "May['Month'] = 'May'\n",
    "Jun['Month'] = 'June'\n",
    "Jul['Month'] = 'July'\n",
    "Aug['Month'] = 'August'\n",
    "Sept['Month'] = 'September'\n",
    "Oct['Month'] = 'October'\n",
    "Nov['Month'] = 'November'\n",
    "Dec['Month'] = 'December'"
   ]
  },
  {
   "cell_type": "code",
   "execution_count": 5,
   "metadata": {},
   "outputs": [
    {
     "data": {
      "text/plain": [
       "Media                       object\n",
       "Estimate                    object\n",
       "Access                      object\n",
       "DMA                         object\n",
       "Market                      object\n",
       "Station ID                   int64\n",
       "Length                       int64\n",
       "Date Aired          datetime64[ns]\n",
       "Time Aired                  object\n",
       "Spot Cost                  float64\n",
       "Spot Type                   object\n",
       "GRP                        float64\n",
       "Impression (000)           float64\n",
       "Month                       object\n",
       "dtype: object"
      ]
     },
     "execution_count": 5,
     "metadata": {},
     "output_type": "execute_result"
    }
   ],
   "source": [
    "Jan.dtypes"
   ]
  },
  {
   "cell_type": "code",
   "execution_count": 6,
   "metadata": {},
   "outputs": [],
   "source": [
    "col_names = ['Media','Estimate','Access','DMA','Market','StationId','Length','Date','Time','Spot_Cost','Spot_Type','GRP','IMP','Month']\n"
   ]
  },
  {
   "cell_type": "code",
   "execution_count": 7,
   "metadata": {},
   "outputs": [],
   "source": [
    "Jan.columns = col_names\n",
    "Feb.columns = col_names\n",
    "Mar.columns = col_names\n",
    "Apr.columns = col_names\n",
    "May.columns = col_names\n",
    "Jun.columns = col_names\n",
    "Jul.columns = col_names\n",
    "Aug.columns = col_names\n",
    "Sept.columns = col_names\n",
    "Oct.columns = col_names\n",
    "Nov.columns = col_names\n",
    "Dec.columns = col_names"
   ]
  },
  {
   "cell_type": "code",
   "execution_count": 8,
   "metadata": {},
   "outputs": [
    {
     "data": {
      "text/html": [
       "<div>\n",
       "<style scoped>\n",
       "    .dataframe tbody tr th:only-of-type {\n",
       "        vertical-align: middle;\n",
       "    }\n",
       "\n",
       "    .dataframe tbody tr th {\n",
       "        vertical-align: top;\n",
       "    }\n",
       "\n",
       "    .dataframe thead th {\n",
       "        text-align: right;\n",
       "    }\n",
       "</style>\n",
       "<table border=\"1\" class=\"dataframe\">\n",
       "  <thead>\n",
       "    <tr style=\"text-align: right;\">\n",
       "      <th></th>\n",
       "      <th>Media</th>\n",
       "      <th>Estimate</th>\n",
       "      <th>Access</th>\n",
       "      <th>DMA</th>\n",
       "      <th>Market</th>\n",
       "      <th>StationId</th>\n",
       "      <th>Length</th>\n",
       "      <th>Date</th>\n",
       "      <th>Time</th>\n",
       "      <th>Spot_Cost</th>\n",
       "      <th>Spot_Type</th>\n",
       "      <th>GRP</th>\n",
       "      <th>IMP</th>\n",
       "      <th>Month</th>\n",
       "    </tr>\n",
       "  </thead>\n",
       "  <tbody>\n",
       "    <tr>\n",
       "      <th>0</th>\n",
       "      <td>TV</td>\n",
       "      <td>Q119</td>\n",
       "      <td>30GD</td>\n",
       "      <td>900</td>\n",
       "      <td>National Network</td>\n",
       "      <td>37</td>\n",
       "      <td>30</td>\n",
       "      <td>2018-12-31</td>\n",
       "      <td>00:06:00</td>\n",
       "      <td>56.0</td>\n",
       "      <td>INV</td>\n",
       "      <td>0.000</td>\n",
       "      <td>0.0</td>\n",
       "      <td>January</td>\n",
       "    </tr>\n",
       "    <tr>\n",
       "      <th>1</th>\n",
       "      <td>TV</td>\n",
       "      <td>Q119</td>\n",
       "      <td>30TN</td>\n",
       "      <td>900</td>\n",
       "      <td>Cable</td>\n",
       "      <td>202</td>\n",
       "      <td>30</td>\n",
       "      <td>2018-12-31</td>\n",
       "      <td>00:07:00</td>\n",
       "      <td>56.0</td>\n",
       "      <td>INV</td>\n",
       "      <td>0.000</td>\n",
       "      <td>0.0</td>\n",
       "      <td>January</td>\n",
       "    </tr>\n",
       "    <tr>\n",
       "      <th>2</th>\n",
       "      <td>TV</td>\n",
       "      <td>Q119</td>\n",
       "      <td>30PM</td>\n",
       "      <td>900</td>\n",
       "      <td>Cable</td>\n",
       "      <td>253</td>\n",
       "      <td>30</td>\n",
       "      <td>2018-12-31</td>\n",
       "      <td>00:09:00</td>\n",
       "      <td>142.4</td>\n",
       "      <td>INV</td>\n",
       "      <td>0.016</td>\n",
       "      <td>27.2</td>\n",
       "      <td>January</td>\n",
       "    </tr>\n",
       "    <tr>\n",
       "      <th>3</th>\n",
       "      <td>TV</td>\n",
       "      <td>Q119</td>\n",
       "      <td>30PM</td>\n",
       "      <td>900</td>\n",
       "      <td>Cable</td>\n",
       "      <td>340</td>\n",
       "      <td>30</td>\n",
       "      <td>2018-12-31</td>\n",
       "      <td>00:09:00</td>\n",
       "      <td>64.0</td>\n",
       "      <td>INV</td>\n",
       "      <td>0.128</td>\n",
       "      <td>158.4</td>\n",
       "      <td>January</td>\n",
       "    </tr>\n",
       "    <tr>\n",
       "      <th>4</th>\n",
       "      <td>TV</td>\n",
       "      <td>Q119</td>\n",
       "      <td>30GD</td>\n",
       "      <td>900</td>\n",
       "      <td>Cable</td>\n",
       "      <td>168</td>\n",
       "      <td>30</td>\n",
       "      <td>2018-12-31</td>\n",
       "      <td>00:10:00</td>\n",
       "      <td>56.0</td>\n",
       "      <td>INV</td>\n",
       "      <td>0.000</td>\n",
       "      <td>0.0</td>\n",
       "      <td>January</td>\n",
       "    </tr>\n",
       "  </tbody>\n",
       "</table>\n",
       "</div>"
      ],
      "text/plain": [
       "  Media Estimate Access  DMA                          Market  StationId  \\\n",
       "0    TV     Q119   30GD  900  National Network                       37   \n",
       "1    TV     Q119   30TN  900  Cable                                 202   \n",
       "2    TV     Q119   30PM  900  Cable                                 253   \n",
       "3    TV     Q119   30PM  900  Cable                                 340   \n",
       "4    TV     Q119   30GD  900  Cable                                 168   \n",
       "\n",
       "   Length       Date      Time  Spot_Cost Spot_Type    GRP    IMP    Month  \n",
       "0      30 2018-12-31  00:06:00       56.0      INV   0.000    0.0  January  \n",
       "1      30 2018-12-31  00:07:00       56.0      INV   0.000    0.0  January  \n",
       "2      30 2018-12-31  00:09:00      142.4      INV   0.016   27.2  January  \n",
       "3      30 2018-12-31  00:09:00       64.0      INV   0.128  158.4  January  \n",
       "4      30 2018-12-31  00:10:00       56.0      INV   0.000    0.0  January  "
      ]
     },
     "execution_count": 8,
     "metadata": {},
     "output_type": "execute_result"
    }
   ],
   "source": [
    "dat = Jan.append(Feb, ignore_index=True).append(Mar, ignore_index=True).append(Apr, ignore_index=True).append(May, ignore_index=True).append(Jun, ignore_index=True).append(Jul, ignore_index=True).append(Aug, ignore_index=True).append(Sept, ignore_index=True).append(Oct, ignore_index=True).append(Nov, ignore_index=True).append(Dec, ignore_index=True)\n",
    "dat.head()"
   ]
  },
  {
   "cell_type": "code",
   "execution_count": null,
   "metadata": {},
   "outputs": [],
   "source": []
  },
  {
   "cell_type": "code",
   "execution_count": 9,
   "metadata": {},
   "outputs": [],
   "source": [
    "#d1 = dat[(dat.GRP != 0) & (dat.IMP != 0)]   "
   ]
  },
  {
   "cell_type": "code",
   "execution_count": null,
   "metadata": {},
   "outputs": [],
   "source": []
  },
  {
   "cell_type": "code",
   "execution_count": 10,
   "metadata": {},
   "outputs": [
    {
     "data": {
      "text/plain": [
       "Media                object\n",
       "Estimate             object\n",
       "Access               object\n",
       "DMA                  object\n",
       "Market               object\n",
       "StationId             int64\n",
       "Length                int64\n",
       "Date         datetime64[ns]\n",
       "Time                 object\n",
       "Spot_Cost           float64\n",
       "Spot_Type            object\n",
       "GRP                 float64\n",
       "IMP                 float64\n",
       "Month                object\n",
       "dtype: object"
      ]
     },
     "execution_count": 10,
     "metadata": {},
     "output_type": "execute_result"
    }
   ],
   "source": [
    "dat.dtypes"
   ]
  },
  {
   "cell_type": "code",
   "execution_count": 11,
   "metadata": {},
   "outputs": [],
   "source": [
    "dtypes = {\n",
    "    \"Media\": str,\n",
    "    \"Estimate\": str,\n",
    "    \"Access\": str,\n",
    "    \"DMA\": str,\n",
    "    \"Market\": str,\n",
    "    \"StationId\": str,\n",
    "    \"Length\": int,\n",
    "    \"Date\": str,\n",
    "    \"Time\": str,\n",
    "    \"Spot_Cost\": float,\n",
    "    \"Spot_Type\": str,\n",
    "    \"GRP\": float,\n",
    "    \"IMP\": float,\n",
    "    \"Month\": str,\n",
    "}\n",
    "\n",
    "dat = dat.astype(dtypes)"
   ]
  },
  {
   "cell_type": "code",
   "execution_count": 12,
   "metadata": {},
   "outputs": [
    {
     "data": {
      "text/plain": [
       "Media         object\n",
       "Estimate      object\n",
       "Access        object\n",
       "DMA           object\n",
       "Market        object\n",
       "StationId     object\n",
       "Length         int64\n",
       "Date          object\n",
       "Time          object\n",
       "Spot_Cost    float64\n",
       "Spot_Type     object\n",
       "GRP          float64\n",
       "IMP          float64\n",
       "Month         object\n",
       "dtype: object"
      ]
     },
     "execution_count": 12,
     "metadata": {},
     "output_type": "execute_result"
    }
   ],
   "source": [
    "dat.dtypes"
   ]
  },
  {
   "cell_type": "code",
   "execution_count": 13,
   "metadata": {},
   "outputs": [
    {
     "data": {
      "text/html": [
       "<div>\n",
       "<style scoped>\n",
       "    .dataframe tbody tr th:only-of-type {\n",
       "        vertical-align: middle;\n",
       "    }\n",
       "\n",
       "    .dataframe tbody tr th {\n",
       "        vertical-align: top;\n",
       "    }\n",
       "\n",
       "    .dataframe thead th {\n",
       "        text-align: right;\n",
       "    }\n",
       "</style>\n",
       "<table border=\"1\" class=\"dataframe\">\n",
       "  <thead>\n",
       "    <tr style=\"text-align: right;\">\n",
       "      <th></th>\n",
       "      <th>Media</th>\n",
       "      <th>Estimate</th>\n",
       "      <th>Access</th>\n",
       "      <th>DMA</th>\n",
       "      <th>Market</th>\n",
       "      <th>StationId</th>\n",
       "      <th>Length</th>\n",
       "      <th>Date</th>\n",
       "      <th>Time</th>\n",
       "      <th>Spot_Cost</th>\n",
       "      <th>Spot_Type</th>\n",
       "      <th>GRP</th>\n",
       "      <th>IMP</th>\n",
       "      <th>Month</th>\n",
       "    </tr>\n",
       "  </thead>\n",
       "  <tbody>\n",
       "    <tr>\n",
       "      <th>0</th>\n",
       "      <td>TV</td>\n",
       "      <td>Q119</td>\n",
       "      <td>30GD</td>\n",
       "      <td>900</td>\n",
       "      <td>National Network</td>\n",
       "      <td>37</td>\n",
       "      <td>30</td>\n",
       "      <td>2018-12-31</td>\n",
       "      <td>00:06:00</td>\n",
       "      <td>56.0</td>\n",
       "      <td>INV</td>\n",
       "      <td>0.000</td>\n",
       "      <td>0.0</td>\n",
       "      <td>January</td>\n",
       "    </tr>\n",
       "    <tr>\n",
       "      <th>1</th>\n",
       "      <td>TV</td>\n",
       "      <td>Q119</td>\n",
       "      <td>30TN</td>\n",
       "      <td>900</td>\n",
       "      <td>Cable</td>\n",
       "      <td>202</td>\n",
       "      <td>30</td>\n",
       "      <td>2018-12-31</td>\n",
       "      <td>00:07:00</td>\n",
       "      <td>56.0</td>\n",
       "      <td>INV</td>\n",
       "      <td>0.000</td>\n",
       "      <td>0.0</td>\n",
       "      <td>January</td>\n",
       "    </tr>\n",
       "    <tr>\n",
       "      <th>2</th>\n",
       "      <td>TV</td>\n",
       "      <td>Q119</td>\n",
       "      <td>30PM</td>\n",
       "      <td>900</td>\n",
       "      <td>Cable</td>\n",
       "      <td>253</td>\n",
       "      <td>30</td>\n",
       "      <td>2018-12-31</td>\n",
       "      <td>00:09:00</td>\n",
       "      <td>142.4</td>\n",
       "      <td>INV</td>\n",
       "      <td>0.016</td>\n",
       "      <td>27.2</td>\n",
       "      <td>January</td>\n",
       "    </tr>\n",
       "    <tr>\n",
       "      <th>3</th>\n",
       "      <td>TV</td>\n",
       "      <td>Q119</td>\n",
       "      <td>30PM</td>\n",
       "      <td>900</td>\n",
       "      <td>Cable</td>\n",
       "      <td>340</td>\n",
       "      <td>30</td>\n",
       "      <td>2018-12-31</td>\n",
       "      <td>00:09:00</td>\n",
       "      <td>64.0</td>\n",
       "      <td>INV</td>\n",
       "      <td>0.128</td>\n",
       "      <td>158.4</td>\n",
       "      <td>January</td>\n",
       "    </tr>\n",
       "    <tr>\n",
       "      <th>4</th>\n",
       "      <td>TV</td>\n",
       "      <td>Q119</td>\n",
       "      <td>30GD</td>\n",
       "      <td>900</td>\n",
       "      <td>Cable</td>\n",
       "      <td>168</td>\n",
       "      <td>30</td>\n",
       "      <td>2018-12-31</td>\n",
       "      <td>00:10:00</td>\n",
       "      <td>56.0</td>\n",
       "      <td>INV</td>\n",
       "      <td>0.000</td>\n",
       "      <td>0.0</td>\n",
       "      <td>January</td>\n",
       "    </tr>\n",
       "  </tbody>\n",
       "</table>\n",
       "</div>"
      ],
      "text/plain": [
       "  Media Estimate Access  DMA                          Market StationId  \\\n",
       "0    TV     Q119   30GD  900  National Network                      37   \n",
       "1    TV     Q119   30TN  900  Cable                                202   \n",
       "2    TV     Q119   30PM  900  Cable                                253   \n",
       "3    TV     Q119   30PM  900  Cable                                340   \n",
       "4    TV     Q119   30GD  900  Cable                                168   \n",
       "\n",
       "   Length        Date      Time  Spot_Cost Spot_Type    GRP    IMP    Month  \n",
       "0      30  2018-12-31  00:06:00       56.0      INV   0.000    0.0  January  \n",
       "1      30  2018-12-31  00:07:00       56.0      INV   0.000    0.0  January  \n",
       "2      30  2018-12-31  00:09:00      142.4      INV   0.016   27.2  January  \n",
       "3      30  2018-12-31  00:09:00       64.0      INV   0.128  158.4  January  \n",
       "4      30  2018-12-31  00:10:00       56.0      INV   0.000    0.0  January  "
      ]
     },
     "execution_count": 13,
     "metadata": {},
     "output_type": "execute_result"
    }
   ],
   "source": [
    "dat.head()"
   ]
  },
  {
   "cell_type": "code",
   "execution_count": 14,
   "metadata": {},
   "outputs": [],
   "source": [
    "dat[\"Date\"] = pd.to_datetime(dat[\"Date\"], format=\"%Y-%m-%d\")"
   ]
  },
  {
   "cell_type": "code",
   "execution_count": 15,
   "metadata": {},
   "outputs": [],
   "source": [
    "dat[\"Day_Of_Week\"] = dat[\"Date\"].dt.day_name()"
   ]
  },
  {
   "cell_type": "code",
   "execution_count": 16,
   "metadata": {},
   "outputs": [],
   "source": [
    "dat[\"Hour_Slot\"] = dat.loc[:,'Time'].apply(lambda x: (x[:2]))"
   ]
  },
  {
   "cell_type": "code",
   "execution_count": 17,
   "metadata": {},
   "outputs": [
    {
     "data": {
      "text/plain": [
       "array(['00', '01', '02', '03', '04', '05', '06', '07', '08', '09', '10',\n",
       "       '11', '12', '13', '14', '15', '16', '17', '18', '19', '20', '21',\n",
       "       '22', '23'], dtype=object)"
      ]
     },
     "execution_count": 17,
     "metadata": {},
     "output_type": "execute_result"
    }
   ],
   "source": [
    "dat.Hour_Slot.unique()"
   ]
  },
  {
   "cell_type": "code",
   "execution_count": 18,
   "metadata": {},
   "outputs": [],
   "source": [
    "dat[\"Access\"] = dat.loc[:,'Access'].apply(lambda x: (x[2:]))"
   ]
  },
  {
   "cell_type": "code",
   "execution_count": 19,
   "metadata": {},
   "outputs": [
    {
     "data": {
      "text/html": [
       "<div>\n",
       "<style scoped>\n",
       "    .dataframe tbody tr th:only-of-type {\n",
       "        vertical-align: middle;\n",
       "    }\n",
       "\n",
       "    .dataframe tbody tr th {\n",
       "        vertical-align: top;\n",
       "    }\n",
       "\n",
       "    .dataframe thead th {\n",
       "        text-align: right;\n",
       "    }\n",
       "</style>\n",
       "<table border=\"1\" class=\"dataframe\">\n",
       "  <thead>\n",
       "    <tr style=\"text-align: right;\">\n",
       "      <th></th>\n",
       "      <th>Media</th>\n",
       "      <th>Estimate</th>\n",
       "      <th>Access</th>\n",
       "      <th>DMA</th>\n",
       "      <th>Market</th>\n",
       "      <th>StationId</th>\n",
       "      <th>Length</th>\n",
       "      <th>Date</th>\n",
       "      <th>Time</th>\n",
       "      <th>Spot_Cost</th>\n",
       "      <th>Spot_Type</th>\n",
       "      <th>GRP</th>\n",
       "      <th>IMP</th>\n",
       "      <th>Month</th>\n",
       "      <th>Day_Of_Week</th>\n",
       "      <th>Hour_Slot</th>\n",
       "    </tr>\n",
       "  </thead>\n",
       "  <tbody>\n",
       "    <tr>\n",
       "      <th>0</th>\n",
       "      <td>TV</td>\n",
       "      <td>Q119</td>\n",
       "      <td>GD</td>\n",
       "      <td>900</td>\n",
       "      <td>National Network</td>\n",
       "      <td>37</td>\n",
       "      <td>30</td>\n",
       "      <td>2018-12-31</td>\n",
       "      <td>00:06:00</td>\n",
       "      <td>56.0</td>\n",
       "      <td>INV</td>\n",
       "      <td>0.000</td>\n",
       "      <td>0.0</td>\n",
       "      <td>January</td>\n",
       "      <td>Monday</td>\n",
       "      <td>00</td>\n",
       "    </tr>\n",
       "    <tr>\n",
       "      <th>1</th>\n",
       "      <td>TV</td>\n",
       "      <td>Q119</td>\n",
       "      <td>TN</td>\n",
       "      <td>900</td>\n",
       "      <td>Cable</td>\n",
       "      <td>202</td>\n",
       "      <td>30</td>\n",
       "      <td>2018-12-31</td>\n",
       "      <td>00:07:00</td>\n",
       "      <td>56.0</td>\n",
       "      <td>INV</td>\n",
       "      <td>0.000</td>\n",
       "      <td>0.0</td>\n",
       "      <td>January</td>\n",
       "      <td>Monday</td>\n",
       "      <td>00</td>\n",
       "    </tr>\n",
       "    <tr>\n",
       "      <th>2</th>\n",
       "      <td>TV</td>\n",
       "      <td>Q119</td>\n",
       "      <td>PM</td>\n",
       "      <td>900</td>\n",
       "      <td>Cable</td>\n",
       "      <td>253</td>\n",
       "      <td>30</td>\n",
       "      <td>2018-12-31</td>\n",
       "      <td>00:09:00</td>\n",
       "      <td>142.4</td>\n",
       "      <td>INV</td>\n",
       "      <td>0.016</td>\n",
       "      <td>27.2</td>\n",
       "      <td>January</td>\n",
       "      <td>Monday</td>\n",
       "      <td>00</td>\n",
       "    </tr>\n",
       "    <tr>\n",
       "      <th>3</th>\n",
       "      <td>TV</td>\n",
       "      <td>Q119</td>\n",
       "      <td>PM</td>\n",
       "      <td>900</td>\n",
       "      <td>Cable</td>\n",
       "      <td>340</td>\n",
       "      <td>30</td>\n",
       "      <td>2018-12-31</td>\n",
       "      <td>00:09:00</td>\n",
       "      <td>64.0</td>\n",
       "      <td>INV</td>\n",
       "      <td>0.128</td>\n",
       "      <td>158.4</td>\n",
       "      <td>January</td>\n",
       "      <td>Monday</td>\n",
       "      <td>00</td>\n",
       "    </tr>\n",
       "    <tr>\n",
       "      <th>4</th>\n",
       "      <td>TV</td>\n",
       "      <td>Q119</td>\n",
       "      <td>GD</td>\n",
       "      <td>900</td>\n",
       "      <td>Cable</td>\n",
       "      <td>168</td>\n",
       "      <td>30</td>\n",
       "      <td>2018-12-31</td>\n",
       "      <td>00:10:00</td>\n",
       "      <td>56.0</td>\n",
       "      <td>INV</td>\n",
       "      <td>0.000</td>\n",
       "      <td>0.0</td>\n",
       "      <td>January</td>\n",
       "      <td>Monday</td>\n",
       "      <td>00</td>\n",
       "    </tr>\n",
       "  </tbody>\n",
       "</table>\n",
       "</div>"
      ],
      "text/plain": [
       "  Media Estimate Access  DMA                          Market StationId  \\\n",
       "0    TV     Q119     GD  900  National Network                      37   \n",
       "1    TV     Q119     TN  900  Cable                                202   \n",
       "2    TV     Q119     PM  900  Cable                                253   \n",
       "3    TV     Q119     PM  900  Cable                                340   \n",
       "4    TV     Q119     GD  900  Cable                                168   \n",
       "\n",
       "   Length       Date      Time  Spot_Cost Spot_Type    GRP    IMP    Month  \\\n",
       "0      30 2018-12-31  00:06:00       56.0      INV   0.000    0.0  January   \n",
       "1      30 2018-12-31  00:07:00       56.0      INV   0.000    0.0  January   \n",
       "2      30 2018-12-31  00:09:00      142.4      INV   0.016   27.2  January   \n",
       "3      30 2018-12-31  00:09:00       64.0      INV   0.128  158.4  January   \n",
       "4      30 2018-12-31  00:10:00       56.0      INV   0.000    0.0  January   \n",
       "\n",
       "  Day_Of_Week Hour_Slot  \n",
       "0      Monday        00  \n",
       "1      Monday        00  \n",
       "2      Monday        00  \n",
       "3      Monday        00  \n",
       "4      Monday        00  "
      ]
     },
     "execution_count": 19,
     "metadata": {},
     "output_type": "execute_result"
    }
   ],
   "source": [
    "dat.head()"
   ]
  },
  {
   "cell_type": "markdown",
   "metadata": {},
   "source": [
    "## Dealing with Station Outliers\n",
    "\n",
    "Used the list of outliers to identify outlier stations \n"
   ]
  },
  {
   "cell_type": "code",
   "execution_count": 20,
   "metadata": {},
   "outputs": [],
   "source": [
    "Outlier_List = ['216','184','200','311','352','10','192','15','280','252','224','350','55','95','72','28','230','140','57','345']\n"
   ]
  },
  {
   "cell_type": "code",
   "execution_count": 21,
   "metadata": {},
   "outputs": [],
   "source": [
    "dat['Outlier'] = dat.StationId.apply(lambda x: 'yes' if x in Outlier_List else 'no')"
   ]
  },
  {
   "cell_type": "code",
   "execution_count": 22,
   "metadata": {},
   "outputs": [],
   "source": [
    "dat['Outlier_Level'] = dat.Outlier.apply(lambda x: '0' if x == 'no' else '1')"
   ]
  },
  {
   "cell_type": "code",
   "execution_count": 23,
   "metadata": {},
   "outputs": [],
   "source": [
    "dat.loc[dat['Outlier_Level'] == '1','Outlier_Level'] = pd.cut(dat[dat.Outlier == 'yes']['IMP'],5, labels=[\"1\", \"2\", \"3\",'4','5'])"
   ]
  },
  {
   "cell_type": "code",
   "execution_count": 24,
   "metadata": {},
   "outputs": [
    {
     "data": {
      "text/plain": [
       "array(['0', '1', '2', '3', '4', '5'], dtype=object)"
      ]
     },
     "execution_count": 24,
     "metadata": {},
     "output_type": "execute_result"
    }
   ],
   "source": [
    "dat.Outlier_Level.unique()"
   ]
  },
  {
   "cell_type": "code",
   "execution_count": 25,
   "metadata": {},
   "outputs": [
    {
     "data": {
      "text/plain": [
       "<matplotlib.axes._subplots.AxesSubplot at 0x7fb219bf3cf8>"
      ]
     },
     "execution_count": 25,
     "metadata": {},
     "output_type": "execute_result"
    },
    {
     "data": {
      "image/png": "[encoded data removed]",
      "text/plain": [
       "<Figure size 432x288 with 1 Axes>"
      ]
     },
     "metadata": {
      "needs_background": "light"
     },
     "output_type": "display_data"
    }
   ],
   "source": [
    "pd.cut(dat[dat.Outlier == 'yes']['IMP'],5, labels=[\"1\", \"2\", \"3\",'4','5']).hist()"
   ]
  },
  {
   "cell_type": "code",
   "execution_count": 26,
   "metadata": {},
   "outputs": [
    {
     "data": {
      "text/html": [
       "<div>\n",
       "<style scoped>\n",
       "    .dataframe tbody tr th:only-of-type {\n",
       "        vertical-align: middle;\n",
       "    }\n",
       "\n",
       "    .dataframe tbody tr th {\n",
       "        vertical-align: top;\n",
       "    }\n",
       "\n",
       "    .dataframe thead th {\n",
       "        text-align: right;\n",
       "    }\n",
       "</style>\n",
       "<table border=\"1\" class=\"dataframe\">\n",
       "  <thead>\n",
       "    <tr style=\"text-align: right;\">\n",
       "      <th></th>\n",
       "      <th>Media</th>\n",
       "      <th>Estimate</th>\n",
       "      <th>Access</th>\n",
       "      <th>DMA</th>\n",
       "      <th>Market</th>\n",
       "      <th>StationId</th>\n",
       "      <th>Length</th>\n",
       "      <th>Date</th>\n",
       "      <th>Time</th>\n",
       "      <th>Spot_Cost</th>\n",
       "      <th>Spot_Type</th>\n",
       "      <th>GRP</th>\n",
       "      <th>IMP</th>\n",
       "      <th>Month</th>\n",
       "      <th>Day_Of_Week</th>\n",
       "      <th>Hour_Slot</th>\n",
       "      <th>Outlier</th>\n",
       "      <th>Outlier_Level</th>\n",
       "    </tr>\n",
       "  </thead>\n",
       "  <tbody>\n",
       "    <tr>\n",
       "      <th>0</th>\n",
       "      <td>TV</td>\n",
       "      <td>Q119</td>\n",
       "      <td>GD</td>\n",
       "      <td>900</td>\n",
       "      <td>National Network</td>\n",
       "      <td>37</td>\n",
       "      <td>30</td>\n",
       "      <td>2018-12-31</td>\n",
       "      <td>00:06:00</td>\n",
       "      <td>56.0</td>\n",
       "      <td>INV</td>\n",
       "      <td>0.000</td>\n",
       "      <td>0.0</td>\n",
       "      <td>January</td>\n",
       "      <td>Monday</td>\n",
       "      <td>00</td>\n",
       "      <td>no</td>\n",
       "      <td>0</td>\n",
       "    </tr>\n",
       "    <tr>\n",
       "      <th>1</th>\n",
       "      <td>TV</td>\n",
       "      <td>Q119</td>\n",
       "      <td>TN</td>\n",
       "      <td>900</td>\n",
       "      <td>Cable</td>\n",
       "      <td>202</td>\n",
       "      <td>30</td>\n",
       "      <td>2018-12-31</td>\n",
       "      <td>00:07:00</td>\n",
       "      <td>56.0</td>\n",
       "      <td>INV</td>\n",
       "      <td>0.000</td>\n",
       "      <td>0.0</td>\n",
       "      <td>January</td>\n",
       "      <td>Monday</td>\n",
       "      <td>00</td>\n",
       "      <td>no</td>\n",
       "      <td>0</td>\n",
       "    </tr>\n",
       "    <tr>\n",
       "      <th>2</th>\n",
       "      <td>TV</td>\n",
       "      <td>Q119</td>\n",
       "      <td>PM</td>\n",
       "      <td>900</td>\n",
       "      <td>Cable</td>\n",
       "      <td>253</td>\n",
       "      <td>30</td>\n",
       "      <td>2018-12-31</td>\n",
       "      <td>00:09:00</td>\n",
       "      <td>142.4</td>\n",
       "      <td>INV</td>\n",
       "      <td>0.016</td>\n",
       "      <td>27.2</td>\n",
       "      <td>January</td>\n",
       "      <td>Monday</td>\n",
       "      <td>00</td>\n",
       "      <td>no</td>\n",
       "      <td>0</td>\n",
       "    </tr>\n",
       "    <tr>\n",
       "      <th>3</th>\n",
       "      <td>TV</td>\n",
       "      <td>Q119</td>\n",
       "      <td>PM</td>\n",
       "      <td>900</td>\n",
       "      <td>Cable</td>\n",
       "      <td>340</td>\n",
       "      <td>30</td>\n",
       "      <td>2018-12-31</td>\n",
       "      <td>00:09:00</td>\n",
       "      <td>64.0</td>\n",
       "      <td>INV</td>\n",
       "      <td>0.128</td>\n",
       "      <td>158.4</td>\n",
       "      <td>January</td>\n",
       "      <td>Monday</td>\n",
       "      <td>00</td>\n",
       "      <td>no</td>\n",
       "      <td>0</td>\n",
       "    </tr>\n",
       "    <tr>\n",
       "      <th>4</th>\n",
       "      <td>TV</td>\n",
       "      <td>Q119</td>\n",
       "      <td>GD</td>\n",
       "      <td>900</td>\n",
       "      <td>Cable</td>\n",
       "      <td>168</td>\n",
       "      <td>30</td>\n",
       "      <td>2018-12-31</td>\n",
       "      <td>00:10:00</td>\n",
       "      <td>56.0</td>\n",
       "      <td>INV</td>\n",
       "      <td>0.000</td>\n",
       "      <td>0.0</td>\n",
       "      <td>January</td>\n",
       "      <td>Monday</td>\n",
       "      <td>00</td>\n",
       "      <td>no</td>\n",
       "      <td>0</td>\n",
       "    </tr>\n",
       "  </tbody>\n",
       "</table>\n",
       "</div>"
      ],
      "text/plain": [
       "  Media Estimate Access  DMA                          Market StationId  \\\n",
       "0    TV     Q119     GD  900  National Network                      37   \n",
       "1    TV     Q119     TN  900  Cable                                202   \n",
       "2    TV     Q119     PM  900  Cable                                253   \n",
       "3    TV     Q119     PM  900  Cable                                340   \n",
       "4    TV     Q119     GD  900  Cable                                168   \n",
       "\n",
       "   Length       Date      Time  Spot_Cost Spot_Type    GRP    IMP    Month  \\\n",
       "0      30 2018-12-31  00:06:00       56.0      INV   0.000    0.0  January   \n",
       "1      30 2018-12-31  00:07:00       56.0      INV   0.000    0.0  January   \n",
       "2      30 2018-12-31  00:09:00      142.4      INV   0.016   27.2  January   \n",
       "3      30 2018-12-31  00:09:00       64.0      INV   0.128  158.4  January   \n",
       "4      30 2018-12-31  00:10:00       56.0      INV   0.000    0.0  January   \n",
       "\n",
       "  Day_Of_Week Hour_Slot Outlier Outlier_Level  \n",
       "0      Monday        00      no             0  \n",
       "1      Monday        00      no             0  \n",
       "2      Monday        00      no             0  \n",
       "3      Monday        00      no             0  \n",
       "4      Monday        00      no             0  "
      ]
     },
     "execution_count": 26,
     "metadata": {},
     "output_type": "execute_result"
    }
   ],
   "source": [
    "dat.head()"
   ]
  },
  {
   "cell_type": "markdown",
   "metadata": {},
   "source": [
    "## Feature Selection and Split"
   ]
  },
  {
   "cell_type": "code",
   "execution_count": 27,
   "metadata": {},
   "outputs": [],
   "source": [
    "req = ['Estimate','Access','Market','StationId','Length','Spot_Cost','Spot_Type','Month','Day_Of_Week','Hour_Slot','Outlier','Outlier_Level','IMP']\n",
    "d1 = dat.loc[:,req]\n"
   ]
  },
  {
   "cell_type": "code",
   "execution_count": 28,
   "metadata": {},
   "outputs": [],
   "source": [
    "d2 = pd.get_dummies(d1)"
   ]
  },
  {
   "cell_type": "code",
   "execution_count": 29,
   "metadata": {},
   "outputs": [],
   "source": [
    "rated = d2.loc[d2.IMP != 0]\n",
    "unrated = d2.loc[d2.IMP == 0]"
   ]
  },
  {
   "cell_type": "code",
   "execution_count": 30,
   "metadata": {},
   "outputs": [
    {
     "data": {
      "text/html": [
       "<div>\n",
       "<style scoped>\n",
       "    .dataframe tbody tr th:only-of-type {\n",
       "        vertical-align: middle;\n",
       "    }\n",
       "\n",
       "    .dataframe tbody tr th {\n",
       "        vertical-align: top;\n",
       "    }\n",
       "\n",
       "    .dataframe thead th {\n",
       "        text-align: right;\n",
       "    }\n",
       "</style>\n",
       "<table border=\"1\" class=\"dataframe\">\n",
       "  <thead>\n",
       "    <tr style=\"text-align: right;\">\n",
       "      <th></th>\n",
       "      <th>Length</th>\n",
       "      <th>Spot_Cost</th>\n",
       "      <th>Estimate_Q119</th>\n",
       "      <th>Estimate_Q219</th>\n",
       "      <th>Estimate_Q319</th>\n",
       "      <th>Estimate_Q419</th>\n",
       "      <th>Access_15</th>\n",
       "      <th>Access_BP</th>\n",
       "      <th>Access_DC</th>\n",
       "      <th>Access_DE</th>\n",
       "      <th>...</th>\n",
       "      <th>Hour_Slot_22</th>\n",
       "      <th>Hour_Slot_23</th>\n",
       "      <th>Outlier_no</th>\n",
       "      <th>Outlier_yes</th>\n",
       "      <th>Outlier_Level_0</th>\n",
       "      <th>Outlier_Level_1</th>\n",
       "      <th>Outlier_Level_2</th>\n",
       "      <th>Outlier_Level_3</th>\n",
       "      <th>Outlier_Level_4</th>\n",
       "      <th>Outlier_Level_5</th>\n",
       "    </tr>\n",
       "  </thead>\n",
       "  <tbody>\n",
       "    <tr>\n",
       "      <th>0</th>\n",
       "      <td>30</td>\n",
       "      <td>56.0</td>\n",
       "      <td>1</td>\n",
       "      <td>0</td>\n",
       "      <td>0</td>\n",
       "      <td>0</td>\n",
       "      <td>0</td>\n",
       "      <td>0</td>\n",
       "      <td>0</td>\n",
       "      <td>0</td>\n",
       "      <td>...</td>\n",
       "      <td>0</td>\n",
       "      <td>0</td>\n",
       "      <td>1</td>\n",
       "      <td>0</td>\n",
       "      <td>1</td>\n",
       "      <td>0</td>\n",
       "      <td>0</td>\n",
       "      <td>0</td>\n",
       "      <td>0</td>\n",
       "      <td>0</td>\n",
       "    </tr>\n",
       "    <tr>\n",
       "      <th>1</th>\n",
       "      <td>30</td>\n",
       "      <td>56.0</td>\n",
       "      <td>1</td>\n",
       "      <td>0</td>\n",
       "      <td>0</td>\n",
       "      <td>0</td>\n",
       "      <td>0</td>\n",
       "      <td>0</td>\n",
       "      <td>0</td>\n",
       "      <td>0</td>\n",
       "      <td>...</td>\n",
       "      <td>0</td>\n",
       "      <td>0</td>\n",
       "      <td>1</td>\n",
       "      <td>0</td>\n",
       "      <td>1</td>\n",
       "      <td>0</td>\n",
       "      <td>0</td>\n",
       "      <td>0</td>\n",
       "      <td>0</td>\n",
       "      <td>0</td>\n",
       "    </tr>\n",
       "    <tr>\n",
       "      <th>4</th>\n",
       "      <td>30</td>\n",
       "      <td>56.0</td>\n",
       "      <td>1</td>\n",
       "      <td>0</td>\n",
       "      <td>0</td>\n",
       "      <td>0</td>\n",
       "      <td>0</td>\n",
       "      <td>0</td>\n",
       "      <td>0</td>\n",
       "      <td>0</td>\n",
       "      <td>...</td>\n",
       "      <td>0</td>\n",
       "      <td>0</td>\n",
       "      <td>1</td>\n",
       "      <td>0</td>\n",
       "      <td>1</td>\n",
       "      <td>0</td>\n",
       "      <td>0</td>\n",
       "      <td>0</td>\n",
       "      <td>0</td>\n",
       "      <td>0</td>\n",
       "    </tr>\n",
       "    <tr>\n",
       "      <th>5</th>\n",
       "      <td>30</td>\n",
       "      <td>268.8</td>\n",
       "      <td>1</td>\n",
       "      <td>0</td>\n",
       "      <td>0</td>\n",
       "      <td>0</td>\n",
       "      <td>0</td>\n",
       "      <td>0</td>\n",
       "      <td>0</td>\n",
       "      <td>0</td>\n",
       "      <td>...</td>\n",
       "      <td>0</td>\n",
       "      <td>0</td>\n",
       "      <td>1</td>\n",
       "      <td>0</td>\n",
       "      <td>1</td>\n",
       "      <td>0</td>\n",
       "      <td>0</td>\n",
       "      <td>0</td>\n",
       "      <td>0</td>\n",
       "      <td>0</td>\n",
       "    </tr>\n",
       "    <tr>\n",
       "      <th>6</th>\n",
       "      <td>30</td>\n",
       "      <td>80.0</td>\n",
       "      <td>1</td>\n",
       "      <td>0</td>\n",
       "      <td>0</td>\n",
       "      <td>0</td>\n",
       "      <td>0</td>\n",
       "      <td>0</td>\n",
       "      <td>0</td>\n",
       "      <td>0</td>\n",
       "      <td>...</td>\n",
       "      <td>0</td>\n",
       "      <td>0</td>\n",
       "      <td>1</td>\n",
       "      <td>0</td>\n",
       "      <td>1</td>\n",
       "      <td>0</td>\n",
       "      <td>0</td>\n",
       "      <td>0</td>\n",
       "      <td>0</td>\n",
       "      <td>0</td>\n",
       "    </tr>\n",
       "  </tbody>\n",
       "</table>\n",
       "<p>5 rows × 381 columns</p>\n",
       "</div>"
      ],
      "text/plain": [
       "   Length  Spot_Cost  Estimate_Q119  Estimate_Q219  Estimate_Q319  \\\n",
       "0      30       56.0              1              0              0   \n",
       "1      30       56.0              1              0              0   \n",
       "4      30       56.0              1              0              0   \n",
       "5      30      268.8              1              0              0   \n",
       "6      30       80.0              1              0              0   \n",
       "\n",
       "   Estimate_Q419  Access_15  Access_BP  Access_DC  Access_DE  ...  \\\n",
       "0              0          0          0          0          0  ...   \n",
       "1              0          0          0          0          0  ...   \n",
       "4              0          0          0          0          0  ...   \n",
       "5              0          0          0          0          0  ...   \n",
       "6              0          0          0          0          0  ...   \n",
       "\n",
       "   Hour_Slot_22  Hour_Slot_23  Outlier_no  Outlier_yes  Outlier_Level_0  \\\n",
       "0             0             0           1            0                1   \n",
       "1             0             0           1            0                1   \n",
       "4             0             0           1            0                1   \n",
       "5             0             0           1            0                1   \n",
       "6             0             0           1            0                1   \n",
       "\n",
       "   Outlier_Level_1  Outlier_Level_2  Outlier_Level_3  Outlier_Level_4  \\\n",
       "0                0                0                0                0   \n",
       "1                0                0                0                0   \n",
       "4                0                0                0                0   \n",
       "5                0                0                0                0   \n",
       "6                0                0                0                0   \n",
       "\n",
       "   Outlier_Level_5  \n",
       "0                0  \n",
       "1                0  \n",
       "4                0  \n",
       "5                0  \n",
       "6                0  \n",
       "\n",
       "[5 rows x 381 columns]"
      ]
     },
     "execution_count": 30,
     "metadata": {},
     "output_type": "execute_result"
    }
   ],
   "source": [
    "#Get test data to predict IMP ...unrated\n",
    "\n",
    "test_data = unrated.drop(['IMP'], axis = 1)\n",
    "test_data.head()"
   ]
  },
  {
   "cell_type": "code",
   "execution_count": 31,
   "metadata": {},
   "outputs": [
    {
     "name": "stdout",
     "output_type": "stream",
     "text": [
      "Training set has 55638 samples.\n",
      "Validation set has 23846 samples.\n"
     ]
    }
   ],
   "source": [
    "# Use rated data to split into train and validation\n",
    "label = rated['IMP']\n",
    "features = rated.drop(['IMP'], axis = 1)\n",
    "\n",
    "from sklearn.model_selection import train_test_split  \n",
    "\n",
    "X_train, X_valid, y_train, y_valid = train_test_split(features,label,test_size = 0.3,random_state = 1234)  \n",
    "\n",
    "print(\"Training set has {} samples.\".format(X_train.shape[0])) \n",
    "print(\"Validation set has {} samples.\".format(X_valid.shape[0]))"
   ]
  },
  {
   "cell_type": "markdown",
   "metadata": {},
   "source": [
    "## XGBoost Implementation"
   ]
  },
  {
   "cell_type": "code",
   "execution_count": 32,
   "metadata": {},
   "outputs": [
    {
     "name": "stdout",
     "output_type": "stream",
     "text": [
      "RMSE: 24.2072\n"
     ]
    }
   ],
   "source": [
    "from sklearn import ensemble\n",
    "from sklearn import datasets\n",
    "from sklearn.utils import shuffle\n",
    "from sklearn.metrics import mean_squared_error\n",
    "\n",
    "# Fit regression model\n",
    "params = {'n_estimators': 500, 'max_depth': 4, 'min_samples_split': 2,\n",
    "          'learning_rate': 0.01, 'loss': 'ls'}\n",
    "clf = ensemble.GradientBoostingRegressor(**params)\n",
    "\n",
    "clf.fit(X_train, y_train)\n",
    "rmse = mean_squared_error(y_valid, clf.predict(X_valid),squared=False)\n",
    "print(\"RMSE: %.4f\" % rmse)\n"
   ]
  },
  {
   "cell_type": "code",
   "execution_count": null,
   "metadata": {},
   "outputs": [],
   "source": []
  },
  {
   "cell_type": "code",
   "execution_count": 33,
   "metadata": {},
   "outputs": [
    {
     "data": {
      "text/plain": [
       "Text(0, 0.5, 'Deviance')"
      ]
     },
     "execution_count": 33,
     "metadata": {},
     "output_type": "execute_result"
    },
    {
     "data": {
      "image/png": "[encoded data removed]",
      "text/plain": [
       "<Figure size 864x432 with 1 Axes>"
      ]
     },
     "metadata": {
      "needs_background": "light"
     },
     "output_type": "display_data"
    }
   ],
   "source": [
    "# Plot training deviance\n",
    "\n",
    "# compute test set deviance\n",
    "valid_score = np.zeros((params['n_estimators'],), dtype=np.float64)\n",
    "\n",
    "for i, y_pred in enumerate(clf.staged_predict(X_valid)):\n",
    "    valid_score[i] = clf.loss_(y_valid, y_pred)\n",
    "\n",
    "plt.figure(figsize=(12, 6))\n",
    "plt.subplot(1, 2, 1)\n",
    "plt.title('Deviance')\n",
    "plt.plot(np.arange(params['n_estimators']) + 1, clf.train_score_, 'b-',\n",
    "         label='Training Set Deviance')\n",
    "plt.plot(np.arange(params['n_estimators']) + 1, valid_score, 'r-',\n",
    "         label='Validation Set Deviance')\n",
    "plt.legend(loc='upper right')\n",
    "plt.xlabel('Boosting Iterations')\n",
    "plt.ylabel('Deviance')"
   ]
  },
  {
   "cell_type": "code",
   "execution_count": 34,
   "metadata": {},
   "outputs": [
    {
     "data": {
      "image/png": "[encoded data removed]",
      "text/plain": [
       "<Figure size 432x288 with 1 Axes>"
      ]
     },
     "metadata": {
      "needs_background": "light"
     },
     "output_type": "display_data"
    }
   ],
   "source": [
    "# Plot feature importance\n",
    "feature_importance = clf.feature_importances_\n",
    "# make importances relative to max importance\n",
    "feature_importance = 100.0 * (feature_importance / feature_importance.max())\n",
    "sorted_idx = np.argsort(feature_importance)\n",
    "sorted_idx = sorted_idx[-10:]\n",
    "pos = (np.arange(sorted_idx.shape[0]) + .5)[-10:]\n",
    "plt.subplot(1, 2, 2)\n",
    "plt.barh(pos, feature_importance[sorted_idx], align='center')\n",
    "plt.yticks(pos, features.columns[sorted_idx])\n",
    "plt.xlabel('Relative Importance')\n",
    "plt.title('Variable Importance')\n",
    "plt.show()"
   ]
  },
  {
   "cell_type": "code",
   "execution_count": null,
   "metadata": {},
   "outputs": [],
   "source": []
  },
  {
   "cell_type": "code",
   "execution_count": null,
   "metadata": {},
   "outputs": [],
   "source": []
  },
  {
   "cell_type": "code",
   "execution_count": null,
   "metadata": {},
   "outputs": [],
   "source": []
  },
  {
   "cell_type": "markdown",
   "metadata": {},
   "source": [
    "## XGBoost Hyper paramter tuning"
   ]
  },
  {
   "cell_type": "code",
   "execution_count": 35,
   "metadata": {},
   "outputs": [
    {
     "data": {
      "text/html": [
       "<style type='text/css'>\n",
       ".datatable table.frame { margin-bottom: 0; }\n",
       ".datatable table.frame thead { border-bottom: none; }\n",
       ".datatable table.frame tr.coltypes td {  color: #FFFFFF;  line-height: 6px;  padding: 0 0.5em;}\n",
       ".datatable .boolean { background: #DDDD99; }\n",
       ".datatable .object  { background: #565656; }\n",
       ".datatable .integer { background: #5D9E5D; }\n",
       ".datatable .float   { background: #4040CC; }\n",
       ".datatable .string  { background: #CC4040; }\n",
       ".datatable .row_index {  background: var(--jp-border-color3);  border-right: 1px solid var(--jp-border-color0);  color: var(--jp-ui-font-color3);  font-size: 9px;}\n",
       ".datatable .frame tr.coltypes .row_index {  background: var(--jp-border-color0);}\n",
       ".datatable th:nth-child(2) { padding-left: 12px; }\n",
       ".datatable .hellipsis {  color: var(--jp-cell-editor-border-color);}\n",
       ".datatable .vellipsis {  background: var(--jp-layout-color0);  color: var(--jp-cell-editor-border-color);}\n",
       ".datatable .na {  color: var(--jp-cell-editor-border-color);  font-size: 80%;}\n",
       ".datatable .footer { font-size: 9px; }\n",
       ".datatable .frame_dimensions {  background: var(--jp-border-color3);  border-top: 1px solid var(--jp-border-color0);  color: var(--jp-ui-font-color3);  display: inline-block;  opacity: 0.6;  padding: 1px 10px 1px 5px;}\n",
       "</style>\n"
      ],
      "text/plain": [
       "<IPython.core.display.HTML object>"
      ]
     },
     "metadata": {},
     "output_type": "display_data"
    }
   ],
   "source": [
    "from xgboost.sklearn import XGBRegressor\n",
    "from sklearn.model_selection import GridSearchCV\n",
    "\n",
    "# Create the parameter grid based on the results of random search \n",
    "param_grid = {\n",
    "    'max_features': [5,10,20],\n",
    "    'min_samples_leaf': [3, 4, 5],\n",
    "    'min_samples_split': [8, 10, 12],\n",
    "    'n_estimators': [ 300, 500]\n",
    "}\n",
    "# Create a based model\n",
    "clf_base = XGBRegressor()\n",
    "# Instantiate the grid search model\n",
    "grid_search = GridSearchCV(estimator = clf_base, param_grid = param_grid, \n",
    "                          cv = 3, n_jobs = -1, verbose = 2)"
   ]
  },
  {
   "cell_type": "code",
   "execution_count": null,
   "metadata": {},
   "outputs": [],
   "source": [
    "# Fit the grid search to the data\n",
    "grid_search.fit(X_train, y_train)\n",
    "grid_search.best_params_"
   ]
  },
  {
   "cell_type": "code",
   "execution_count": null,
   "metadata": {},
   "outputs": [],
   "source": [
    "best_grid = grid_search.best_estimator_\n",
    "rmse = mean_squared_error(y_valid, best_grid.predict(X_valid),squared=False)\n",
    "print(\"RMSE: %.4f\" % rmse)\n",
    "clf = best_grid"
   ]
  },
  {
   "cell_type": "code",
   "execution_count": null,
   "metadata": {},
   "outputs": [],
   "source": [
    "# Plot training deviance\n",
    "\n",
    "# compute test set deviance\n",
    "valid_score = np.zeros((params['n_estimators'],), dtype=np.float64)\n",
    "\n",
    "for i, y_pred in enumerate(clf.staged_predict(X_valid)):\n",
    "    valid_score[i] = clf.loss_(y_valid, y_pred)\n",
    "\n",
    "plt.figure(figsize=(12, 6))\n",
    "plt.subplot(1, 2, 1)\n",
    "plt.title('Deviance')\n",
    "plt.plot(np.arange(params['n_estimators']) + 1, clf.train_score_, 'b-',\n",
    "         label='Training Set Deviance')\n",
    "plt.plot(np.arange(params['n_estimators']) + 1, valid_score, 'r-',\n",
    "         label='Validation Set Deviance')\n",
    "plt.legend(loc='upper right')\n",
    "plt.xlabel('Boosting Iterations')\n",
    "plt.ylabel('Deviance')"
   ]
  },
  {
   "cell_type": "code",
   "execution_count": null,
   "metadata": {},
   "outputs": [],
   "source": [
    "# Plot feature importance\n",
    "feature_importance = clf.feature_importances_\n",
    "# make importances relative to max importance\n",
    "feature_importance = 100.0 * (feature_importance / feature_importance.max())\n",
    "sorted_idx = np.argsort(feature_importance)\n",
    "sorted_idx = sorted_idx[-10:]\n",
    "pos = (np.arange(sorted_idx.shape[0]) + .5)[-10:]\n",
    "plt.subplot(1, 2, 2)\n",
    "plt.barh(pos, feature_importance[sorted_idx], align='center')\n",
    "plt.yticks(pos, features.columns[sorted_idx])\n",
    "plt.xlabel('Relative Importance')\n",
    "plt.title('Variable Importance')\n",
    "plt.show()"
   ]
  },
  {
   "cell_type": "markdown",
   "metadata": {},
   "source": [
    "## Random Forest Hyperparameter Tuning"
   ]
  },
  {
   "cell_type": "code",
   "execution_count": 39,
   "metadata": {},
   "outputs": [],
   "source": [
    "from sklearn.ensemble import RandomForestRegressor\n",
    "from sklearn.model_selection import GridSearchCV\n",
    "\n",
    "# Create the parameter grid based on the results of random search \n",
    "param_grid = {\n",
    "    'max_depth': [10, 30],\n",
    "    'max_features': [5,10,20 ],\n",
    "    'min_samples_leaf': [3, 5],\n",
    "    'min_samples_split': [8, 10, 12],\n",
    "    'n_estimators': [300, 500]\n",
    "}\n",
    "# Create a based model\n",
    "clf_base = RandomForestRegressor()\n",
    "# Instantiate the grid search model\n",
    "grid_search = GridSearchCV(estimator = clf_base, param_grid = param_grid, \n",
    "                          cv = 3, n_jobs = -1, verbose = 2, scoring = 'neg_root_mean_squared_error')"
   ]
  },
  {
   "cell_type": "code",
   "execution_count": 40,
   "metadata": {},
   "outputs": [
    {
     "name": "stdout",
     "output_type": "stream",
     "text": [
      "Fitting 3 folds for each of 72 candidates, totalling 216 fits\n"
     ]
    },
    {
     "name": "stderr",
     "output_type": "stream",
     "text": [
      "[Parallel(n_jobs=-1)]: Using backend LokyBackend with 4 concurrent workers.\n",
      "[Parallel(n_jobs=-1)]: Done  33 tasks      | elapsed:  1.4min\n",
      "[Parallel(n_jobs=-1)]: Done 154 tasks      | elapsed: 13.3min\n",
      "/usr/local/lib/python3.6/dist-packages/joblib/externals/loky/process_executor.py:706: UserWarning: A worker stopped while some jobs were given to the executor. This can be caused by a too short worker timeout or by a memory leak.\n",
      "  \"timeout or by a memory leak.\", UserWarning\n",
      "[Parallel(n_jobs=-1)]: Done 216 out of 216 | elapsed: 27.6min finished\n"
     ]
    },
    {
     "data": {
      "text/plain": [
       "{'max_depth': 30,\n",
       " 'max_features': 20,\n",
       " 'min_samples_leaf': 3,\n",
       " 'min_samples_split': 8,\n",
       " 'n_estimators': 500}"
      ]
     },
     "execution_count": 40,
     "metadata": {},
     "output_type": "execute_result"
    }
   ],
   "source": [
    "# Fit the grid search to the data\n",
    "grid_search.fit(X_train, y_train)\n",
    "grid_search.best_params_"
   ]
  },
  {
   "cell_type": "code",
   "execution_count": 41,
   "metadata": {},
   "outputs": [
    {
     "data": {
      "text/plain": [
       "RandomForestRegressor(bootstrap=True, ccp_alpha=0.0, criterion='mse',\n",
       "                      max_depth=30, max_features=20, max_leaf_nodes=None,\n",
       "                      max_samples=None, min_impurity_decrease=0.0,\n",
       "                      min_impurity_split=None, min_samples_leaf=3,\n",
       "                      min_samples_split=8, min_weight_fraction_leaf=0.0,\n",
       "                      n_estimators=500, n_jobs=None, oob_score=False,\n",
       "                      random_state=None, verbose=0, warm_start=False)"
      ]
     },
     "execution_count": 41,
     "metadata": {},
     "output_type": "execute_result"
    }
   ],
   "source": [
    "best_grid = grid_search.best_estimator_\n",
    "best_grid"
   ]
  },
  {
   "cell_type": "code",
   "execution_count": 68,
   "metadata": {},
   "outputs": [
    {
     "name": "stdout",
     "output_type": "stream",
     "text": [
      "RMSE: 23.9726\n"
     ]
    }
   ],
   "source": [
    "rmse = mean_squared_error(y_valid, best_grid.predict(X_valid),squared=False)\n",
    "print(\"RMSE: %.4f\" % rmse)\n",
    "clf = best_grid"
   ]
  },
  {
   "cell_type": "code",
   "execution_count": 64,
   "metadata": {},
   "outputs": [
    {
     "data": {
      "image/png": "[encoded data removed]",
      "text/plain": [
       "<Figure size 432x288 with 1 Axes>"
      ]
     },
     "metadata": {
      "needs_background": "light"
     },
     "output_type": "display_data"
    }
   ],
   "source": [
    "\n",
    "fig, ax = plt.subplots()\n",
    "sns.distplot(best_grid.predict(X_valid),bins=40, kde=False,ax=ax)\n",
    "ax.set_xlim(0,500)\n",
    "ax.set_xticks(range(0,400,100))\n",
    "plt.show()\n"
   ]
  },
  {
   "cell_type": "code",
   "execution_count": 66,
   "metadata": {},
   "outputs": [
    {
     "data": {
      "image/png": "[encoded data removed]",
      "text/plain": [
       "<Figure size 432x288 with 1 Axes>"
      ]
     },
     "metadata": {
      "needs_background": "light"
     },
     "output_type": "display_data"
    }
   ],
   "source": [
    "fig, ax = plt.subplots()\n",
    "sns.distplot(y_valid, kde=False,bins=80,ax=ax)\n",
    "ax.set_xlim(0,500)\n",
    "ax.set_xticks(range(0,400,100))\n",
    "plt.show()\n",
    "\n"
   ]
  },
  {
   "cell_type": "code",
   "execution_count": 45,
   "metadata": {},
   "outputs": [
    {
     "data": {
      "image/png": "[encoded data removed]",
      "text/plain": [
       "<Figure size 432x288 with 1 Axes>"
      ]
     },
     "metadata": {
      "needs_background": "light"
     },
     "output_type": "display_data"
    }
   ],
   "source": [
    "# Plot feature importance\n",
    "feature_importance = clf.feature_importances_\n",
    "# make importances relative to max importance\n",
    "feature_importance = 100.0 * (feature_importance / feature_importance.max())\n",
    "sorted_idx = np.argsort(feature_importance)\n",
    "sorted_idx = sorted_idx[-10:]\n",
    "pos = (np.arange(sorted_idx.shape[0]) + .5)[-10:]\n",
    "plt.subplot(1, 2, 2)\n",
    "plt.barh(pos, feature_importance[sorted_idx], align='center')\n",
    "plt.yticks(pos, features.columns[sorted_idx])\n",
    "plt.xlabel('Relative Importance')\n",
    "plt.title('Variable Importance')\n",
    "plt.show()"
   ]
  },
  {
   "cell_type": "code",
   "execution_count": null,
   "metadata": {},
   "outputs": [],
   "source": []
  },
  {
   "cell_type": "code",
   "execution_count": null,
   "metadata": {},
   "outputs": [],
   "source": []
  },
  {
   "cell_type": "code",
   "execution_count": null,
   "metadata": {},
   "outputs": [],
   "source": []
  },
  {
   "cell_type": "code",
   "execution_count": null,
   "metadata": {},
   "outputs": [],
   "source": []
  },
  {
   "cell_type": "markdown",
   "metadata": {},
   "source": [
    "## Predict on Unrated Spots "
   ]
  },
  {
   "cell_type": "code",
   "execution_count": 51,
   "metadata": {},
   "outputs": [
    {
     "name": "stderr",
     "output_type": "stream",
     "text": [
      "/usr/local/lib/python3.6/dist-packages/ipykernel_launcher.py:2: SettingWithCopyWarning: \n",
      "A value is trying to be set on a copy of a slice from a DataFrame.\n",
      "Try using .loc[row_indexer,col_indexer] = value instead\n",
      "\n",
      "See the caveats in the documentation: http://pandas.pydata.org/pandas-docs/stable/user_guide/indexing.html#returning-a-view-versus-a-copy\n",
      "  \n"
     ]
    }
   ],
   "source": [
    "\n",
    "unrated = dat.loc[dat.IMP == 0]\n",
    "unrated['Pred_IMP'] = best_grid.predict(test_data)"
   ]
  },
  {
   "cell_type": "code",
   "execution_count": 52,
   "metadata": {},
   "outputs": [
    {
     "data": {
      "text/html": [
       "<div>\n",
       "<style scoped>\n",
       "    .dataframe tbody tr th:only-of-type {\n",
       "        vertical-align: middle;\n",
       "    }\n",
       "\n",
       "    .dataframe tbody tr th {\n",
       "        vertical-align: top;\n",
       "    }\n",
       "\n",
       "    .dataframe thead th {\n",
       "        text-align: right;\n",
       "    }\n",
       "</style>\n",
       "<table border=\"1\" class=\"dataframe\">\n",
       "  <thead>\n",
       "    <tr style=\"text-align: right;\">\n",
       "      <th></th>\n",
       "      <th>Media</th>\n",
       "      <th>Estimate</th>\n",
       "      <th>Access</th>\n",
       "      <th>DMA</th>\n",
       "      <th>Market</th>\n",
       "      <th>StationId</th>\n",
       "      <th>Length</th>\n",
       "      <th>Date</th>\n",
       "      <th>Time</th>\n",
       "      <th>Spot_Cost</th>\n",
       "      <th>Spot_Type</th>\n",
       "      <th>GRP</th>\n",
       "      <th>IMP</th>\n",
       "      <th>Month</th>\n",
       "      <th>Day_Of_Week</th>\n",
       "      <th>Hour_Slot</th>\n",
       "      <th>Outlier</th>\n",
       "      <th>Outlier_Level</th>\n",
       "      <th>Pred_IMP</th>\n",
       "    </tr>\n",
       "  </thead>\n",
       "  <tbody>\n",
       "    <tr>\n",
       "      <th>0</th>\n",
       "      <td>TV</td>\n",
       "      <td>Q119</td>\n",
       "      <td>GD</td>\n",
       "      <td>900</td>\n",
       "      <td>National Network</td>\n",
       "      <td>37</td>\n",
       "      <td>30</td>\n",
       "      <td>2018-12-31</td>\n",
       "      <td>00:06:00</td>\n",
       "      <td>56.0</td>\n",
       "      <td>INV</td>\n",
       "      <td>0.0</td>\n",
       "      <td>0.0</td>\n",
       "      <td>January</td>\n",
       "      <td>Monday</td>\n",
       "      <td>00</td>\n",
       "      <td>no</td>\n",
       "      <td>0</td>\n",
       "      <td>94.055142</td>\n",
       "    </tr>\n",
       "    <tr>\n",
       "      <th>1</th>\n",
       "      <td>TV</td>\n",
       "      <td>Q119</td>\n",
       "      <td>TN</td>\n",
       "      <td>900</td>\n",
       "      <td>Cable</td>\n",
       "      <td>202</td>\n",
       "      <td>30</td>\n",
       "      <td>2018-12-31</td>\n",
       "      <td>00:07:00</td>\n",
       "      <td>56.0</td>\n",
       "      <td>INV</td>\n",
       "      <td>0.0</td>\n",
       "      <td>0.0</td>\n",
       "      <td>January</td>\n",
       "      <td>Monday</td>\n",
       "      <td>00</td>\n",
       "      <td>no</td>\n",
       "      <td>0</td>\n",
       "      <td>28.755617</td>\n",
       "    </tr>\n",
       "    <tr>\n",
       "      <th>4</th>\n",
       "      <td>TV</td>\n",
       "      <td>Q119</td>\n",
       "      <td>GD</td>\n",
       "      <td>900</td>\n",
       "      <td>Cable</td>\n",
       "      <td>168</td>\n",
       "      <td>30</td>\n",
       "      <td>2018-12-31</td>\n",
       "      <td>00:10:00</td>\n",
       "      <td>56.0</td>\n",
       "      <td>INV</td>\n",
       "      <td>0.0</td>\n",
       "      <td>0.0</td>\n",
       "      <td>January</td>\n",
       "      <td>Monday</td>\n",
       "      <td>00</td>\n",
       "      <td>no</td>\n",
       "      <td>0</td>\n",
       "      <td>29.911225</td>\n",
       "    </tr>\n",
       "    <tr>\n",
       "      <th>5</th>\n",
       "      <td>TV</td>\n",
       "      <td>Q119</td>\n",
       "      <td>GD</td>\n",
       "      <td>900</td>\n",
       "      <td>Cable</td>\n",
       "      <td>305</td>\n",
       "      <td>30</td>\n",
       "      <td>2018-12-31</td>\n",
       "      <td>00:16:00</td>\n",
       "      <td>268.8</td>\n",
       "      <td>INV</td>\n",
       "      <td>0.0</td>\n",
       "      <td>0.0</td>\n",
       "      <td>January</td>\n",
       "      <td>Monday</td>\n",
       "      <td>00</td>\n",
       "      <td>no</td>\n",
       "      <td>0</td>\n",
       "      <td>38.379141</td>\n",
       "    </tr>\n",
       "    <tr>\n",
       "      <th>6</th>\n",
       "      <td>TV</td>\n",
       "      <td>Q119</td>\n",
       "      <td>GD</td>\n",
       "      <td>900</td>\n",
       "      <td>Cable</td>\n",
       "      <td>372</td>\n",
       "      <td>30</td>\n",
       "      <td>2018-12-31</td>\n",
       "      <td>00:17:00</td>\n",
       "      <td>80.0</td>\n",
       "      <td>INV</td>\n",
       "      <td>0.0</td>\n",
       "      <td>0.0</td>\n",
       "      <td>January</td>\n",
       "      <td>Monday</td>\n",
       "      <td>00</td>\n",
       "      <td>no</td>\n",
       "      <td>0</td>\n",
       "      <td>33.212668</td>\n",
       "    </tr>\n",
       "  </tbody>\n",
       "</table>\n",
       "</div>"
      ],
      "text/plain": [
       "  Media Estimate Access  DMA                          Market StationId  \\\n",
       "0    TV     Q119     GD  900  National Network                      37   \n",
       "1    TV     Q119     TN  900  Cable                                202   \n",
       "4    TV     Q119     GD  900  Cable                                168   \n",
       "5    TV     Q119     GD  900  Cable                                305   \n",
       "6    TV     Q119     GD  900  Cable                                372   \n",
       "\n",
       "   Length       Date      Time  Spot_Cost Spot_Type  GRP  IMP    Month  \\\n",
       "0      30 2018-12-31  00:06:00       56.0      INV   0.0  0.0  January   \n",
       "1      30 2018-12-31  00:07:00       56.0      INV   0.0  0.0  January   \n",
       "4      30 2018-12-31  00:10:00       56.0      INV   0.0  0.0  January   \n",
       "5      30 2018-12-31  00:16:00      268.8      INV   0.0  0.0  January   \n",
       "6      30 2018-12-31  00:17:00       80.0      INV   0.0  0.0  January   \n",
       "\n",
       "  Day_Of_Week Hour_Slot Outlier Outlier_Level   Pred_IMP  \n",
       "0      Monday        00      no             0  94.055142  \n",
       "1      Monday        00      no             0  28.755617  \n",
       "4      Monday        00      no             0  29.911225  \n",
       "5      Monday        00      no             0  38.379141  \n",
       "6      Monday        00      no             0  33.212668  "
      ]
     },
     "execution_count": 52,
     "metadata": {},
     "output_type": "execute_result"
    }
   ],
   "source": [
    "unrated.head()"
   ]
  },
  {
   "cell_type": "code",
   "execution_count": 53,
   "metadata": {},
   "outputs": [
    {
     "data": {
      "text/plain": [
       "<matplotlib.axes._subplots.AxesSubplot at 0x7fb21a7d9860>"
      ]
     },
     "execution_count": 53,
     "metadata": {},
     "output_type": "execute_result"
    },
    {
     "data": {
      "image/png": "[encoded data removed]",
      "text/plain": [
       "<Figure size 432x288 with 1 Axes>"
      ]
     },
     "metadata": {
      "needs_background": "light"
     },
     "output_type": "display_data"
    }
   ],
   "source": [
    "sns.distplot(unrated['Pred_IMP'], kde=False)"
   ]
  },
  {
   "cell_type": "code",
   "execution_count": null,
   "metadata": {},
   "outputs": [],
   "source": []
  }
 ],
 "metadata": {
  "kernelspec": {
   "display_name": "Python 3",
   "language": "python",
   "name": "python3"
  },
  "language_info": {
   "codemirror_mode": {
    "name": "ipython",
    "version": 3
   },
   "file_extension": ".py",
   "mimetype": "text/x-python",
   "name": "python",
   "nbconvert_exporter": "python",
   "pygments_lexer": "ipython3",
   "version": "3.6.9"
  }
 },
 "nbformat": 4,
 "nbformat_minor": 4
}
