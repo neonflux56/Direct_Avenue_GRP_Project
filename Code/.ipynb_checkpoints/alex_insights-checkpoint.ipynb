{
 "cells": [
  {
   "cell_type": "code",
   "execution_count": 15,
   "metadata": {},
   "outputs": [],
   "source": [
    "import numpy as np\n",
    "import pandas as pd\n",
    "import seaborn as sns\n",
    "\n",
    "from sklearn.linear_model import LinearRegression, RidgeCV, Ridge\n",
    "from sklearn.feature_selection import SelectFromModel\n",
    "from sklearn.metrics import mean_squared_error as MSE\n",
    "from sklearn.model_selection import GridSearchCV, train_test_split\n",
    "from sklearn.utils import shuffle\n",
    "from sklearn.preprocessing import MinMaxScaler\n",
    "from sklearn.decomposition import PCA\n",
    "\n",
    "import warnings\n",
    "\n",
    "warnings.filterwarnings(\"ignore\")\n",
    "\n",
    "sns.set(rc={\"figure.figsize\": (11.7, 8.27)})"
   ]
  },
  {
   "cell_type": "code",
   "execution_count": 13,
   "metadata": {},
   "outputs": [],
   "source": [
    "dat = pd.read_csv('../Data/dat_features.csv')"
   ]
  },
  {
   "cell_type": "code",
   "execution_count": 14,
   "metadata": {},
   "outputs": [],
   "source": [
    "unseen = dat[(dat.Impressions.eq(0.0)) & (dat.GRP.eq(0.0)) | (dat.active_flag.eq(1))]\n",
    "training = dat[dat.Impressions > 0.0]"
   ]
  },
  {
   "cell_type": "code",
   "execution_count": 16,
   "metadata": {},
   "outputs": [],
   "source": [
    "labels = [\n",
    "        'Q119', 'Q219',\n",
    "        'Q319', 'Q419',\n",
    "        'BP', 'DC', 'DE', 'DP',\n",
    "        'GD', 'GX', 'PL', 'PM',\n",
    "        'PN', 'PT', 'SR', 'SV',\n",
    "        'TN', 'VE',\n",
    "        \"Length\",\n",
    "        \"Spot_Cost\",\n",
    "        \"Cable\",\n",
    "        \"DirecTV\",\n",
    "        \"Dish_Network\",\n",
    "        \"National_Network\",\n",
    "        \"Over-the-top_content\",\n",
    "        'Q1', 'Q2', 'Q3', 'Q4',\n",
    "        'bin_1', 'bin_2',\n",
    "        'bin_3', 'bin_4', 'bin_5',\n",
    "        'Daytime', 'Early_Fringe',\n",
    "        'Late_Fringe', 'Late_Night',\n",
    "        'Morning', 'Overnight',\n",
    "        'Primetime',\n",
    "        'midnight', 'one_am', 'two_am', 'three_am', 'four_am', 'five_am',\n",
    "        'six_am', 'seven_am', 'eight_am', 'nine_am', 'ten_am', 'eleven_am',\n",
    "        'noon', 'one_pm', 'two_pm', 'three_pm', 'four_pm', 'five_pm', 'six_pm',\n",
    "        'seven_pm', 'eight_pm', 'nine_pm', 'ten_pm', 'eleven_pm'\n",
    "    ]\n",
    "\n",
    "X = training.loc[:,labels]\n",
    "y = training.loc[:, \"Impressions\"]\n",
    "\n",
    "scaler_x = MinMaxScaler()\n",
    "scaler_y = MinMaxScaler()\n",
    "\n",
    "scaler_x.fit(X)\n",
    "X_scale = scaler_x.transform(X)\n",
    "\n",
    "scaler_y.fit(y.values.reshape(1, -1))\n",
    "y_scale = scaler_y.fit_transform(y.values.reshape(-1, 1))\n",
    "\n",
    "X_train, X_test, y_train, y_test = train_test_split(X_scale, y_scale, test_size=0.30)"
   ]
  },
  {
   "cell_type": "code",
   "execution_count": 26,
   "metadata": {},
   "outputs": [
    {
     "data": {
      "text/plain": [
       "PCA(copy=True, iterated_power='auto', n_components=0.95, random_state=None,\n",
       "    svd_solver='auto', tol=0.0, whiten=False)"
      ]
     },
     "execution_count": 26,
     "metadata": {},
     "output_type": "execute_result"
    }
   ],
   "source": [
    "pca = PCA(0.95)\n",
    "pca.fit(X_train)\n",
    "pca.fit(X_test)"
   ]
  },
  {
   "cell_type": "code",
   "execution_count": 27,
   "metadata": {},
   "outputs": [
    {
     "data": {
      "text/plain": [
       "Ridge(alpha=1e-10, copy_X=True, fit_intercept=True, max_iter=None,\n",
       "      normalize=False, random_state=None, solver='sag', tol=0.001)"
      ]
     },
     "execution_count": 27,
     "metadata": {},
     "output_type": "execute_result"
    }
   ],
   "source": [
    "ridge = Ridge(alpha=1e-10, solver='sag')\n",
    "\n",
    "ridge.fit(X_train, y_train)"
   ]
  },
  {
   "cell_type": "code",
   "execution_count": 30,
   "metadata": {},
   "outputs": [
    {
     "name": "stdout",
     "output_type": "stream",
     "text": [
      "35.204884658592526\n"
     ]
    }
   ],
   "source": [
    "preds = scaler_y.inverse_transform(ridge.predict(X_test))\n",
    "\n",
    "print(np.sqrt(MSE(scaler_y.inverse_transform(y_test), preds)))"
   ]
  },
  {
   "cell_type": "code",
   "execution_count": null,
   "metadata": {},
   "outputs": [],
   "source": []
  }
 ],
 "metadata": {
  "kernelspec": {
   "display_name": "Python 3.8.1 64-bit",
   "language": "python",
   "name": "python38164bite0d76cbd03eb4772b0bce64629b406d3"
  },
  "language_info": {
   "codemirror_mode": {
    "name": "ipython",
    "version": 3
   },
   "file_extension": ".py",
   "mimetype": "text/x-python",
   "name": "python",
   "nbconvert_exporter": "python",
   "pygments_lexer": "ipython3",
   "version": "3.8.1"
  }
 },
 "nbformat": 4,
 "nbformat_minor": 4
}
