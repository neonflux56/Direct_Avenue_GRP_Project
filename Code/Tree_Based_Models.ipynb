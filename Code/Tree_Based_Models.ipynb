{
 "cells": [
  {
   "cell_type": "markdown",
   "metadata": {},
   "source": [
    "# Tree Based Implementation for GRP Estimation\n",
    "## Includes data import and feature engineering"
   ]
  },
  {
   "cell_type": "markdown",
   "metadata": {},
   "source": [
    "## Import required libraries"
   ]
  },
  {
   "cell_type": "code",
   "execution_count": 143,
   "metadata": {},
   "outputs": [],
   "source": [
    "import pandas as pd\n",
    "import numpy as np\n",
    "import seaborn as sns\n",
    "import matplotlib.pyplot as plt\n",
    "\n",
    "from datetime import date\n",
    "import calendar"
   ]
  },
  {
   "cell_type": "markdown",
   "metadata": {},
   "source": [
    "## Loading datasets month wise"
   ]
  },
  {
   "cell_type": "code",
   "execution_count": 164,
   "metadata": {},
   "outputs": [],
   "source": [
    "Jan = pd.read_excel('../Data/January.xlsx')  \n",
    "Feb = pd.read_excel('../Data/February.xlsx')  \n",
    "Mar = pd.read_excel('../Data/March.xlsx')\n",
    "Apr = pd.read_excel('../Data/April.xlsx')\n",
    "May = pd.read_excel('../Data/May.xlsx')\n",
    "Jun = pd.read_excel('../Data/June.xlsx')\n",
    "Jul = pd.read_excel('../Data/July.xlsx')\n",
    "Aug = pd.read_excel('../Data/August.xlsx')\n",
    "Sept1 = pd.read_excel('../Data/September1.xlsx')\n",
    "Sept2 = pd.read_excel('../Data/September2.xlsx')\n",
    "Sept3 = pd.read_excel('../Data/September3.xlsx')\n",
    "Sept = Sept1.append(Sept2, ignore_index=True).append(Sept3,ignore_index = True)\n",
    "Oct = pd.read_excel('../Data/October.xlsx')\n",
    "Nov = pd.read_excel('../Data/November.xlsx')\n",
    "Dec1 = pd.read_excel('../Data/December1.xlsx')\n",
    "Dec2 = pd.read_excel('../Data/December2.xlsx')\n",
    "Dec = Dec1.append(Dec2, ignore_index=True)"
   ]
  },
  {
   "cell_type": "markdown",
   "metadata": {},
   "source": [
    "## Data Cleaning"
   ]
  },
  {
   "cell_type": "code",
   "execution_count": 165,
   "metadata": {},
   "outputs": [],
   "source": [
    "# Adding a month feature in all tables\n",
    "\n",
    "Jan['Month'] = 'January'\n",
    "Feb['Month'] = 'February'\n",
    "Mar['Month'] = 'March'\n",
    "Apr['Month'] = 'April'\n",
    "May['Month'] = 'May'\n",
    "Jun['Month'] = 'June'\n",
    "Jul['Month'] = 'July'\n",
    "Aug['Month'] = 'August'\n",
    "Sept['Month'] = 'September'\n",
    "Oct['Month'] = 'October'\n",
    "Nov['Month'] = 'November'\n",
    "Dec['Month'] = 'December'\n",
    "\n",
    "# Changing column names\n",
    "\n",
    "col_names = ['Media','Estimate','Access','DMA','Market','StationId','Length','Date','Time','Spot_Cost','Spot_Type','GRP','IMP','Month']\n",
    "\n",
    "Jan.columns = col_names\n",
    "Feb.columns = col_names\n",
    "Mar.columns = col_names\n",
    "Apr.columns = col_names\n",
    "May.columns = col_names\n",
    "Jun.columns = col_names\n",
    "Jul.columns = col_names\n",
    "Aug.columns = col_names\n",
    "Sept.columns = col_names\n",
    "Oct.columns = col_names\n",
    "Nov.columns = col_names\n",
    "Dec.columns = col_names\n",
    "\n",
    "# Joining all tables\n",
    "\n",
    "dat = Jan.append(Feb, ignore_index=True).append(Mar, ignore_index=True).append(Apr, ignore_index=True).append(May, ignore_index=True).append(Jun, ignore_index=True).append(Jul, ignore_index=True).append(Aug, ignore_index=True).append(Sept, ignore_index=True).append(Oct, ignore_index=True).append(Nov, ignore_index=True).append(Dec, ignore_index=True)\n",
    "dat.head()\n",
    "\n",
    "\n",
    "# Changing data types\n",
    "\n",
    "dtypes = {\n",
    "    \"Media\": str,\n",
    "    \"Estimate\": str,\n",
    "    \"Access\": str,\n",
    "    \"DMA\": str,\n",
    "    \"Market\": str,\n",
    "    \"StationId\": str,\n",
    "    \"Length\": int,\n",
    "    \"Date\": str,\n",
    "    \"Time\": str,\n",
    "    \"Spot_Cost\": float,\n",
    "    \"Spot_Type\": str,\n",
    "    \"GRP\": float,\n",
    "    \"IMP\": float,\n",
    "    \"Month\": str,\n",
    "}\n",
    "\n",
    "dat = dat.astype(dtypes)"
   ]
  },
  {
   "cell_type": "markdown",
   "metadata": {},
   "source": [
    "## Feature Engineering"
   ]
  },
  {
   "cell_type": "code",
   "execution_count": 166,
   "metadata": {},
   "outputs": [],
   "source": [
    "dat[\"Date\"] = pd.to_datetime(dat[\"Date\"], format=\"%Y-%m-%d\")\n",
    "dat[\"Day_Of_Week\"] = dat[\"Date\"].dt.day_name()\n",
    "dat[\"Hour_Slot\"] = dat.loc[:,'Time'].apply(lambda x: (x[:2]))\n",
    "dat[\"Access\"] = dat.loc[:,'Access'].apply(lambda x: (x[2:]))"
   ]
  },
  {
   "cell_type": "markdown",
   "metadata": {},
   "source": [
    "### Dealing with Station Outliers"
   ]
  },
  {
   "cell_type": "code",
   "execution_count": 167,
   "metadata": {},
   "outputs": [],
   "source": [
    "\n",
    "# We use the outlier list to identify the outliers and rank the outliers in terms of their outlierness \n",
    "Outlier_List = ['216','184','200','311','352','10','192','15','280','252','224','350','55','95','72','28','230','140','57','345']\n",
    "dat['Outlier'] = dat.StationId.apply(lambda x: 'yes' if x in Outlier_List else 'no')\n",
    "dat['Outlier_Level'] = dat.Outlier.apply(lambda x: '0' if x == 'no' else '1')\n",
    "dat.loc[dat['Outlier_Level'] == '1','Outlier_Level'] = pd.cut(dat[dat.Outlier == 'yes']['IMP'],5, labels=[\"1\", \"2\", \"3\",'4','5'])\n"
   ]
  },
  {
   "cell_type": "code",
   "execution_count": 168,
   "metadata": {},
   "outputs": [
    {
     "data": {
      "text/plain": [
       "<matplotlib.axes._subplots.AxesSubplot at 0x7f8dff967390>"
      ]
     },
     "execution_count": 168,
     "metadata": {},
     "output_type": "execute_result"
    },
    {
     "data": {
      "image/png": "[encoded data removed]",
      "text/plain": [
       "<Figure size 432x288 with 1 Axes>"
      ]
     },
     "metadata": {
      "needs_background": "light"
     },
     "output_type": "display_data"
    }
   ],
   "source": [
    "\n",
    "# Distribution of the Outlier_Level in the dataset\n",
    "pd.cut(dat[dat.Outlier == 'yes']['IMP'],5, labels=[\"1\", \"2\", \"3\",'4','5']).hist()\n"
   ]
  },
  {
   "cell_type": "markdown",
   "metadata": {},
   "source": [
    "## Joining Station Universe data"
   ]
  },
  {
   "cell_type": "code",
   "execution_count": 169,
   "metadata": {},
   "outputs": [],
   "source": [
    "station_universe = pd.read_excel('/home/jovyan/Desktop/Direct_Avenue_GRP_Project/Data/station universe.xlsx') \n",
    "station_universe.columns = ['StationId','Station_Category','Station_Size']\n",
    "dtypes = {\n",
    "    \"StationId\" : str,\n",
    "    \"Station_Category\" : str,\n",
    "    \"Station_Size\" : float\n",
    "}\n",
    "\n",
    "station_universe = station_universe.astype(dtypes)\n",
    "dat = pd.merge(dat,station_universe, on = ['StationId'], how = 'left')"
   ]
  },
  {
   "cell_type": "code",
   "execution_count": 170,
   "metadata": {},
   "outputs": [],
   "source": [
    "# Create new audience size column\n",
    "dat['Audience_Size'] = dat['GRP']*dat['Station_Size']\n",
    "\n",
    "# Remove null values caused by left join\n",
    "dat = dat.dropna()"
   ]
  },
  {
   "cell_type": "markdown",
   "metadata": {},
   "source": [
    "## Feature Selection and Split"
   ]
  },
  {
   "cell_type": "code",
   "execution_count": 171,
   "metadata": {},
   "outputs": [],
   "source": [
    "req = ['Estimate','Market','StationId','Length','Spot_Cost','Day_Of_Week','Hour_Slot','Outlier_Level','Audience_Size']\n",
    "d1 = dat.loc[:,req]"
   ]
  },
  {
   "cell_type": "code",
   "execution_count": 172,
   "metadata": {},
   "outputs": [
    {
     "data": {
      "text/html": [
       "<div>\n",
       "<style scoped>\n",
       "    .dataframe tbody tr th:only-of-type {\n",
       "        vertical-align: middle;\n",
       "    }\n",
       "\n",
       "    .dataframe tbody tr th {\n",
       "        vertical-align: top;\n",
       "    }\n",
       "\n",
       "    .dataframe thead th {\n",
       "        text-align: right;\n",
       "    }\n",
       "</style>\n",
       "<table border=\"1\" class=\"dataframe\">\n",
       "  <thead>\n",
       "    <tr style=\"text-align: right;\">\n",
       "      <th></th>\n",
       "      <th>Estimate</th>\n",
       "      <th>Market</th>\n",
       "      <th>StationId</th>\n",
       "      <th>Length</th>\n",
       "      <th>Spot_Cost</th>\n",
       "      <th>Day_Of_Week</th>\n",
       "      <th>Hour_Slot</th>\n",
       "      <th>Outlier_Level</th>\n",
       "      <th>Audience_Size</th>\n",
       "    </tr>\n",
       "  </thead>\n",
       "  <tbody>\n",
       "    <tr>\n",
       "      <th>0</th>\n",
       "      <td>Q119</td>\n",
       "      <td>National Network</td>\n",
       "      <td>37</td>\n",
       "      <td>30</td>\n",
       "      <td>56.0</td>\n",
       "      <td>Monday</td>\n",
       "      <td>00</td>\n",
       "      <td>0</td>\n",
       "      <td>0.000</td>\n",
       "    </tr>\n",
       "    <tr>\n",
       "      <th>1</th>\n",
       "      <td>Q119</td>\n",
       "      <td>Cable</td>\n",
       "      <td>202</td>\n",
       "      <td>30</td>\n",
       "      <td>56.0</td>\n",
       "      <td>Monday</td>\n",
       "      <td>00</td>\n",
       "      <td>0</td>\n",
       "      <td>0.000</td>\n",
       "    </tr>\n",
       "    <tr>\n",
       "      <th>2</th>\n",
       "      <td>Q119</td>\n",
       "      <td>Cable</td>\n",
       "      <td>253</td>\n",
       "      <td>30</td>\n",
       "      <td>142.4</td>\n",
       "      <td>Monday</td>\n",
       "      <td>00</td>\n",
       "      <td>0</td>\n",
       "      <td>0.656</td>\n",
       "    </tr>\n",
       "    <tr>\n",
       "      <th>3</th>\n",
       "      <td>Q119</td>\n",
       "      <td>Cable</td>\n",
       "      <td>340</td>\n",
       "      <td>30</td>\n",
       "      <td>64.0</td>\n",
       "      <td>Monday</td>\n",
       "      <td>00</td>\n",
       "      <td>0</td>\n",
       "      <td>7.680</td>\n",
       "    </tr>\n",
       "    <tr>\n",
       "      <th>4</th>\n",
       "      <td>Q119</td>\n",
       "      <td>Cable</td>\n",
       "      <td>168</td>\n",
       "      <td>30</td>\n",
       "      <td>56.0</td>\n",
       "      <td>Monday</td>\n",
       "      <td>00</td>\n",
       "      <td>0</td>\n",
       "      <td>0.000</td>\n",
       "    </tr>\n",
       "  </tbody>\n",
       "</table>\n",
       "</div>"
      ],
      "text/plain": [
       "  Estimate                          Market StationId  Length  Spot_Cost  \\\n",
       "0     Q119  National Network                      37      30       56.0   \n",
       "1     Q119  Cable                                202      30       56.0   \n",
       "2     Q119  Cable                                253      30      142.4   \n",
       "3     Q119  Cable                                340      30       64.0   \n",
       "4     Q119  Cable                                168      30       56.0   \n",
       "\n",
       "  Day_Of_Week Hour_Slot Outlier_Level  Audience_Size  \n",
       "0      Monday        00             0          0.000  \n",
       "1      Monday        00             0          0.000  \n",
       "2      Monday        00             0          0.656  \n",
       "3      Monday        00             0          7.680  \n",
       "4      Monday        00             0          0.000  "
      ]
     },
     "execution_count": 172,
     "metadata": {},
     "output_type": "execute_result"
    }
   ],
   "source": [
    "d1.head()"
   ]
  },
  {
   "cell_type": "code",
   "execution_count": 173,
   "metadata": {},
   "outputs": [],
   "source": [
    "# Convert to one hot encoding\n",
    "d2 = pd.get_dummies(d1)\n",
    "\n",
    "# split data into rated and unrated\n",
    "rated = d2.loc[d2.Audience_Size != 0]\n",
    "unrated = d2.loc[d2.Audience_Size == 0]\n",
    "\n",
    "#Get test data to predict Audience size ...unrated\n",
    "test_data = unrated.drop(['Audience_Size'], axis = 1)"
   ]
  },
  {
   "cell_type": "code",
   "execution_count": 174,
   "metadata": {},
   "outputs": [
    {
     "name": "stdout",
     "output_type": "stream",
     "text": [
      "Training set has 39601 samples.\n",
      "Validation set has 16973 samples.\n"
     ]
    }
   ],
   "source": [
    "# Use rated data to split into train and validation\n",
    "label = rated['Audience_Size']\n",
    "features = rated.drop(['Audience_Size'], axis = 1)\n",
    "\n",
    "from sklearn.model_selection import train_test_split  \n",
    "\n",
    "X_train, X_valid, y_train, y_valid = train_test_split(features,label,test_size = 0.3,random_state = 1234)  \n",
    "\n",
    "print(\"Training set has {} samples.\".format(X_train.shape[0])) \n",
    "print(\"Validation set has {} samples.\".format(X_valid.shape[0]))"
   ]
  },
  {
   "cell_type": "markdown",
   "metadata": {},
   "source": [
    "## Gradient Boosting Regressor Implementation (NO TUNING)"
   ]
  },
  {
   "cell_type": "code",
   "execution_count": 175,
   "metadata": {},
   "outputs": [
    {
     "name": "stdout",
     "output_type": "stream",
     "text": [
      "RMSE: 1.3694\n"
     ]
    }
   ],
   "source": [
    "from sklearn import ensemble\n",
    "from sklearn import datasets\n",
    "from sklearn.utils import shuffle\n",
    "from sklearn.metrics import mean_squared_error\n",
    "\n",
    "# Fit regression model\n",
    "\n",
    "params = {'n_estimators': 500, 'max_depth': 4, 'min_samples_split': 2,\n",
    "          'learning_rate': 0.01, 'loss': 'ls'}\n",
    "    \n",
    "clf = ensemble.GradientBoostingRegressor(**params)\n",
    "\n",
    "clf.fit(X_train, y_train)\n",
    "rmse = mean_squared_error(y_valid, clf.predict(X_valid),squared=False)\n",
    "print(\"RMSE: %.4f\" % rmse)\n"
   ]
  },
  {
   "cell_type": "code",
   "execution_count": 176,
   "metadata": {},
   "outputs": [
    {
     "data": {
      "text/plain": [
       "Text(0, 0.5, 'Deviance')"
      ]
     },
     "execution_count": 176,
     "metadata": {},
     "output_type": "execute_result"
    },
    {
     "data": {
      "image/png": "[encoded data removed]",
      "text/plain": [
       "<Figure size 864x432 with 1 Axes>"
      ]
     },
     "metadata": {
      "needs_background": "light"
     },
     "output_type": "display_data"
    }
   ],
   "source": [
    "# Plot training deviance\n",
    "\n",
    "# compute test set deviance\n",
    "valid_score = np.zeros((params['n_estimators'],), dtype=np.float64)\n",
    "\n",
    "for i, y_pred in enumerate(clf.staged_predict(X_valid)):\n",
    "    valid_score[i] = clf.loss_(y_valid, y_pred)\n",
    "\n",
    "plt.figure(figsize=(12, 6))\n",
    "plt.subplot(1, 2, 1)\n",
    "plt.title('Deviance')\n",
    "plt.plot(np.arange(params['n_estimators']) + 1, clf.train_score_, 'b-',\n",
    "         label='Training Set Deviance')\n",
    "plt.plot(np.arange(params['n_estimators']) + 1, valid_score, 'r-',\n",
    "         label='Validation Set Deviance')\n",
    "plt.legend(loc='upper right')\n",
    "plt.xlabel('Boosting Iterations')\n",
    "plt.ylabel('Deviance')"
   ]
  },
  {
   "cell_type": "code",
   "execution_count": 177,
   "metadata": {},
   "outputs": [
    {
     "data": {
      "image/png": "[encoded data removed]",
      "text/plain": [
       "<Figure size 432x288 with 1 Axes>"
      ]
     },
     "metadata": {
      "needs_background": "light"
     },
     "output_type": "display_data"
    }
   ],
   "source": [
    "# Plot feature importance\n",
    "feature_importance = clf.feature_importances_\n",
    "# make importances relative to max importance\n",
    "feature_importance = 100.0 * (feature_importance / feature_importance.max())\n",
    "sorted_idx = np.argsort(feature_importance)\n",
    "sorted_idx = sorted_idx[-10:]\n",
    "pos = (np.arange(sorted_idx.shape[0]) + .5)[-10:]\n",
    "plt.subplot(1, 2, 2)\n",
    "plt.barh(pos, feature_importance[sorted_idx], align='center')\n",
    "plt.yticks(pos, features.columns[sorted_idx])\n",
    "plt.xlabel('Relative Importance')\n",
    "plt.title('Variable Importance')\n",
    "plt.show()"
   ]
  },
  {
   "cell_type": "markdown",
   "metadata": {},
   "source": [
    "## XGBoost Regressor ( Hyper paramter tuning )"
   ]
  },
  {
   "cell_type": "code",
   "execution_count": 138,
   "metadata": {},
   "outputs": [],
   "source": [
    "from xgboost.sklearn import XGBRegressor\n",
    "from sklearn.model_selection import GridSearchCV\n",
    "\n",
    "# Create the parameter grid based on the results of random search \n",
    "param_grid = {\n",
    "    'max_features': [5,10,20],\n",
    "    'min_samples_leaf': [3, 4, 5],\n",
    "    'min_samples_split': [8, 10, 12],\n",
    "    'n_estimators': [ 300, 500]\n",
    "}\n",
    "# Create a based model\n",
    "clf_base = XGBRegressor()\n",
    "# Instantiate the grid search model\n",
    "grid_search = GridSearchCV(estimator = clf_base, param_grid = param_grid, \n",
    "                          cv = 3, n_jobs = -1, verbose = 2,scoring = 'neg_root_mean_squared_error')"
   ]
  },
  {
   "cell_type": "code",
   "execution_count": 110,
   "metadata": {},
   "outputs": [
    {
     "name": "stdout",
     "output_type": "stream",
     "text": [
      "Fitting 3 folds for each of 54 candidates, totalling 162 fits\n"
     ]
    },
    {
     "name": "stderr",
     "output_type": "stream",
     "text": [
      "[Parallel(n_jobs=-1)]: Using backend LokyBackend with 4 concurrent workers.\n",
      "[Parallel(n_jobs=-1)]: Done  33 tasks      | elapsed: 35.4min\n",
      "[Parallel(n_jobs=-1)]: Done 154 tasks      | elapsed: 105.5min\n",
      "[Parallel(n_jobs=-1)]: Done 162 out of 162 | elapsed: 111.0min finished\n",
      "/usr/local/lib/python3.6/dist-packages/xgboost/core.py:587: FutureWarning: Series.base is deprecated and will be removed in a future version\n",
      "  if getattr(data, 'base', None) is not None and \\\n"
     ]
    },
    {
     "name": "stdout",
     "output_type": "stream",
     "text": [
      "[02:24:21] WARNING: /workspace/src/objective/regression_obj.cu:152: reg:linear is now deprecated in favor of reg:squarederror.\n"
     ]
    },
    {
     "data": {
      "text/plain": [
       "{'max_features': 5,\n",
       " 'min_samples_leaf': 3,\n",
       " 'min_samples_split': 8,\n",
       " 'n_estimators': 500}"
      ]
     },
     "execution_count": 110,
     "metadata": {},
     "output_type": "execute_result"
    }
   ],
   "source": [
    "# Fit the grid search to the data\n",
    "grid_search.fit(X_train, y_train)\n",
    "grid_search.best_params_"
   ]
  },
  {
   "cell_type": "code",
   "execution_count": 178,
   "metadata": {},
   "outputs": [
    {
     "name": "stdout",
     "output_type": "stream",
     "text": [
      "RMSE: 1.1702\n"
     ]
    }
   ],
   "source": [
    "best_grid = grid_search.best_estimator_\n",
    "rmse = mean_squared_error(y_valid, best_grid.predict(X_valid),squared=False)\n",
    "print(\"RMSE: %.4f\" % rmse)\n",
    "clf = best_grid"
   ]
  },
  {
   "cell_type": "code",
   "execution_count": 179,
   "metadata": {},
   "outputs": [
    {
     "data": {
      "text/plain": [
       "XGBRegressor(base_score=0.5, booster='gbtree', colsample_bylevel=1,\n",
       "             colsample_bynode=1, colsample_bytree=1, gamma=0,\n",
       "             importance_type='gain', learning_rate=0.1, max_delta_step=0,\n",
       "             max_depth=3, max_features=5, min_child_weight=1,\n",
       "             min_samples_leaf=3, min_samples_split=8, missing=None,\n",
       "             n_estimators=500, n_jobs=1, nthread=None, objective='reg:linear',\n",
       "             random_state=0, reg_alpha=0, reg_lambda=1, scale_pos_weight=1,\n",
       "             seed=None, silent=None, subsample=1, verbosity=1)"
      ]
     },
     "execution_count": 179,
     "metadata": {},
     "output_type": "execute_result"
    }
   ],
   "source": [
    "best_grid"
   ]
  },
  {
   "cell_type": "code",
   "execution_count": 180,
   "metadata": {},
   "outputs": [
    {
     "data": {
      "image/png": "[encoded data removed]",
      "text/plain": [
       "<Figure size 432x288 with 1 Axes>"
      ]
     },
     "metadata": {
      "needs_background": "light"
     },
     "output_type": "display_data"
    }
   ],
   "source": [
    "# Plot feature importance\n",
    "feature_importance = clf.feature_importances_\n",
    "# make importances relative to max importance\n",
    "feature_importance = 100.0 * (feature_importance / feature_importance.max())\n",
    "sorted_idx = np.argsort(feature_importance)\n",
    "sorted_idx = sorted_idx[-10:]\n",
    "pos = (np.arange(sorted_idx.shape[0]) + .5)[-10:]\n",
    "plt.subplot(1, 2, 2)\n",
    "plt.barh(pos, feature_importance[sorted_idx], align='center')\n",
    "plt.yticks(pos, features.columns[sorted_idx])\n",
    "plt.xlabel('Relative Importance')\n",
    "plt.title('Variable Importance')\n",
    "plt.show()"
   ]
  },
  {
   "cell_type": "code",
   "execution_count": 181,
   "metadata": {},
   "outputs": [
    {
     "data": {
      "image/png": "[encoded data removed]",
      "text/plain": [
       "<Figure size 432x288 with 1 Axes>"
      ]
     },
     "metadata": {
      "needs_background": "light"
     },
     "output_type": "display_data"
    }
   ],
   "source": [
    "fig, ax = plt.subplots()\n",
    "sns.distplot(best_grid.predict(X_valid),bins=80, kde=False,ax=ax)\n",
    "ax.set_xlim(0,20)\n",
    "ax.set_ylim(0,8000)\n",
    "#ax.set_xticks(range(0,400,100))\n",
    "plt.show()\n"
   ]
  },
  {
   "cell_type": "code",
   "execution_count": 182,
   "metadata": {},
   "outputs": [
    {
     "data": {
      "image/png": "[encoded data removed]",
      "text/plain": [
       "<Figure size 432x288 with 1 Axes>"
      ]
     },
     "metadata": {
      "needs_background": "light"
     },
     "output_type": "display_data"
    }
   ],
   "source": [
    "fig, ax = plt.subplots()\n",
    "sns.distplot(y_valid, kde=False,bins=80,ax=ax)\n",
    "ax.set_xlim(0,20)\n",
    "ax.set_ylim(0,8000)\n",
    "#ax.set_xticks(range(0,400,100))\n",
    "plt.show()\n",
    "\n"
   ]
  },
  {
   "cell_type": "markdown",
   "metadata": {},
   "source": [
    "## Random Forest ( Hyperparameter Tuning )"
   ]
  },
  {
   "cell_type": "code",
   "execution_count": 132,
   "metadata": {},
   "outputs": [],
   "source": [
    "from sklearn.ensemble import RandomForestRegressor\n",
    "from sklearn.model_selection import GridSearchCV\n",
    "\n",
    "# Create the parameter grid based on the results of random search \n",
    "param_grid = {\n",
    "    'max_depth': [10],\n",
    "    'max_features': [5,10 ],\n",
    "    'min_samples_leaf': [3, 5],\n",
    "    'min_samples_split': [8],\n",
    "    'n_estimators': [300]\n",
    "}\n",
    "# Create a based model\n",
    "clf_base = RandomForestRegressor()\n",
    "# Instantiate the grid search model\n",
    "grid_searchrf = GridSearchCV(estimator = clf_base, param_grid = param_grid, \n",
    "                          cv = 3, n_jobs = -1, verbose = 2, scoring = 'neg_root_mean_squared_error')"
   ]
  },
  {
   "cell_type": "code",
   "execution_count": 133,
   "metadata": {},
   "outputs": [
    {
     "name": "stdout",
     "output_type": "stream",
     "text": [
      "Fitting 3 folds for each of 4 candidates, totalling 12 fits\n"
     ]
    },
    {
     "name": "stderr",
     "output_type": "stream",
     "text": [
      "[Parallel(n_jobs=-1)]: Using backend LokyBackend with 4 concurrent workers.\n",
      "[Parallel(n_jobs=-1)]: Done  12 out of  12 | elapsed:   51.1s remaining:    0.0s\n",
      "[Parallel(n_jobs=-1)]: Done  12 out of  12 | elapsed:   51.2s finished\n"
     ]
    },
    {
     "data": {
      "text/plain": [
       "{'max_depth': 10,\n",
       " 'max_features': 10,\n",
       " 'min_samples_leaf': 3,\n",
       " 'min_samples_split': 8,\n",
       " 'n_estimators': 300}"
      ]
     },
     "execution_count": 133,
     "metadata": {},
     "output_type": "execute_result"
    }
   ],
   "source": [
    "# Fit the grid search to the data\n",
    "grid_searchrf.fit(X_train, y_train)\n",
    "grid_searchrf.best_params_"
   ]
  },
  {
   "cell_type": "code",
   "execution_count": 134,
   "metadata": {},
   "outputs": [
    {
     "data": {
      "text/plain": [
       "RandomForestRegressor(bootstrap=True, ccp_alpha=0.0, criterion='mse',\n",
       "                      max_depth=10, max_features=10, max_leaf_nodes=None,\n",
       "                      max_samples=None, min_impurity_decrease=0.0,\n",
       "                      min_impurity_split=None, min_samples_leaf=3,\n",
       "                      min_samples_split=8, min_weight_fraction_leaf=0.0,\n",
       "                      n_estimators=300, n_jobs=None, oob_score=False,\n",
       "                      random_state=None, verbose=0, warm_start=False)"
      ]
     },
     "execution_count": 134,
     "metadata": {},
     "output_type": "execute_result"
    }
   ],
   "source": [
    "best_gridrf = grid_searchrf.best_estimator_\n",
    "best_gridrf"
   ]
  },
  {
   "cell_type": "code",
   "execution_count": 135,
   "metadata": {},
   "outputs": [
    {
     "name": "stdout",
     "output_type": "stream",
     "text": [
      "RMSE: 2.2309\n"
     ]
    }
   ],
   "source": [
    "rmse = mean_squared_error(y_valid, best_gridrf.predict(X_valid),squared=False)\n",
    "print(\"RMSE: %.4f\" % rmse)\n",
    "clfrf = best_gridrf"
   ]
  },
  {
   "cell_type": "code",
   "execution_count": 136,
   "metadata": {},
   "outputs": [
    {
     "data": {
      "image/png": "[encoded data removed]",
      "text/plain": [
       "<Figure size 432x288 with 1 Axes>"
      ]
     },
     "metadata": {
      "needs_background": "light"
     },
     "output_type": "display_data"
    }
   ],
   "source": [
    "# Plot feature importance\n",
    "feature_importance = clfrf.feature_importances_\n",
    "# make importances relative to max importance\n",
    "feature_importance = 100.0 * (feature_importance / feature_importance.max())\n",
    "sorted_idx = np.argsort(feature_importance)\n",
    "sorted_idx = sorted_idx[-10:]\n",
    "pos = (np.arange(sorted_idx.shape[0]) + .5)[-10:]\n",
    "plt.subplot(1, 2, 2)\n",
    "plt.barh(pos, feature_importance[sorted_idx], align='center')\n",
    "plt.yticks(pos, features.columns[sorted_idx])\n",
    "plt.xlabel('Relative Importance')\n",
    "plt.title('Variable Importance')\n",
    "plt.show()"
   ]
  },
  {
   "cell_type": "markdown",
   "metadata": {},
   "source": [
    "## Predict on Unrated Spots "
   ]
  },
  {
   "cell_type": "markdown",
   "metadata": {},
   "source": [
    "Clearly the best model obtained is the tuned XGboost model from XGBRegressor() with the lowest RMSE of 1.17 on the validation set. This model is used to predict on the unrated data, ie, where the audience size is zero."
   ]
  },
  {
   "cell_type": "code",
   "execution_count": 188,
   "metadata": {},
   "outputs": [
    {
     "data": {
      "text/plain": [
       "['../finalized_model.sav']"
      ]
     },
     "execution_count": 188,
     "metadata": {},
     "output_type": "execute_result"
    }
   ],
   "source": [
    "# Export the best model using joblib\n",
    "\n",
    "import joblib\n",
    "\n",
    "model = best_grid\n",
    "# save the model to disk\n",
    "filename = 'finalized_model.sav'\n",
    "joblib.dump(model, '../' + filename)\n",
    "\n",
    "# FOLLOW THE CODE BELOW TO LOAD SAVED MODEL\n",
    "# loaded_model = joblib.load(filename)"
   ]
  },
  {
   "cell_type": "code",
   "execution_count": 189,
   "metadata": {},
   "outputs": [
    {
     "name": "stderr",
     "output_type": "stream",
     "text": [
      "/usr/local/lib/python3.6/dist-packages/ipykernel_launcher.py:2: SettingWithCopyWarning: \n",
      "A value is trying to be set on a copy of a slice from a DataFrame.\n",
      "Try using .loc[row_indexer,col_indexer] = value instead\n",
      "\n",
      "See the caveats in the documentation: http://pandas.pydata.org/pandas-docs/stable/user_guide/indexing.html#returning-a-view-versus-a-copy\n",
      "  \n"
     ]
    }
   ],
   "source": [
    "unrated = dat.loc[dat.Audience_Size == 0]\n",
    "unrated['Estimated_Audience_Size'] = model.predict(test_data)"
   ]
  },
  {
   "cell_type": "code",
   "execution_count": 190,
   "metadata": {},
   "outputs": [
    {
     "data": {
      "text/html": [
       "<div>\n",
       "<style scoped>\n",
       "    .dataframe tbody tr th:only-of-type {\n",
       "        vertical-align: middle;\n",
       "    }\n",
       "\n",
       "    .dataframe tbody tr th {\n",
       "        vertical-align: top;\n",
       "    }\n",
       "\n",
       "    .dataframe thead th {\n",
       "        text-align: right;\n",
       "    }\n",
       "</style>\n",
       "<table border=\"1\" class=\"dataframe\">\n",
       "  <thead>\n",
       "    <tr style=\"text-align: right;\">\n",
       "      <th></th>\n",
       "      <th>Media</th>\n",
       "      <th>Estimate</th>\n",
       "      <th>Access</th>\n",
       "      <th>DMA</th>\n",
       "      <th>Market</th>\n",
       "      <th>StationId</th>\n",
       "      <th>Length</th>\n",
       "      <th>Date</th>\n",
       "      <th>Time</th>\n",
       "      <th>Spot_Cost</th>\n",
       "      <th>...</th>\n",
       "      <th>IMP</th>\n",
       "      <th>Month</th>\n",
       "      <th>Day_Of_Week</th>\n",
       "      <th>Hour_Slot</th>\n",
       "      <th>Outlier</th>\n",
       "      <th>Outlier_Level</th>\n",
       "      <th>Station_Category</th>\n",
       "      <th>Station_Size</th>\n",
       "      <th>Audience_Size</th>\n",
       "      <th>Estimated_Audience_Size</th>\n",
       "    </tr>\n",
       "  </thead>\n",
       "  <tbody>\n",
       "    <tr>\n",
       "      <th>0</th>\n",
       "      <td>TV</td>\n",
       "      <td>Q119</td>\n",
       "      <td>GD</td>\n",
       "      <td>900</td>\n",
       "      <td>National Network</td>\n",
       "      <td>37</td>\n",
       "      <td>30</td>\n",
       "      <td>2018-12-31</td>\n",
       "      <td>00:06:00</td>\n",
       "      <td>56.0</td>\n",
       "      <td>...</td>\n",
       "      <td>0.0</td>\n",
       "      <td>January</td>\n",
       "      <td>Monday</td>\n",
       "      <td>00</td>\n",
       "      <td>no</td>\n",
       "      <td>0</td>\n",
       "      <td>News</td>\n",
       "      <td>41.0</td>\n",
       "      <td>0.0</td>\n",
       "      <td>4.059373</td>\n",
       "    </tr>\n",
       "    <tr>\n",
       "      <th>1</th>\n",
       "      <td>TV</td>\n",
       "      <td>Q119</td>\n",
       "      <td>TN</td>\n",
       "      <td>900</td>\n",
       "      <td>Cable</td>\n",
       "      <td>202</td>\n",
       "      <td>30</td>\n",
       "      <td>2018-12-31</td>\n",
       "      <td>00:07:00</td>\n",
       "      <td>56.0</td>\n",
       "      <td>...</td>\n",
       "      <td>0.0</td>\n",
       "      <td>January</td>\n",
       "      <td>Monday</td>\n",
       "      <td>00</td>\n",
       "      <td>no</td>\n",
       "      <td>0</td>\n",
       "      <td>Variety</td>\n",
       "      <td>30.0</td>\n",
       "      <td>0.0</td>\n",
       "      <td>1.087565</td>\n",
       "    </tr>\n",
       "    <tr>\n",
       "      <th>4</th>\n",
       "      <td>TV</td>\n",
       "      <td>Q119</td>\n",
       "      <td>GD</td>\n",
       "      <td>900</td>\n",
       "      <td>Cable</td>\n",
       "      <td>168</td>\n",
       "      <td>30</td>\n",
       "      <td>2018-12-31</td>\n",
       "      <td>00:10:00</td>\n",
       "      <td>56.0</td>\n",
       "      <td>...</td>\n",
       "      <td>0.0</td>\n",
       "      <td>January</td>\n",
       "      <td>Monday</td>\n",
       "      <td>00</td>\n",
       "      <td>no</td>\n",
       "      <td>0</td>\n",
       "      <td>Lifestyle</td>\n",
       "      <td>12.5</td>\n",
       "      <td>0.0</td>\n",
       "      <td>1.087565</td>\n",
       "    </tr>\n",
       "    <tr>\n",
       "      <th>5</th>\n",
       "      <td>TV</td>\n",
       "      <td>Q119</td>\n",
       "      <td>GD</td>\n",
       "      <td>900</td>\n",
       "      <td>Cable</td>\n",
       "      <td>305</td>\n",
       "      <td>30</td>\n",
       "      <td>2018-12-31</td>\n",
       "      <td>00:16:00</td>\n",
       "      <td>268.8</td>\n",
       "      <td>...</td>\n",
       "      <td>0.0</td>\n",
       "      <td>January</td>\n",
       "      <td>Monday</td>\n",
       "      <td>00</td>\n",
       "      <td>no</td>\n",
       "      <td>0</td>\n",
       "      <td>Sports</td>\n",
       "      <td>38.0</td>\n",
       "      <td>0.0</td>\n",
       "      <td>2.500762</td>\n",
       "    </tr>\n",
       "    <tr>\n",
       "      <th>6</th>\n",
       "      <td>TV</td>\n",
       "      <td>Q119</td>\n",
       "      <td>GD</td>\n",
       "      <td>900</td>\n",
       "      <td>Cable</td>\n",
       "      <td>372</td>\n",
       "      <td>30</td>\n",
       "      <td>2018-12-31</td>\n",
       "      <td>00:17:00</td>\n",
       "      <td>80.0</td>\n",
       "      <td>...</td>\n",
       "      <td>0.0</td>\n",
       "      <td>January</td>\n",
       "      <td>Monday</td>\n",
       "      <td>00</td>\n",
       "      <td>no</td>\n",
       "      <td>0</td>\n",
       "      <td>News</td>\n",
       "      <td>50.0</td>\n",
       "      <td>0.0</td>\n",
       "      <td>1.176099</td>\n",
       "    </tr>\n",
       "  </tbody>\n",
       "</table>\n",
       "<p>5 rows × 22 columns</p>\n",
       "</div>"
      ],
      "text/plain": [
       "  Media Estimate Access  DMA                          Market StationId  \\\n",
       "0    TV     Q119     GD  900  National Network                      37   \n",
       "1    TV     Q119     TN  900  Cable                                202   \n",
       "4    TV     Q119     GD  900  Cable                                168   \n",
       "5    TV     Q119     GD  900  Cable                                305   \n",
       "6    TV     Q119     GD  900  Cable                                372   \n",
       "\n",
       "   Length       Date      Time  Spot_Cost  ...  IMP    Month  Day_Of_Week  \\\n",
       "0      30 2018-12-31  00:06:00       56.0  ...  0.0  January       Monday   \n",
       "1      30 2018-12-31  00:07:00       56.0  ...  0.0  January       Monday   \n",
       "4      30 2018-12-31  00:10:00       56.0  ...  0.0  January       Monday   \n",
       "5      30 2018-12-31  00:16:00      268.8  ...  0.0  January       Monday   \n",
       "6      30 2018-12-31  00:17:00       80.0  ...  0.0  January       Monday   \n",
       "\n",
       "  Hour_Slot Outlier Outlier_Level Station_Category Station_Size Audience_Size  \\\n",
       "0        00      no             0             News         41.0           0.0   \n",
       "1        00      no             0          Variety         30.0           0.0   \n",
       "4        00      no             0        Lifestyle         12.5           0.0   \n",
       "5        00      no             0           Sports         38.0           0.0   \n",
       "6        00      no             0             News         50.0           0.0   \n",
       "\n",
       "   Estimated_Audience_Size  \n",
       "0                 4.059373  \n",
       "1                 1.087565  \n",
       "4                 1.087565  \n",
       "5                 2.500762  \n",
       "6                 1.176099  \n",
       "\n",
       "[5 rows x 22 columns]"
      ]
     },
     "execution_count": 190,
     "metadata": {},
     "output_type": "execute_result"
    }
   ],
   "source": [
    "unrated.head()"
   ]
  },
  {
   "cell_type": "code",
   "execution_count": 191,
   "metadata": {},
   "outputs": [
    {
     "data": {
      "image/png": "[encoded data removed]",
      "text/plain": [
       "<Figure size 432x288 with 1 Axes>"
      ]
     },
     "metadata": {
      "needs_background": "light"
     },
     "output_type": "display_data"
    }
   ],
   "source": [
    "# Plot the distribution of predicted audience size on the unrated data\n",
    "\n",
    "fig, ax = plt.subplots()\n",
    "sns.distplot(unrated['Estimated_Audience_Size'], kde=False,bins=80,ax=ax)\n",
    "ax.set_xlim(0,20)\n",
    "#ax.set_ylim(0,1000)\n",
    "#ax.set_xticks(range(0,400,100))\n",
    "plt.show()\n"
   ]
  },
  {
   "cell_type": "markdown",
   "metadata": {},
   "source": [
    "## GRP and REACH Estimation"
   ]
  },
  {
   "cell_type": "code",
   "execution_count": 211,
   "metadata": {},
   "outputs": [
    {
     "name": "stderr",
     "output_type": "stream",
     "text": [
      "/usr/local/lib/python3.6/dist-packages/ipykernel_launcher.py:3: SettingWithCopyWarning: \n",
      "A value is trying to be set on a copy of a slice from a DataFrame.\n",
      "Try using .loc[row_indexer,col_indexer] = value instead\n",
      "\n",
      "See the caveats in the documentation: http://pandas.pydata.org/pandas-docs/stable/user_guide/indexing.html#returning-a-view-versus-a-copy\n",
      "  This is separate from the ipykernel package so we can avoid doing imports until\n",
      "/usr/local/lib/python3.6/dist-packages/pandas/core/indexing.py:494: SettingWithCopyWarning: \n",
      "A value is trying to be set on a copy of a slice from a DataFrame.\n",
      "Try using .loc[row_indexer,col_indexer] = value instead\n",
      "\n",
      "See the caveats in the documentation: http://pandas.pydata.org/pandas-docs/stable/user_guide/indexing.html#returning-a-view-versus-a-copy\n",
      "  self.obj[item] = s\n"
     ]
    },
    {
     "data": {
      "image/png": "[encoded data removed]",
      "text/plain": [
       "<Figure size 1080x576 with 1 Axes>"
      ]
     },
     "metadata": {},
     "output_type": "display_data"
    }
   ],
   "source": [
    "\n",
    "# Estimate Ratings/GRP\n",
    "\n",
    "unrated['Estimated_GRP'] = unrated['Estimated_Audience_Size'] / unrated['Station_Size']\n",
    "unrated.loc[unrated['Estimated_GRP'] < 0,'Estimated_GRP'] = 0\n",
    "\n",
    "# Plot the distribution of predicted audience size on the unrated data\n",
    "sns.set(style='darkgrid')\n",
    "\n",
    "plt.rcParams[\"figure.figsize\"] = [15,8]\n",
    "sns.set(font_scale=1.5)\n",
    "xhigh = 2.4\n",
    "plt.xlim(0,xhigh)\n",
    "temp = unrated[(unrated['Estimated_GRP'] <= xhigh) ]\n",
    "sns.distplot(temp['Estimated_GRP'], kde=False,bins=100)\n",
    "plt.show()"
   ]
  },
  {
   "cell_type": "code",
   "execution_count": 216,
   "metadata": {},
   "outputs": [
    {
     "name": "stdout",
     "output_type": "stream",
     "text": [
      "The mean GRP Estimated is:\n"
     ]
    },
    {
     "data": {
      "text/plain": [
       "0.10780117859079634"
      ]
     },
     "execution_count": 216,
     "metadata": {},
     "output_type": "execute_result"
    }
   ],
   "source": [
    "print('The mean GRP Estimated is:')\n",
    "np.mean(unrated['Estimated_GRP'])"
   ]
  },
  {
   "cell_type": "code",
   "execution_count": 219,
   "metadata": {},
   "outputs": [
    {
     "name": "stderr",
     "output_type": "stream",
     "text": [
      "/usr/local/lib/python3.6/dist-packages/ipykernel_launcher.py:4: SettingWithCopyWarning: \n",
      "A value is trying to be set on a copy of a slice from a DataFrame.\n",
      "Try using .loc[row_indexer,col_indexer] = value instead\n",
      "\n",
      "See the caveats in the documentation: http://pandas.pydata.org/pandas-docs/stable/user_guide/indexing.html#returning-a-view-versus-a-copy\n",
      "  after removing the cwd from sys.path.\n"
     ]
    },
    {
     "data": {
      "image/png": "[encoded data removed]",
      "text/plain": [
       "<Figure size 1080x576 with 1 Axes>"
      ]
     },
     "metadata": {},
     "output_type": "display_data"
    }
   ],
   "source": [
    "\n",
    "# Estimate REACH\n",
    "# We select frequecy metric = 1.25 as a reasonable approximation to get REACH \n",
    "\n",
    "unrated['Estimated_REACH'] = (unrated['Estimated_GRP'] / 1.25) \n",
    "\n",
    "# Plot the distribution of predicted audience size on the unrated data\n",
    "sns.set(style='darkgrid')\n",
    "\n",
    "plt.rcParams[\"figure.figsize\"] = [15,8]\n",
    "sns.set(font_scale=1.5)\n",
    "xhigh = 2\n",
    "plt.xlim(0,xhigh)\n",
    "temp = unrated[(unrated['Estimated_REACH'] <= xhigh) ]\n",
    "sns.distplot(temp['Estimated_REACH'], kde=False,bins=100)\n",
    "plt.show()"
   ]
  },
  {
   "cell_type": "code",
   "execution_count": 220,
   "metadata": {},
   "outputs": [
    {
     "name": "stdout",
     "output_type": "stream",
     "text": [
      "The mean REACH Estimated is:\n"
     ]
    },
    {
     "data": {
      "text/plain": [
       "0.08624094287263706"
      ]
     },
     "execution_count": 220,
     "metadata": {},
     "output_type": "execute_result"
    }
   ],
   "source": [
    "print('The mean REACH Estimated is:')\n",
    "np.mean(unrated['Estimated_REACH'])"
   ]
  },
  {
   "cell_type": "code",
   "execution_count": 221,
   "metadata": {},
   "outputs": [
    {
     "data": {
      "text/html": [
       "<div>\n",
       "<style scoped>\n",
       "    .dataframe tbody tr th:only-of-type {\n",
       "        vertical-align: middle;\n",
       "    }\n",
       "\n",
       "    .dataframe tbody tr th {\n",
       "        vertical-align: top;\n",
       "    }\n",
       "\n",
       "    .dataframe thead th {\n",
       "        text-align: right;\n",
       "    }\n",
       "</style>\n",
       "<table border=\"1\" class=\"dataframe\">\n",
       "  <thead>\n",
       "    <tr style=\"text-align: right;\">\n",
       "      <th></th>\n",
       "      <th>Media</th>\n",
       "      <th>Estimate</th>\n",
       "      <th>Access</th>\n",
       "      <th>DMA</th>\n",
       "      <th>Market</th>\n",
       "      <th>StationId</th>\n",
       "      <th>Length</th>\n",
       "      <th>Date</th>\n",
       "      <th>Time</th>\n",
       "      <th>Spot_Cost</th>\n",
       "      <th>...</th>\n",
       "      <th>Day_Of_Week</th>\n",
       "      <th>Hour_Slot</th>\n",
       "      <th>Outlier</th>\n",
       "      <th>Outlier_Level</th>\n",
       "      <th>Station_Category</th>\n",
       "      <th>Station_Size</th>\n",
       "      <th>Audience_Size</th>\n",
       "      <th>Estimated_Audience_Size</th>\n",
       "      <th>Estimated_GRP</th>\n",
       "      <th>Estimated_REACH</th>\n",
       "    </tr>\n",
       "  </thead>\n",
       "  <tbody>\n",
       "    <tr>\n",
       "      <th>0</th>\n",
       "      <td>TV</td>\n",
       "      <td>Q119</td>\n",
       "      <td>GD</td>\n",
       "      <td>900</td>\n",
       "      <td>National Network</td>\n",
       "      <td>37</td>\n",
       "      <td>30</td>\n",
       "      <td>2018-12-31</td>\n",
       "      <td>00:06:00</td>\n",
       "      <td>56.0</td>\n",
       "      <td>...</td>\n",
       "      <td>Monday</td>\n",
       "      <td>00</td>\n",
       "      <td>no</td>\n",
       "      <td>0</td>\n",
       "      <td>News</td>\n",
       "      <td>41.0</td>\n",
       "      <td>0.0</td>\n",
       "      <td>4.059373</td>\n",
       "      <td>0.099009</td>\n",
       "      <td>0.079207</td>\n",
       "    </tr>\n",
       "    <tr>\n",
       "      <th>1</th>\n",
       "      <td>TV</td>\n",
       "      <td>Q119</td>\n",
       "      <td>TN</td>\n",
       "      <td>900</td>\n",
       "      <td>Cable</td>\n",
       "      <td>202</td>\n",
       "      <td>30</td>\n",
       "      <td>2018-12-31</td>\n",
       "      <td>00:07:00</td>\n",
       "      <td>56.0</td>\n",
       "      <td>...</td>\n",
       "      <td>Monday</td>\n",
       "      <td>00</td>\n",
       "      <td>no</td>\n",
       "      <td>0</td>\n",
       "      <td>Variety</td>\n",
       "      <td>30.0</td>\n",
       "      <td>0.0</td>\n",
       "      <td>1.087565</td>\n",
       "      <td>0.036252</td>\n",
       "      <td>0.029002</td>\n",
       "    </tr>\n",
       "    <tr>\n",
       "      <th>4</th>\n",
       "      <td>TV</td>\n",
       "      <td>Q119</td>\n",
       "      <td>GD</td>\n",
       "      <td>900</td>\n",
       "      <td>Cable</td>\n",
       "      <td>168</td>\n",
       "      <td>30</td>\n",
       "      <td>2018-12-31</td>\n",
       "      <td>00:10:00</td>\n",
       "      <td>56.0</td>\n",
       "      <td>...</td>\n",
       "      <td>Monday</td>\n",
       "      <td>00</td>\n",
       "      <td>no</td>\n",
       "      <td>0</td>\n",
       "      <td>Lifestyle</td>\n",
       "      <td>12.5</td>\n",
       "      <td>0.0</td>\n",
       "      <td>1.087565</td>\n",
       "      <td>0.087005</td>\n",
       "      <td>0.069604</td>\n",
       "    </tr>\n",
       "    <tr>\n",
       "      <th>5</th>\n",
       "      <td>TV</td>\n",
       "      <td>Q119</td>\n",
       "      <td>GD</td>\n",
       "      <td>900</td>\n",
       "      <td>Cable</td>\n",
       "      <td>305</td>\n",
       "      <td>30</td>\n",
       "      <td>2018-12-31</td>\n",
       "      <td>00:16:00</td>\n",
       "      <td>268.8</td>\n",
       "      <td>...</td>\n",
       "      <td>Monday</td>\n",
       "      <td>00</td>\n",
       "      <td>no</td>\n",
       "      <td>0</td>\n",
       "      <td>Sports</td>\n",
       "      <td>38.0</td>\n",
       "      <td>0.0</td>\n",
       "      <td>2.500762</td>\n",
       "      <td>0.065810</td>\n",
       "      <td>0.052648</td>\n",
       "    </tr>\n",
       "    <tr>\n",
       "      <th>6</th>\n",
       "      <td>TV</td>\n",
       "      <td>Q119</td>\n",
       "      <td>GD</td>\n",
       "      <td>900</td>\n",
       "      <td>Cable</td>\n",
       "      <td>372</td>\n",
       "      <td>30</td>\n",
       "      <td>2018-12-31</td>\n",
       "      <td>00:17:00</td>\n",
       "      <td>80.0</td>\n",
       "      <td>...</td>\n",
       "      <td>Monday</td>\n",
       "      <td>00</td>\n",
       "      <td>no</td>\n",
       "      <td>0</td>\n",
       "      <td>News</td>\n",
       "      <td>50.0</td>\n",
       "      <td>0.0</td>\n",
       "      <td>1.176099</td>\n",
       "      <td>0.023522</td>\n",
       "      <td>0.018818</td>\n",
       "    </tr>\n",
       "  </tbody>\n",
       "</table>\n",
       "<p>5 rows × 24 columns</p>\n",
       "</div>"
      ],
      "text/plain": [
       "  Media Estimate Access  DMA                          Market StationId  \\\n",
       "0    TV     Q119     GD  900  National Network                      37   \n",
       "1    TV     Q119     TN  900  Cable                                202   \n",
       "4    TV     Q119     GD  900  Cable                                168   \n",
       "5    TV     Q119     GD  900  Cable                                305   \n",
       "6    TV     Q119     GD  900  Cable                                372   \n",
       "\n",
       "   Length       Date      Time  Spot_Cost  ... Day_Of_Week  Hour_Slot  \\\n",
       "0      30 2018-12-31  00:06:00       56.0  ...      Monday         00   \n",
       "1      30 2018-12-31  00:07:00       56.0  ...      Monday         00   \n",
       "4      30 2018-12-31  00:10:00       56.0  ...      Monday         00   \n",
       "5      30 2018-12-31  00:16:00      268.8  ...      Monday         00   \n",
       "6      30 2018-12-31  00:17:00       80.0  ...      Monday         00   \n",
       "\n",
       "   Outlier Outlier_Level Station_Category Station_Size Audience_Size  \\\n",
       "0       no             0             News         41.0           0.0   \n",
       "1       no             0          Variety         30.0           0.0   \n",
       "4       no             0        Lifestyle         12.5           0.0   \n",
       "5       no             0           Sports         38.0           0.0   \n",
       "6       no             0             News         50.0           0.0   \n",
       "\n",
       "  Estimated_Audience_Size Estimated_GRP  Estimated_REACH  \n",
       "0                4.059373      0.099009         0.079207  \n",
       "1                1.087565      0.036252         0.029002  \n",
       "4                1.087565      0.087005         0.069604  \n",
       "5                2.500762      0.065810         0.052648  \n",
       "6                1.176099      0.023522         0.018818  \n",
       "\n",
       "[5 rows x 24 columns]"
      ]
     },
     "execution_count": 221,
     "metadata": {},
     "output_type": "execute_result"
    }
   ],
   "source": [
    "unrated.head()"
   ]
  },
  {
   "cell_type": "markdown",
   "metadata": {},
   "source": [
    "## Export Final UNRATED DATA"
   ]
  },
  {
   "cell_type": "code",
   "execution_count": 222,
   "metadata": {},
   "outputs": [],
   "source": [
    "# Export the unrated data with Audience Size predictions, GRP and REACH to csv\n",
    "\n",
    "unrated.to_csv('../Unrated_Estimates.csv')"
   ]
  }
 ],
 "metadata": {
  "kernelspec": {
   "display_name": "Python 3",
   "language": "python",
   "name": "python3"
  },
  "language_info": {
   "codemirror_mode": {
    "name": "ipython",
    "version": 3
   },
   "file_extension": ".py",
   "mimetype": "text/x-python",
   "name": "python",
   "nbconvert_exporter": "python",
   "pygments_lexer": "ipython3",
   "version": "3.6.9"
  }
 },
 "nbformat": 4,
 "nbformat_minor": 4
}
